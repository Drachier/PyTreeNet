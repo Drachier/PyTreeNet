{
 "cells": [
  {
   "cell_type": "code",
   "execution_count": 1,
   "metadata": {},
   "outputs": [],
   "source": [
    "import numpy as np\n",
    "import pytreenet as ptn\n",
    "from copy import deepcopy\n",
    "import matplotlib.pyplot as plt\n",
    "import random"
   ]
  },
  {
   "cell_type": "code",
   "execution_count": 2,
   "metadata": {},
   "outputs": [],
   "source": [
    "d = 2\n",
    "\n",
    "shapes = {\n",
    "    (0, 0): (2, 2, d),\n",
    "    (0, 1): (2, 2, 2, d),\n",
    "    (0, 2): (2, 2, d),\n",
    "    (1, 0): (2, 2, d),\n",
    "    (1, 1): (2, d),\n",
    "    (1, 2): (2, d),\n",
    "    (2, 0): (2, 2, d),\n",
    "    (2, 1): (2, 2, d),\n",
    "    (2, 2): (2, d)}\n",
    "nodes = {\n",
    "    (i, j): ptn.random_tensor_node(shapes[(i, j)], identifier=f\"Site({i},{j})\") for i in range(3) for j in range(3)\n",
    "}\n",
    "\n",
    "ttn = ptn.TreeTensorNetworkState()\n",
    "\n",
    "ttn.add_root(nodes[(0, 0)][0], nodes[(0, 0)][1])\n",
    "\n",
    "connections = [\n",
    "    ((0, 0), (0, 1), 0, 0),\n",
    "    ((0, 1), (1, 1), 1, 0),\n",
    "    ((0, 1), (0, 2), 2, 0),\n",
    "    ((0, 2), (1, 2), 1, 0),\n",
    "    ((0, 0), (1, 0), 1, 0),\n",
    "    ((1, 0), (2, 0), 1, 0),\n",
    "    ((2, 0), (2, 1), 2, 0),\n",
    "    ((2, 1), (2, 2), 1, 0)]\n",
    "\n",
    "for (parent, child, parent_leg, child_leg) in connections:\n",
    "    parent_id = f\"Site({parent[0]},{parent[1]})\"\n",
    "    child_id = f\"Site({child[0]},{child[1]})\"\n",
    "    ttn.add_child_to_parent(nodes[child][0], nodes[child][1], child_leg, parent_id, parent_leg)"
   ]
  },
  {
   "cell_type": "code",
   "execution_count": 3,
   "metadata": {},
   "outputs": [],
   "source": [
    "local_state = np.array([0,1])\n",
    "ttn = ptn.uniform_product_state(ttn ,local_state, bond_dim= 2)\n",
    "\n",
    "black_state = np.array([0,1])\n",
    "white_state = np.array([1,0])\n",
    "ttn = ptn.alternating_product_state(ttn, black_state, white_state, bond_dim = 1,  pattern = \"checkerboard\")"
   ]
  },
  {
   "cell_type": "code",
   "execution_count": 4,
   "metadata": {},
   "outputs": [],
   "source": [
    "#ttn.canonical_form(\"Site(2,2)\" , ptn.SplitMode.FULL)\n",
    "#ttn.canonical_form(\"Site(1,2)\" , ptn.SplitMode.REDUCED)\n",
    "#ttn.canonical_form(\"Site(2,2)\" , ptn.SplitMode.REDUCED)"
   ]
  },
  {
   "cell_type": "code",
   "execution_count": 5,
   "metadata": {},
   "outputs": [],
   "source": [
    "t = 0.1\n",
    "u = 4\n",
    "m = 1\n",
    "Lx = 3\n",
    "Ly = 3\n",
    "\n",
    "H1 = ptn.BoseHubbard_ham(t, u, m, Lx, Ly, d)\n",
    "H1 = H1.pad_with_identities(ttn , symbolic= True)\n",
    "ttno = ptn.TTNO.from_hamiltonian(H1, ttn)\n",
    "\n",
    "I = ptn.TTNO.Identity(ttn)\n",
    "\n",
    "Corr = ptn.Correlation_function(\"Site(0,0)\", \"Site(2,2)\", d)\n",
    "Corr = Corr.pad_with_identities(ttn, symbolic= True)\n",
    "Corr = ptn.TTNO.from_hamiltonian(Corr, ttn)\n",
    "\n",
    "spatial_corr_dist_1 = ptn.spatial_correlation_function(Lx, Ly, 1, d)\n",
    "spatial_corr_dist_1 = spatial_corr_dist_1.pad_with_identities(ttn, symbolic= True)\n",
    "spatial_corr_dist_1 = ptn.TTNO.from_hamiltonian(spatial_corr_dist_1, ttn)\n",
    "\n",
    "spatial_corr_dist_2 = ptn.spatial_correlation_function(Lx, Ly, 2, d)\n",
    "spatial_corr_dist_2 = spatial_corr_dist_2.pad_with_identities(ttn, symbolic= True)\n",
    "spatial_corr_dist_2 = ptn.TTNO.from_hamiltonian(spatial_corr_dist_2, ttn)\n",
    "\n",
    "node_id_list = list(ttn.nodes.keys())\n",
    "N_local_list = []\n",
    "for node_id in node_id_list:\n",
    "    N_local = ptn.Number_op_local(node_id, d)\n",
    "    N_local = N_local.pad_with_identities(ttn, symbolic= True)\n",
    "    N_local = ptn.TTNO.from_hamiltonian(N_local, ttn)\n",
    "    N_local_list.append(N_local)\n",
    "\n",
    "N = ptn.Number_op_total(Lx, Ly, d)\n",
    "N = N.pad_with_identities(ttn, symbolic= True)\n",
    "N = ptn.TTNO.from_hamiltonian(N, ttn)    \n",
    "\n",
    "random_op = ptn.Random_op(ttn, Lx= Lx, Ly= Ly, dim = d, seed= 10)\n",
    "random_op = random_op.pad_with_identities(ttn, symbolic= False)\n",
    "Rand = ptn.TTNO.from_hamiltonian(random_op, ttn)"
   ]
  },
  {
   "cell_type": "code",
   "execution_count": 6,
   "metadata": {},
   "outputs": [
    {
     "name": "stdout",
     "output_type": "stream",
     "text": [
      "State vector shape:  (2, 2, 2, 2, 2, 2, 2, 2, 2)\n",
      "State order:  ['Site(0,0)', 'Site(0,1)', 'Site(1,1)', 'Site(0,2)', 'Site(1,2)', 'Site(1,0)', 'Site(2,0)', 'Site(2,1)', 'Site(2,2)']\n",
      "ham_order ['Site(0,0)', 'Site(0,1)', 'Site(1,1)', 'Site(0,2)', 'Site(1,2)', 'Site(1,0)', 'Site(2,0)', 'Site(2,1)', 'Site(2,2)']\n",
      "L_tn.shape (2, 2, 2, 2, 2, 2, 2, 2, 2, 2, 2, 2, 2, 2, 2, 2, 2, 2)\n",
      "op_order ['Site(0,0)', 'Site(0,1)', 'Site(1,1)', 'Site(0,2)', 'Site(1,2)', 'Site(1,0)', 'Site(2,0)', 'Site(2,1)', 'Site(2,2)']\n",
      "op.shape (2, 2, 2, 2, 2, 2, 2, 2, 2, 2, 2, 2, 2, 2, 2, 2, 2, 2)\n",
      "op_order ['Site(0,0)', 'Site(0,1)', 'Site(1,1)', 'Site(0,2)', 'Site(1,2)', 'Site(1,0)', 'Site(2,0)', 'Site(2,1)', 'Site(2,2)']\n",
      "op.shape (2, 2, 2, 2, 2, 2, 2, 2, 2, 2, 2, 2, 2, 2, 2, 2, 2, 2)\n"
     ]
    }
   ],
   "source": [
    "L = Lx * Ly\n",
    "\n",
    "# state_vector\n",
    "state_vector , state_order = ttn.completely_contract_tree(to_copy= True)\n",
    "print(\"State vector shape: \", state_vector.shape)\n",
    "print(\"State order: \", state_order)\n",
    "state_vector = state_vector.reshape((d**L))\n",
    "\n",
    "# BH hamiltonian matrix\n",
    "BH_exact = ptn.BoseHubbard_ham(t, u, m, Lx, Ly, d)\n",
    "BH_exact = BH_exact.pad_with_identities(ttn , symbolic= True)\n",
    "BH_exact = BH_exact.to_tensor(ttn)\n",
    "print(\"ham_order\", BH_exact.node_identifiers)\n",
    "BH_exact = BH_exact.operator\n",
    "print( \"L_tn.shape\" , BH_exact.shape) \n",
    "BH_exact = BH_exact.reshape((d**L , d**L))\n",
    "BH_exact = BH_exact.T\n",
    "\n",
    "# Correlation function matrix\n",
    "Corr_exact = ptn.Correlation_function(\"Site(0,0)\", \"Site(2,2)\", d)\n",
    "Corr_exact = Corr_exact.pad_with_identities(ttn, symbolic= True)\n",
    "Corr_exact = Corr_exact.to_tensor(ttn)\n",
    "print(\"op_order\" , Corr_exact.node_identifiers)\n",
    "Corr_exact = Corr_exact.operator\n",
    "print(\"op.shape\" , Corr_exact.shape) \n",
    "Corr_exact= Corr_exact.reshape((d**L, d**L))\n",
    "Corr_exact = Corr_exact.T\n",
    "\n",
    "# Spatial correlation function matrix\n",
    "spatial_corr_dist_2_exact = ptn.spatial_correlation_function(Lx, Ly, 2, d)\n",
    "spatial_corr_dist_2_exact = spatial_corr_dist_2_exact.pad_with_identities(ttn, symbolic= True)\n",
    "spatial_corr_dist_2_exact = spatial_corr_dist_2_exact.to_tensor(ttn)\n",
    "print(\"op_order\" , spatial_corr_dist_2_exact.node_identifiers)\n",
    "spatial_corr_dist_2_exact = spatial_corr_dist_2_exact.operator\n",
    "print(\"op.shape\" , spatial_corr_dist_2_exact.shape)\n",
    "spatial_corr_dist_2_exact = spatial_corr_dist_2_exact.reshape((d**L, d**L))\n",
    "spatial_corr_dist_2_exact = spatial_corr_dist_2_exact.T"
   ]
  },
  {
   "cell_type": "code",
   "execution_count": 7,
   "metadata": {},
   "outputs": [
    {
     "ename": "AttributeError",
     "evalue": "module 'pytreenet' has no attribute 'ExpansionMode'",
     "output_type": "error",
     "traceback": [
      "\u001b[1;31m---------------------------------------------------------------------------\u001b[0m",
      "\u001b[1;31mAttributeError\u001b[0m                            Traceback (most recent call last)",
      "Cell \u001b[1;32mIn[7], line 11\u001b[0m\n\u001b[0;32m      1\u001b[0m exact \u001b[38;5;241m=\u001b[39m ptn\u001b[38;5;241m.\u001b[39mExactTimeEvolution(initial_state \u001b[38;5;241m=\u001b[39m state_vector, \n\u001b[0;32m      2\u001b[0m                                hamiltonian \u001b[38;5;241m=\u001b[39m BH_exact, \n\u001b[0;32m      3\u001b[0m                                time_step_size \u001b[38;5;241m=\u001b[39m \u001b[38;5;241m0.001\u001b[39m,\n\u001b[0;32m      4\u001b[0m                                final_time\u001b[38;5;241m=\u001b[39m \u001b[38;5;241m0.1\u001b[39m,\n\u001b[0;32m      5\u001b[0m                                operators\u001b[38;5;241m=\u001b[39m spatial_corr_dist_2_exact)\n\u001b[0;32m      7\u001b[0m lanczos_params \u001b[38;5;241m=\u001b[39m  {\u001b[38;5;124m'\u001b[39m\u001b[38;5;124mN_min\u001b[39m\u001b[38;5;124m'\u001b[39m: \u001b[38;5;241m2\u001b[39m,   \n\u001b[0;32m      8\u001b[0m                    \u001b[38;5;124m'\u001b[39m\u001b[38;5;124mN_max\u001b[39m\u001b[38;5;124m'\u001b[39m: \u001b[38;5;241m20\u001b[39m,           \n\u001b[0;32m      9\u001b[0m                    \u001b[38;5;124m'\u001b[39m\u001b[38;5;124mP_tol\u001b[39m\u001b[38;5;124m'\u001b[39m: \u001b[38;5;241m1e-6\u001b[39m,          \n\u001b[0;32m     10\u001b[0m                    \u001b[38;5;124m'\u001b[39m\u001b[38;5;124mreortho\u001b[39m\u001b[38;5;124m'\u001b[39m: \u001b[38;5;28;01mTrue\u001b[39;00m,}\n\u001b[1;32m---> 11\u001b[0m expansion_params \u001b[38;5;241m=\u001b[39m {\u001b[38;5;124m\"\u001b[39m\u001b[38;5;124mExpansionMode\u001b[39m\u001b[38;5;124m\"\u001b[39m: \u001b[43mptn\u001b[49m\u001b[38;5;241;43m.\u001b[39;49m\u001b[43mExpansionMode\u001b[49m\u001b[38;5;241m.\u001b[39mPartial_T3N,\n\u001b[0;32m     12\u001b[0m                     \u001b[38;5;124m\"\u001b[39m\u001b[38;5;124mnum_vecs\u001b[39m\u001b[38;5;124m\"\u001b[39m: \u001b[38;5;241m1\u001b[39m,\n\u001b[0;32m     13\u001b[0m                     \u001b[38;5;124m\"\u001b[39m\u001b[38;5;124mtau\u001b[39m\u001b[38;5;124m\"\u001b[39m: \u001b[38;5;241m1e-2\u001b[39m,\n\u001b[0;32m     14\u001b[0m                     \u001b[38;5;124m\"\u001b[39m\u001b[38;5;124mSVDParameters\u001b[39m\u001b[38;5;124m\"\u001b[39m: ptn\u001b[38;5;241m.\u001b[39mSVDParameters(max_bond_dim \u001b[38;5;241m=\u001b[39m np\u001b[38;5;241m.\u001b[39minf , rel_tol\u001b[38;5;241m=\u001b[39m \u001b[38;5;241m-\u001b[39mnp\u001b[38;5;241m.\u001b[39minf , total_tol \u001b[38;5;241m=\u001b[39m \u001b[38;5;241m-\u001b[39mnp\u001b[38;5;241m.\u001b[39minf),\n\u001b[0;32m     15\u001b[0m                     \u001b[38;5;124m\"\u001b[39m\u001b[38;5;124mexpansion_steps\u001b[39m\u001b[38;5;124m\"\u001b[39m: \u001b[38;5;241m100\u001b[39m,\n\u001b[0;32m     16\u001b[0m                     \u001b[38;5;124m\"\u001b[39m\u001b[38;5;124mtol\u001b[39m\u001b[38;5;124m\"\u001b[39m: \u001b[38;5;241m1e-60\u001b[39m,\n\u001b[0;32m     17\u001b[0m                     \u001b[38;5;124m\"\u001b[39m\u001b[38;5;124mtol_step\u001b[39m\u001b[38;5;124m\"\u001b[39m: \u001b[38;5;241m1e5\u001b[39m,\n\u001b[0;32m     18\u001b[0m                     \u001b[38;5;124m\"\u001b[39m\u001b[38;5;124mmax_bond\u001b[39m\u001b[38;5;124m\"\u001b[39m: \u001b[38;5;241m80\u001b[39m,\n\u001b[0;32m     19\u001b[0m                     \u001b[38;5;124m\"\u001b[39m\u001b[38;5;124mrel_tot_bond\u001b[39m\u001b[38;5;124m\"\u001b[39m: np\u001b[38;5;241m.\u001b[39minf,\n\u001b[0;32m     20\u001b[0m                     \u001b[38;5;124m\"\u001b[39m\u001b[38;5;124mT3NMode\u001b[39m\u001b[38;5;124m\"\u001b[39m : ptn\u001b[38;5;241m.\u001b[39mT3NMode\u001b[38;5;241m.\u001b[39mSVD,\n\u001b[0;32m     21\u001b[0m                     \u001b[38;5;124m\"\u001b[39m\u001b[38;5;124mT3N_contr_mode\u001b[39m\u001b[38;5;124m\"\u001b[39m : ptn\u001b[38;5;241m.\u001b[39mContractionMode\u001b[38;5;241m.\u001b[39mUCONTR,\n\u001b[0;32m     22\u001b[0m                     \u001b[38;5;124m\"\u001b[39m\u001b[38;5;124mT3N_dict\u001b[39m\u001b[38;5;124m\"\u001b[39m:\u001b[38;5;28;01mNone\u001b[39;00m}\n\u001b[0;32m     25\u001b[0m config\u001b[38;5;241m=\u001b[39m ptn\u001b[38;5;241m.\u001b[39mTTNTimeEvolutionConfig(record_bond_dim \u001b[38;5;241m=\u001b[39m \u001b[38;5;28;01mFalse\u001b[39;00m,\n\u001b[0;32m     26\u001b[0m                                    Lanczos_evolution\u001b[38;5;241m=\u001b[39m \u001b[38;5;28;01mFalse\u001b[39;00m,\n\u001b[0;32m     27\u001b[0m                                    Lanczos_params \u001b[38;5;241m=\u001b[39m lanczos_params,\n\u001b[0;32m     28\u001b[0m                                    Expansion_params \u001b[38;5;241m=\u001b[39m expansion_params)\n\u001b[0;32m     30\u001b[0m tdvp \u001b[38;5;241m=\u001b[39m ptn\u001b[38;5;241m.\u001b[39mSecondOrderOneSiteTDVP(initial_state \u001b[38;5;241m=\u001b[39m ttn,\n\u001b[0;32m     31\u001b[0m                                  hamiltonian \u001b[38;5;241m=\u001b[39m ttno,\n\u001b[0;32m     32\u001b[0m                                  time_step_size \u001b[38;5;241m=\u001b[39m \u001b[38;5;241m0.001\u001b[39m,\n\u001b[0;32m     33\u001b[0m                                  final_time \u001b[38;5;241m=\u001b[39m \u001b[38;5;241m0.1\u001b[39m,\n\u001b[0;32m     34\u001b[0m                                  operators \u001b[38;5;241m=\u001b[39m [spatial_corr_dist_2],\n\u001b[0;32m     35\u001b[0m                                  config \u001b[38;5;241m=\u001b[39m config)\n",
      "\u001b[1;31mAttributeError\u001b[0m: module 'pytreenet' has no attribute 'ExpansionMode'"
     ]
    }
   ],
   "source": [
    "exact = ptn.ExactTimeEvolution(initial_state = state_vector, \n",
    "                               hamiltonian = BH_exact, \n",
    "                               time_step_size = 0.001,\n",
    "                               final_time= 0.1,\n",
    "                               operators= spatial_corr_dist_2_exact)\n",
    "\n",
    "lanczos_params =  {'N_min': 2,   \n",
    "                   'N_max': 20,           \n",
    "                   'P_tol': 1e-6,          \n",
    "                   'reortho': True,}\n",
    "expansion_params = {\"ExpansionMode\": ptn.ExpansionMode.Partial_T3N,\n",
    "                    \"num_vecs\": 1,\n",
    "                    \"tau\": 1e-2,\n",
    "                    \"SVDParameters\": ptn.SVDParameters(max_bond_dim = np.inf , rel_tol= -np.inf , total_tol = -np.inf),\n",
    "                    \"expansion_steps\": 100,\n",
    "                    \"tol\": 1e-60,\n",
    "                    \"tol_step\": 1e5,\n",
    "                    \"max_bond\": 80,\n",
    "                    \"rel_tot_bond\": np.inf,\n",
    "                    \"T3NMode\" : ptn.T3NMode.SVD,\n",
    "                    \"T3N_contr_mode\" : ptn.ContractionMode.UCONTR,\n",
    "                    \"T3N_dict\":None}\n",
    "\n",
    "\n",
    "config= ptn.TTNTimeEvolutionConfig(record_bond_dim = False,\n",
    "                                   Lanczos_evolution= False,\n",
    "                                   Lanczos_params = lanczos_params,\n",
    "                                   Expansion_params = expansion_params)\n",
    "\n",
    "tdvp = ptn.SecondOrderOneSiteTDVP(initial_state = ttn,\n",
    "                                 hamiltonian = ttno,\n",
    "                                 time_step_size = 0.001,\n",
    "                                 final_time = 0.1,\n",
    "                                 operators = [spatial_corr_dist_2],\n",
    "                                 config = config)"
   ]
  },
  {
   "cell_type": "code",
   "execution_count": null,
   "metadata": {},
   "outputs": [
    {
     "ename": "NameError",
     "evalue": "name 'b' is not defined",
     "output_type": "error",
     "traceback": [
      "\u001b[1;31m---------------------------------------------------------------------------\u001b[0m",
      "\u001b[1;31mNameError\u001b[0m                                 Traceback (most recent call last)",
      "Cell \u001b[1;32mIn[111], line 1\u001b[0m\n\u001b[1;32m----> 1\u001b[0m \u001b[43mb\u001b[49m\n",
      "\u001b[1;31mNameError\u001b[0m: name 'b' is not defined"
     ]
    }
   ],
   "source": [
    "b"
   ]
  },
  {
   "cell_type": "code",
   "execution_count": null,
   "metadata": {},
   "outputs": [
    {
     "name": "stderr",
     "output_type": "stream",
     "text": [
      "100%|██████████| 101/101 [00:00<00:00, 425.16it/s]\n"
     ]
    }
   ],
   "source": [
    "exact.run(evaluation_time=2)"
   ]
  },
  {
   "cell_type": "code",
   "execution_count": null,
   "metadata": {},
   "outputs": [
    {
     "name": "stderr",
     "output_type": "stream",
     "text": [
      "100%|██████████| 101/101 [00:06<00:00, 14.87it/s]"
     ]
    },
    {
     "name": "stdout",
     "output_type": "stream",
     "text": [
      "tol : 1e-60\n",
      "expanded_dim : 25 : 30 ---> 55\n"
     ]
    },
    {
     "name": "stderr",
     "output_type": "stream",
     "text": [
      "\n"
     ]
    }
   ],
   "source": [
    "tdvp.RUN(evaluation_time=2)\n",
    "times = tdvp.times()"
   ]
  },
  {
   "cell_type": "code",
   "execution_count": null,
   "metadata": {},
   "outputs": [],
   "source": []
  },
  {
   "cell_type": "code",
   "execution_count": null,
   "metadata": {},
   "outputs": [],
   "source": [
    "tdvp.results.shape"
   ]
  },
  {
   "cell_type": "code",
   "execution_count": null,
   "metadata": {},
   "outputs": [
    {
     "name": "stderr",
     "output_type": "stream",
     "text": [
      "c:\\Users\\edpou\\AppData\\Local\\Programs\\Python\\Python312\\Lib\\site-packages\\matplotlib\\cbook.py:1699: ComplexWarning: Casting complex values to real discards the imaginary part\n",
      "  return math.isfinite(val)\n",
      "c:\\Users\\edpou\\AppData\\Local\\Programs\\Python\\Python312\\Lib\\site-packages\\matplotlib\\cbook.py:1345: ComplexWarning: Casting complex values to real discards the imaginary part\n",
      "  return np.asarray(x, float)\n"
     ]
    },
    {
     "data": {
      "image/png": "[encoded data removed]",
      "text/plain": [
       "<Figure size 500x500 with 1 Axes>"
      ]
     },
     "metadata": {},
     "output_type": "display_data"
    }
   ],
   "source": [
    "import matplotlib.pyplot as plt\n",
    "\n",
    "fig1, axs1 = plt.subplots(1, 1, sharex=True, figsize=(5, 5))\n",
    "\n",
    "# First plot\n",
    "axs1.plot(times , exact.operator_results()[0], label='exact')\n",
    "axs1.plot(times , tdvp.operator_results()[0], label='tdvp')\n",
    "#axs1.plot(times , tdvp_pad, label='tdvp_pad , 1.11s')\n",
    "axs1.set_xlabel(\"Time $t$\")\n",
    "axs1.set_ylabel(\"<O>\")\n",
    "axs1.set_title(\"TDVP vs exact\")\n",
    "\n",
    "# Add a legend to distinguish between the two plots\n",
    "axs1.legend()\n",
    "\n",
    "plt.show()"
   ]
  },
  {
   "cell_type": "code",
   "execution_count": null,
   "metadata": {},
   "outputs": [],
   "source": [
    "# Example usage:\n",
    "# System initialization\n",
    "Lx = 4\n",
    "Ly = 4\n",
    "n_bosons = 2\n",
    "J = 2\n",
    "U = 0.1\n",
    "mu = 0\n",
    "system = ptn.BoseHubbard2D(Lx, Ly, n_bosons, J, U, mu)\n",
    "\n",
    "# Create initial state\n",
    "initial_state = np.array([1/np.sqrt(2), 1/np.sqrt(2)])\n",
    "psi0 = system.uniform_product_state(initial_state)\n",
    "\n",
    "black_state = np.array([0,1])\n",
    "white_state = np.array([1,0])\n",
    "psi0 = system.alternating_product_state(black_state, white_state, pattern= \"checkerboard\")\n",
    "\n",
    "# Evolve system\n",
    "end_time = 1\n",
    "dt = 0.01\n",
    "result = system.evolve_system(psi0, end_time=end_time, dt=dt)\n"
   ]
  },
  {
   "cell_type": "code",
   "execution_count": null,
   "metadata": {},
   "outputs": [],
   "source": [
    "eval_time = 2\n",
    "occupations, occ_times = system.occupation_results(eval_time, result)\n",
    "\n",
    "\n",
    "time_steps = occupations.shape[0]\n",
    "time = np.arange(time_steps)\n",
    "occupations_flat = occupations.reshape(time_steps, -1)\n",
    "\n",
    "# Plot all occupations in the same plot\n",
    "plt.figure(figsize=(10, 6))\n",
    "for i in range(occupations_flat.shape[1]):\n",
    "    plt.plot(occ_times, occupations_flat[:, i], label=f'Site {i + 1}')\n",
    "\n",
    "plt.xlabel('Time')\n",
    "plt.ylabel('Occupation')\n",
    "plt.title('Local Occupations of Sites in 2D Lattice Over Time')\n",
    "plt.legend(loc='best')\n",
    "plt.grid(True)\n",
    "plt.show()"
   ]
  },
  {
   "cell_type": "code",
   "execution_count": null,
   "metadata": {},
   "outputs": [],
   "source": [
    "# Select time indices for 6 evenly spaced time steps\n",
    "time_indices = np.linspace(0, time_steps - 1, 6, dtype=int)\n",
    "\n",
    "# Plot heatmaps for selected time steps\n",
    "fig, axes = plt.subplots(2, 3, figsize=(15, 10))\n",
    "for ax, time_index in zip(axes.flat, time_indices):\n",
    "    # Plot heatmap of the lattice occupation at the selected time step\n",
    "    im = ax.imshow(occupations[time_index], cmap='viridis', origin='lower')\n",
    "    ax.set_title(f\"Time step {time_index}\")\n",
    "    ax.set_xlabel(\"X axis\")\n",
    "    ax.set_ylabel(\"Y axis\")\n",
    "\n",
    "# Add a color bar to indicate the occupation scale\n",
    "cbar = fig.colorbar(im, ax=axes, orientation='horizontal', fraction=0.05, pad=0.1)\n",
    "cbar.set_label(\"Occupation\")\n",
    "\n",
    "plt.suptitle(\"Evolution of Local Occupation Over Time (Heatmap)\")\n"
   ]
  },
  {
   "cell_type": "code",
   "execution_count": null,
   "metadata": {},
   "outputs": [],
   "source": [
    "fig, ax1 = plt.subplots(figsize=(10, 6))\n",
    "\n",
    "mean_occupation = np.mean(occupations, axis=(1,2))\n",
    "std_occupation = np.std(occupations, axis=(1,2))\n",
    "ax1.plot(occ_times, mean_occupation, 'b-', label='Mean')\n",
    "ax1.fill_between(occ_times, \n",
    "             mean_occupation - std_occupation,\n",
    "             mean_occupation + std_occupation,\n",
    "             alpha=0.3, color='blue')\n",
    "ax1.set_xlabel('Time')\n",
    "ax1.set_ylabel('Occupation number')\n",
    "ax1.set_title('Mean Occupation Evolution')\n",
    "ax1.grid(True)\n",
    "ax1.legend()"
   ]
  },
  {
   "cell_type": "code",
   "execution_count": null,
   "metadata": {},
   "outputs": [],
   "source": [
    "eval_time = 2\n",
    "correlations_hv, corr_times = system.spatial_correlation_function_results(\n",
    "  eval_time, result, distance=2, mode=\"HV\" , Normalize= False)\n",
    "\n",
    "import matplotlib.pyplot as plt\n",
    "\n",
    "fig, ax1 = plt.subplots(figsize=(5, 5))\n",
    "ax1.plot(corr_times, correlations_hv, 'r-', label='HV')\n",
    "ax1.set_xlabel('Time')\n",
    "ax1.set_ylabel('Spatial correlation')\n",
    "ax1.set_title('Spatial Correlations')\n",
    "ax1.grid(True)\n",
    "ax1.legend()"
   ]
  },
  {
   "cell_type": "code",
   "execution_count": null,
   "metadata": {},
   "outputs": [],
   "source": [
    "density_corr_hv, corr_times = system.density_density_correlation_results(\n",
    "  eval_time, result, distance=2, mode=\"HV\", Normalize= False)\n",
    "\n",
    "fig, ax1 = plt.subplots(figsize=(5, 5))\n",
    "ax1.plot(corr_times, density_corr_hv, 'r-', label='HV')\n",
    "ax1.set_xlabel('Time')\n",
    "ax1.set_ylabel('Re[Density-density correlation]')\n",
    "ax1.set_title('Density-Density Correlations (Real)')\n",
    "ax1.grid(True)\n",
    "ax1.legend()"
   ]
  }
 ],
 "metadata": {
  "kernelspec": {
   "display_name": "Python 3",
   "language": "python",
   "name": "python3"
  },
  "language_info": {
   "codemirror_mode": {
    "name": "ipython",
    "version": 3
   },
   "file_extension": ".py",
   "mimetype": "text/x-python",
   "name": "python",
   "nbconvert_exporter": "python",
   "pygments_lexer": "ipython3",
   "version": "3.12.1"
  }
 },
 "nbformat": 4,
 "nbformat_minor": 2
}
