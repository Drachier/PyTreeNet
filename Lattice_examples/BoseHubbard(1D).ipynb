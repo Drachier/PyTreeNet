{
 "cells": [
  {
   "cell_type": "code",
   "execution_count": null,
   "metadata": {},
   "outputs": [],
   "source": [
    "import numpy as np\n",
    "import pytreenet as ptn"
   ]
  },
  {
   "cell_type": "code",
   "execution_count": null,
   "metadata": {},
   "outputs": [],
   "source": [
    "d = 2\n",
    "shapes = {\n",
    "    (0, 0): (2, d),\n",
    "    (0, 1): (2, 2, d),\n",
    "    (0, 2): (2, 2, d),\n",
    "    (0, 3): (2, 2, d),\n",
    "    (0, 4): (2, 2, d),\n",
    "    (0, 5): (2, 2, d),\n",
    "    (0, 6): (2, 2, d),\n",
    "    (0, 7): (2, 2, d),\n",
    "    (0, 8): (2, 2, d),\n",
    "    (0, 9): (2, d),}\n",
    "\n",
    "sites = {\n",
    "    (0, j): ptn.random_tensor_node(shapes[(0, j)], identifier=f\"Site({0},{j})\") for j in range(10)\n",
    "}\n",
    "\n",
    "ttn = ptn.TreeTensorNetworkState()\n",
    "\n",
    "ttn.add_root(sites[(0, 0)][0], sites[(0, 0)][1])\n",
    "\n",
    "connections = [\n",
    "    ((0, 0), (0, 1), 0, 0),\n",
    "    ((0, 1), (0, 2), 1, 0),\n",
    "    ((0, 2), (0, 3), 1, 0),\n",
    "    ((0, 3), (0, 4), 1, 0),\n",
    "    ((0, 4), (0, 5), 1, 0),\n",
    "    ((0, 5), (0, 6), 1, 0),\n",
    "    ((0, 6), (0, 7), 1, 0),\n",
    "    ((0, 7), (0, 8), 1, 0),\n",
    "    ((0, 8), (0, 9), 1, 0)]\n",
    "\n",
    "for (parent, child, parent_leg, child_leg) in connections:\n",
    "    parent_id = f\"Site({parent[0]},{parent[1]})\"\n",
    "    child_id = f\"Site({child[0]},{child[1]})\"\n",
    "    ttn.add_child_to_parent(sites[child][0], sites[child][1], child_leg, parent_id, parent_leg)"
   ]
  },
  {
   "cell_type": "code",
   "execution_count": null,
   "metadata": {},
   "outputs": [],
   "source": [
    "black_state = np.array([0,1])\n",
    "white_state = np.array([1,0])\n",
    "ttn = ptn.alternating_product_state(ttn, black_state, white_state, bond_dim = 1,  pattern = \"checkerboard\" , lattice_dim= 1)"
   ]
  },
  {
   "cell_type": "code",
   "execution_count": null,
   "metadata": {},
   "outputs": [],
   "source": [
    "t = 2\n",
    "u = 0.1\n",
    "mu = 1\n",
    "Lx = 1\n",
    "Ly = 10\n",
    "\n",
    "H1 = ptn.BoseHubbard_ham(t, u, mu, Lx, Ly, d)\n",
    "H1 = H1.pad_with_identities(ttn , symbolic= True)\n",
    "ttno = ptn.TTNO.from_hamiltonian(H1, ttn)\n",
    "\n",
    "node_id_list = list(ttn.nodes.keys())\n",
    "N_local_list = []\n",
    "for node_id in node_id_list:\n",
    "    N_local = ptn.Number_op_local(node_id, d)\n",
    "    N_local = N_local.pad_with_identities(ttn, symbolic= True)\n",
    "    N_local = ptn.TTNO.from_hamiltonian(N_local, ttn)\n",
    "    N_local_list.append(N_local)\n",
    "print(node_id_list)    "
   ]
  },
  {
   "cell_type": "markdown",
   "metadata": {},
   "source": [
    "# Exact"
   ]
  },
  {
   "cell_type": "code",
   "execution_count": null,
   "metadata": {},
   "outputs": [],
   "source": [
    "t = 2\n",
    "u = 0.1\n",
    "mu = 1\n",
    "Lx = 1\n",
    "Ly = 10\n",
    "n_bosons = 2\n",
    "system = ptn.BoseHubbard2D(Lx, Ly, n_bosons, t, u, mu)\n",
    "\n",
    "# Create initial state\n",
    "black_state = np.array([0,1])\n",
    "white_state = np.array([1,0])\n",
    "psi0 = system.alternating_product_state(black_state, white_state, pattern= \"checkerboard\")\n",
    "\n",
    "# Evolve system\n",
    "end_time = 4\n",
    "dt = 0.01\n",
    "result = system.evolve_system(psi0, end_time=end_time, dt=dt)\n"
   ]
  },
  {
   "cell_type": "code",
   "execution_count": null,
   "metadata": {},
   "outputs": [],
   "source": [
    "eval_time = 2\n",
    "occupations, occ_times = system.occupation_results(eval_time, result)\n",
    "\n",
    "\n",
    "time_steps = occupations.shape[0]\n",
    "time = np.arange(time_steps)\n",
    "occupations_flat = occupations.reshape(time_steps, -1)"
   ]
  }
 ],
 "metadata": {
  "kernelspec": {
   "display_name": "Python 3",
   "language": "python",
   "name": "python3"
  },
  "language_info": {
   "codemirror_mode": {
    "name": "ipython",
    "version": 3
   },
   "file_extension": ".py",
   "mimetype": "text/x-python",
   "name": "python",
   "nbconvert_exporter": "python",
   "pygments_lexer": "ipython3",
   "version": "3.12.1"
  }
 },
 "nbformat": 4,
 "nbformat_minor": 2
}
