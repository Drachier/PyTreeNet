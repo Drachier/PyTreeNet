{
 "cells": [
  {
   "cell_type": "markdown",
   "id": "6c30e2c6",
   "metadata": {},
   "source": [
    "# Using State Diagrams to construct TTNOs"
   ]
  },
  {
   "cell_type": "code",
   "execution_count": 1,
   "id": "0d3a7b44",
   "metadata": {},
   "outputs": [],
   "source": [
    "# Import PyTreeNet from local folders\n",
    "import sys\n",
    "sys.path.append('..')\n",
    "import pytreenet as ptn\n",
    "\n",
    "import numpy as np\n",
    "import matplotlib.pyplot as plt"
   ]
  },
  {
   "cell_type": "markdown",
   "id": "c580709d",
   "metadata": {},
   "source": [
    "## Toy Example\n",
    "We consider the rather arbitrary operator\n",
    "$$\n",
    "H = Y_2X_3X_4 + X_1Y_2Y_6 + X_1Y_2Z_5 + Z_5X_7X_8,\n",
    "$$\n",
    "\n",
    "where $X$, $Y$ and $Z$ are the usual Pauli gates. We want to represent this operator as a TTNO.\n",
    "\n",
    "As a first step we have to define a TTN which serves as a reference for the tree structure. We will use a product TTNS."
   ]
  },
  {
   "cell_type": "code",
   "execution_count": 2,
   "id": "3715cbfe",
   "metadata": {},
   "outputs": [],
   "source": [
    "ttns = ptn.TreeTensorNetwork()\n",
    "\n",
    "# Physical legs come last\n",
    "node1 = ptn.TensorNode(ptn.crandn((1,1,2)), identifier=\"site1\")\n",
    "node2 = ptn.TensorNode(ptn.crandn((1,1,1,2)), identifier=\"site2\")\n",
    "node3 = ptn.TensorNode(ptn.crandn((1,2)), identifier=\"site3\")\n",
    "node4 = ptn.TensorNode(ptn.crandn((1,2)), identifier=\"site4\")\n",
    "node5 = ptn.TensorNode(ptn.crandn((1,1,1,2)), identifier=\"site5\")\n",
    "node6 = ptn.TensorNode(ptn.crandn((1,2)), identifier=\"site6\")\n",
    "node7 = ptn.TensorNode(ptn.crandn((1,1,2)), identifier=\"site7\")\n",
    "node8 = ptn.TensorNode(ptn.crandn((1,2)), identifier=\"site8\")\n",
    "\n",
    "ttns.add_root(node1)\n",
    "ttns.add_child_to_parent(node2, 0, \"site1\", 0)\n",
    "ttns.add_child_to_parent(node3, 0, \"site2\", 1)\n",
    "ttns.add_child_to_parent(node4, 0, \"site2\", 2)\n",
    "ttns.add_child_to_parent(node5, 0, \"site1\", 1)\n",
    "ttns.add_child_to_parent(node6, 0, \"site5\", 1)\n",
    "ttns.add_child_to_parent(node7, 0, \"site5\", 2)\n",
    "ttns.add_child_to_parent(node8, 0, \"site7\", 1)"
   ]
  },
  {
   "cell_type": "markdown",
   "id": "c08ea652",
   "metadata": {},
   "source": [
    "Next we have to initialise the operator in the form of a Hamiltonian."
   ]
  },
  {
   "cell_type": "code",
   "execution_count": 3,
   "id": "c870411c",
   "metadata": {},
   "outputs": [
    {
     "name": "stdout",
     "output_type": "stream",
     "text": [
      "[{'site2': 'Y', 'site3': 'X', 'site4': 'X'}, {'site1': 'X', 'site2': 'Y', 'site6': 'Y'}, {'site1': 'X', 'site2': 'Y', 'site5': 'Z'}, {'site5': 'Z', 'site7': 'X', 'site8': 'X'}]\n",
      "------------------------------------------------------\n",
      "[{'site2': 'Y', 'site3': 'X', 'site4': 'X', 'site1': 'I', 'site5': 'I', 'site6': 'I', 'site7': 'I', 'site8': 'I'}, {'site1': 'X', 'site2': 'Y', 'site6': 'Y', 'site3': 'I', 'site4': 'I', 'site5': 'I', 'site7': 'I', 'site8': 'I'}, {'site1': 'X', 'site2': 'Y', 'site5': 'Z', 'site3': 'I', 'site4': 'I', 'site6': 'I', 'site7': 'I', 'site8': 'I'}, {'site5': 'Z', 'site7': 'X', 'site8': 'X', 'site1': 'I', 'site2': 'I', 'site3': 'I', 'site4': 'I', 'site6': 'I'}]\n"
     ]
    }
   ],
   "source": [
    "# To allow better performance symbolic values are used for the local operators\n",
    "X, Y, Z = ptn.pauli_matrices()\n",
    "conversion_dict = {\"X\": X, \"Y\": Y, \"Z\": Z, \"I\": np.eye(2)}\n",
    "\n",
    "term1 = {\"site2\": \"Y\", \"site3\": \"X\", \"site4\": \"X\"}\n",
    "term2 = {\"site1\": \"X\", \"site2\": \"Y\", \"site6\": \"Y\"}\n",
    "term3 = {\"site1\": \"X\", \"site2\": \"Y\", \"site5\": \"Z\"}\n",
    "term4 = {\"site5\": \"Z\", \"site7\": \"X\", \"site8\": \"X\"}\n",
    "\n",
    "operator = ptn.Hamiltonian(terms=[term1, term2, term3, term4], conversion_dictionary=conversion_dict)\n",
    "print(operator)\n",
    "print(\"------------------------------------------------------\")\n",
    "\n",
    "# To continue, we have to pad with identities\n",
    "operator.pad_with_identity(ttns, identity=\"I\")\n",
    "print(operator)"
   ]
  },
  {
   "cell_type": "markdown",
   "id": "5681388b",
   "metadata": {},
   "source": [
    "### Via State Diagram\n",
    "This is all we need to create the TTNO right away:"
   ]
  },
  {
   "cell_type": "code",
   "execution_count": 4,
   "id": "17883ab7",
   "metadata": {},
   "outputs": [],
   "source": [
    "ttno = ptn.TTNO.from_hamiltonian(operator, ttns)"
   ]
  },
  {
   "cell_type": "markdown",
   "id": "fc27f710",
   "metadata": {},
   "source": [
    "Inside `TTNO.from_hamiltonian` a state diagram was constructed via"
   ]
  },
  {
   "cell_type": "code",
   "execution_count": 5,
   "id": "bfc21dfb",
   "metadata": {},
   "outputs": [
    {
     "data": {
      "text/plain": [
       "hyperedges:\n",
       "label = I; corr_site = site1; connected to ('site1', 'site2'), ('site1', 'site5'), \n",
       "label = X; corr_site = site1; connected to ('site1', 'site2'), ('site1', 'site5'), \n",
       "label = I; corr_site = site1; connected to ('site1', 'site2'), ('site1', 'site5'), \n",
       "label = Y; corr_site = site2; connected to ('site1', 'site2'), ('site2', 'site3'), ('site2', 'site4'), \n",
       "label = Y; corr_site = site2; connected to ('site2', 'site3'), ('site2', 'site4'), ('site1', 'site2'), \n",
       "label = I; corr_site = site2; connected to ('site2', 'site3'), ('site2', 'site4'), ('site1', 'site2'), \n",
       "label = X; corr_site = site3; connected to ('site2', 'site3'), \n",
       "label = I; corr_site = site3; connected to ('site2', 'site3'), \n",
       "label = X; corr_site = site4; connected to ('site2', 'site4'), \n",
       "label = I; corr_site = site4; connected to ('site2', 'site4'), \n",
       "label = I; corr_site = site5; connected to ('site1', 'site5'), ('site5', 'site6'), ('site5', 'site7'), \n",
       "label = I; corr_site = site5; connected to ('site5', 'site6'), ('site5', 'site7'), ('site1', 'site5'), \n",
       "label = Z; corr_site = site5; connected to ('site5', 'site6'), ('site5', 'site7'), ('site1', 'site5'), \n",
       "label = Z; corr_site = site5; connected to ('site5', 'site6'), ('site5', 'site7'), ('site1', 'site5'), \n",
       "label = I; corr_site = site6; connected to ('site5', 'site6'), \n",
       "label = Y; corr_site = site6; connected to ('site5', 'site6'), \n",
       "label = I; corr_site = site7; connected to ('site5', 'site7'), ('site7', 'site8'), \n",
       "label = X; corr_site = site7; connected to ('site7', 'site8'), ('site5', 'site7'), \n",
       "label = I; corr_site = site8; connected to ('site7', 'site8'), \n",
       "label = X; corr_site = site8; connected to ('site7', 'site8'), \n",
       "\n",
       " vertices:\n",
       "corr_edge = ('site1', 'site2'); connected to (I, site1), (Y, site2), \n",
       "corr_edge = ('site1', 'site2'); connected to (X, site1), (Y, site2), \n",
       "corr_edge = ('site1', 'site2'); connected to (I, site1), (I, site2), \n",
       "corr_edge = ('site1', 'site5'); connected to (I, site1), (I, site5), \n",
       "corr_edge = ('site1', 'site5'); connected to (X, site1), (I, site5), (Z, site5), \n",
       "corr_edge = ('site1', 'site5'); connected to (I, site1), (Z, site5), \n",
       "corr_edge = ('site2', 'site3'); connected to (Y, site2), (X, site3), \n",
       "corr_edge = ('site2', 'site3'); connected to (Y, site2), (I, site3), (I, site2), \n",
       "corr_edge = ('site2', 'site4'); connected to (Y, site2), (X, site4), \n",
       "corr_edge = ('site2', 'site4'); connected to (Y, site2), (I, site4), (I, site2), \n",
       "corr_edge = ('site5', 'site6'); connected to (I, site5), (I, site6), (Z, site5), (Z, site5), \n",
       "corr_edge = ('site5', 'site6'); connected to (I, site5), (Y, site6), \n",
       "corr_edge = ('site5', 'site7'); connected to (I, site5), (I, site7), (I, site5), (Z, site5), \n",
       "corr_edge = ('site5', 'site7'); connected to (Z, site5), (X, site7), \n",
       "corr_edge = ('site7', 'site8'); connected to (I, site7), (I, site8), \n",
       "corr_edge = ('site7', 'site8'); connected to (X, site7), (X, site8), "
      ]
     },
     "execution_count": 5,
     "metadata": {},
     "output_type": "execute_result"
    }
   ],
   "source": [
    "sd = ptn.StateDiagram.from_hamiltonian(operator, ttns)\n",
    "sd"
   ]
  },
  {
   "cell_type": "markdown",
   "id": "ee830b2d",
   "metadata": {},
   "source": [
    "### Using one big Tensor\n",
    "Instead of using the state diagram, we could also have created the full tensor/matrix representing the operator. Note, this works only due to the relatively limited size of this example ($2^{16}$ tensor elements)."
   ]
  },
  {
   "cell_type": "code",
   "execution_count": 6,
   "id": "37ed64db",
   "metadata": {},
   "outputs": [
    {
     "name": "stdout",
     "output_type": "stream",
     "text": [
      "tensor shape: (2, 2, 2, 2, 2, 2, 2, 2, 2, 2, 2, 2, 2, 2, 2, 2), number of dimensions: 16\n"
     ]
    }
   ],
   "source": [
    "full_tensor = operator.to_tensor(ttns)\n",
    "print(f\"tensor shape: {full_tensor.shape}, number of dimensions: {len(full_tensor.shape)}\")"
   ]
  },
  {
   "cell_type": "markdown",
   "id": "80a761ee",
   "metadata": {},
   "source": [
    "In this case we have to provide information about, which leg belongs to which site:"
   ]
  },
  {
   "cell_type": "code",
   "execution_count": 12,
   "id": "bc551211",
   "metadata": {},
   "outputs": [],
   "source": [
    "leg_dict = {\"site1\": 0, \"site2\": 1, \"site3\": 2, \"site4\": 3, \"site5\": 4, \"site6\": 5, \"site7\": 6, \"site8\": 7}\n",
    "\n",
    "ttno2 = ptn.TTNO.from_tensor(ttns, full_tensor, leg_dict, mode=\"QR\")\n",
    "ttno3 = ptn.TTNO.from_tensor(ttns, full_tensor, leg_dict, mode=\"tSVD\")"
   ]
  },
  {
   "cell_type": "markdown",
   "id": "bbfce574",
   "metadata": {},
   "source": [
    "### Comparison\n",
    "Now we want to compare the dimension of both."
   ]
  },
  {
   "cell_type": "code",
   "execution_count": 24,
   "id": "f1f6179f",
   "metadata": {},
   "outputs": [
    {
     "data": {
      "image/png": "[encoded data removed]",
      "text/plain": [
       "<Figure size 1080x360 with 3 Axes>"
      ]
     },
     "metadata": {
      "needs_background": "light"
     },
     "output_type": "display_data"
    }
   ],
   "source": [
    "leg_name_list = []\n",
    "dimensions1 = []\n",
    "dimensions2 = []\n",
    "dimensions3 = []\n",
    "\n",
    "for node_id in ttno.nodes:\n",
    "    node1 = ttno.nodes[node_id]\n",
    "    node2 = ttno2.nodes[node_id]\n",
    "    node3 = ttno3.nodes[node_id]\n",
    "    \n",
    "    if not node1.is_root():\n",
    "        leg_name_list.append((node_id, node1.get_parent_id()))\n",
    "        dimensions1.append(node1.get_parent_leg_dim())\n",
    "        dimensions2.append(node2.get_parent_leg_dim())\n",
    "        dimensions3.append(node3.get_parent_leg_dim())\n",
    "\n",
    "\n",
    "fig, axs = plt.subplots(nrows=1, ncols=3, sharex=True, figsize=(15, 5))\n",
    "\n",
    "axs[0].plot(dimensions1, \".\", label=\"State Diag.\")\n",
    "axs[0].plot(dimensions2, \".\", label=\"Full Tensor\")\n",
    "axs[0].legend()\n",
    "\n",
    "axs[1].plot(dimensions1, \".\", label=\"State Diag.\")\n",
    "axs[1].plot(dimensions3, \".\", label=\"Full Tensor\")\n",
    "axs[1].set_yticks([0,1,2,3,4])\n",
    "axs[1].legend()\n",
    "            \n",
    "axs[2].plot(np.asarray(dimensions1)-np.asarray(dimensions3), \".\")\n",
    "axs[2].set_yticks([0,1])\n",
    "\n",
    "plt.show()"
   ]
  },
  {
   "cell_type": "markdown",
   "id": "b51741a1",
   "metadata": {},
   "source": [
    "We can see after truncating singular values using the mode `tSVD`, that both ways give the exact same bond-dimensions for all bonds. Thus for this toy example out method yields the optimal bond-dimensions"
   ]
  },
  {
   "cell_type": "code",
   "execution_count": null,
   "id": "7e8a7576",
   "metadata": {},
   "outputs": [],
   "source": []
  }
 ],
 "metadata": {
  "kernelspec": {
   "display_name": "Python 3 (ipykernel)",
   "language": "python",
   "name": "python3"
  },
  "language_info": {
   "codemirror_mode": {
    "name": "ipython",
    "version": 3
   },
   "file_extension": ".py",
   "mimetype": "text/x-python",
   "name": "python",
   "nbconvert_exporter": "python",
   "pygments_lexer": "ipython3",
   "version": "3.9.7"
  }
 },
 "nbformat": 4,
 "nbformat_minor": 5
}
