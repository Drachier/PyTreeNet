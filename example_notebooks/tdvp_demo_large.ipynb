{
 "cells": [
  {
   "attachments": {},
   "cell_type": "markdown",
   "metadata": {},
   "source": [
    "# TDVP for TTN\n",
    "\n",
    "This notebook demonstrates the capabilities of the TDVP algorithm for TreeTensorNetworks implemented in `pytreenet/time_evolution/tdvp.py`.\n",
    "\n",
    "Overview:\n",
    "### 1. TDVP for MPS: Single qubit rotation on Bloch Sphere\n",
    "- Set up TTN and verify its properties\n",
    "- Run TDVP simulation\n",
    "- Validate results by comparison to analytical result\n",
    "### 2. TDVP for MPS: Two-qubit system evolution under Heisenberg Hamiltonian\n",
    "- Set up TTN and verify its properties\n",
    "- Run TDVP simulation\n",
    "- Validate results by comparison to analytical result\n",
    "\n",
    "### 3. TDVP for MPS: Multi-qubit system evolution under Heisenberg Hamiltonian\n",
    "- Set up TTN and verify its properties\n",
    "- Run TDVP simulation\n",
    "- Validate results by comparison to analytical result\n",
    "\n",
    "## STILL TO DO:\n",
    "\n",
    "- Analyze error and runtime for varying bond dimension\n",
    "### 4. TDVP for Bosonic Tree model\n",
    "- Set up TTN, verify its properties and visualize the network structure\n",
    "- Run TDVP simulation\n",
    "- Compare results and performance to TEBD algorithm (as implemented in `pytreenet/time_evolution/tebd.py`)"
   ]
  },
  {
   "cell_type": "code",
   "execution_count": 1,
   "metadata": {},
   "outputs": [],
   "source": [
    "# Import PyTreeNet from local folders\n",
    "import sys\n",
    "sys.path.append('..')\n",
    "import pytreenet as ptn\n",
    "\n",
    "import numpy as np\n",
    "import matplotlib.pyplot as plt"
   ]
  },
  {
   "cell_type": "code",
   "execution_count": 2,
   "metadata": {},
   "outputs": [],
   "source": [
    "import scipy\n",
    "from copy import deepcopy"
   ]
  },
  {
   "cell_type": "code",
   "execution_count": 3,
   "metadata": {},
   "outputs": [],
   "source": [
    "X, Y, Z = ptn.util.pauli_matrices()"
   ]
  },
  {
   "attachments": {},
   "cell_type": "markdown",
   "metadata": {},
   "source": [
    "## TDVP for MPS: Single qubit rotation on Bloch Sphere\n",
    "### Set up TTN and verify its properties\n",
    "\n",
    "Hamiltonian:\n",
    "\n",
    "$H = X$\n",
    "\n",
    "Initial State:  \n",
    "\n",
    "$\\ket{\\psi} = \\ket{0}$"
   ]
  },
  {
   "cell_type": "code",
   "execution_count": 4,
   "metadata": {},
   "outputs": [
    {
     "data": {
      "text/plain": [
       "array([1.+0.j, 0.+0.j])"
      ]
     },
     "execution_count": 4,
     "metadata": {},
     "output_type": "execute_result"
    }
   ],
   "source": [
    "mps = ptn.QuantumTTState()\n",
    "psi = np.array([1, 0], dtype=complex)\n",
    "mps_node = ptn.QuantumStateNode(psi, identifier=\"node\")\n",
    "mps.add_root(mps_node)\n",
    "\n",
    "mps[\"node\"].tensor"
   ]
  },
  {
   "cell_type": "code",
   "execution_count": 5,
   "metadata": {},
   "outputs": [
    {
     "data": {
      "text/plain": [
       "array([[0.+0.j, 1.+0.j],\n",
       "       [1.+0.j, 0.+0.j]])"
      ]
     },
     "execution_count": 5,
     "metadata": {},
     "output_type": "execute_result"
    }
   ],
   "source": [
    "ham = ptn.QuantumTTOperator()\n",
    "ham_node = ptn.QuantumOperatorNode(X, identifier=\"node\")\n",
    "ham.add_root(ham_node)\n",
    "\n",
    "ham[\"node\"].tensor"
   ]
  },
  {
   "attachments": {},
   "cell_type": "markdown",
   "metadata": {},
   "source": [
    "## TDVP for MPS: Single qubit rotation on Bloch Sphere\n",
    "Run TDVP simulation for 1 with time step size of 0.001"
   ]
  },
  {
   "cell_type": "code",
   "execution_count": 6,
   "metadata": {},
   "outputs": [
    {
     "name": "stderr",
     "output_type": "stream",
     "text": [
      "100%|██████████| 1001/1001 [00:01<00:00, 980.83it/s]\n"
     ]
    }
   ],
   "source": [
    "time_step_size = 0.001\n",
    "final_time = 1\n",
    "\n",
    "operators = [{node_id: Z} for node_id in mps.nodes]\n",
    "\n",
    "\n",
    "tdvp_sim = ptn.TDVP(deepcopy(mps), deepcopy(ham), time_step_size=time_step_size, final_time=final_time, operators=operators)\n",
    "tdvp_sim.run()"
   ]
  },
  {
   "attachments": {},
   "cell_type": "markdown",
   "metadata": {},
   "source": [
    "## TDVP for MPS: Single qubit rotation on Bloch Sphere\n",
    "Validate results by comparison to analytical result"
   ]
  },
  {
   "cell_type": "code",
   "execution_count": 7,
   "metadata": {},
   "outputs": [],
   "source": [
    "psi_init_ref = np.array([1, 0], dtype=complex)\n",
    "ham_ref = X\n",
    "operators_ref = [Z]\n",
    "\n",
    "num_time_steps = int(np.ceil(final_time / time_step_size))\n",
    "results = np.zeros((len(operators) + 1, num_time_steps + 1), dtype=complex)\n",
    "\n",
    "psi_ref = psi_init_ref\n",
    "for time_step in range(num_time_steps + 1):\n",
    "    if time_step != 0:\n",
    "        psi_ref = ptn.fast_exp_action(-1j*time_step_size*ham_ref, psi_ref)\n",
    "\n",
    "    for i, operator in enumerate(operators_ref):\n",
    "        results[i,time_step] = np.conjugate(psi_ref) @ operator @ psi_ref\n",
    "        \n",
    "    results[-1,time_step] = time_step * time_step_size"
   ]
  },
  {
   "cell_type": "code",
   "execution_count": 8,
   "metadata": {},
   "outputs": [
    {
     "name": "stdout",
     "output_type": "stream",
     "text": [
      "True\n"
     ]
    }
   ],
   "source": [
    "results_ref = results\n",
    "results_tdvp = tdvp_sim.results\n",
    "error_abs = results_ref[0] - results_tdvp[0]\n",
    "\n",
    "print(np.allclose(error_abs, 0))"
   ]
  },
  {
   "attachments": {},
   "cell_type": "markdown",
   "metadata": {},
   "source": [
    "## TDVP for MPS: Two-qubit system evolution under Heisenberg Hamiltonian\n",
    "Set up TTN and verify its properties\n",
    "\n",
    "Hamiltonian (OBC):\n",
    "\n",
    "$H = m_J \\cdot X_1X_2 + m_g \\cdot (Z_1+Z_2$)\n",
    "\n",
    "Initial State:  \n",
    "\n",
    "$\\ket{\\psi} = \\ket{0}$"
   ]
  },
  {
   "cell_type": "code",
   "execution_count": 9,
   "metadata": {},
   "outputs": [],
   "source": [
    "num_sites = 2\n",
    "virtual_bond_dimension = 2\n",
    "mJ = 1.5\n",
    "mg = 0.5"
   ]
  },
  {
   "cell_type": "code",
   "execution_count": 10,
   "metadata": {},
   "outputs": [],
   "source": [
    "mps = ptn.models.mps_zero(num_sites, virtual_bond_dimension)\n",
    "ham = ptn.models.mps_heisenberg(num_sites, mJ, 0, 0, mg)"
   ]
  },
  {
   "cell_type": "code",
   "execution_count": 11,
   "metadata": {},
   "outputs": [
    {
     "name": "stdout",
     "output_type": "stream",
     "text": [
      "MPS site shapes: {'site0': (2, 2), 'site1': (2, 2)}\n",
      "MPO site shapes: {'site0': (3, 2, 2), 'site1': (3, 2, 2)}\n"
     ]
    }
   ],
   "source": [
    "node_shapes = {node_id: mps.nodes[node_id].tensor.shape for node_id in mps.nodes}\n",
    "print(\"MPS site shapes:\", node_shapes)\n",
    "\n",
    "node_shapes = {node_id: ham.nodes[node_id].tensor.shape for node_id in ham.nodes}\n",
    "print(\"MPO site shapes:\", node_shapes)"
   ]
  },
  {
   "attachments": {},
   "cell_type": "markdown",
   "metadata": {},
   "source": [
    "## TDVP for MPS: Two-qubit system evolution under Heisenberg Hamiltonian\n",
    "Run TDVP simulation for 1 with time step size of 0.001"
   ]
  },
  {
   "cell_type": "code",
   "execution_count": 12,
   "metadata": {},
   "outputs": [
    {
     "name": "stderr",
     "output_type": "stream",
     "text": [
      "100%|██████████| 1001/1001 [00:04<00:00, 232.68it/s]\n"
     ]
    }
   ],
   "source": [
    "time_step_size = 0.001\n",
    "final_time = 1\n",
    "operators = [{node_id: Z} for node_id in mps.nodes]\n",
    "\n",
    "tdvp_sim = ptn.TDVP(deepcopy(mps), deepcopy(ham), time_step_size=time_step_size, final_time=final_time, operators=operators)\n",
    "tdvp_sim.run()"
   ]
  },
  {
   "attachments": {},
   "cell_type": "markdown",
   "metadata": {},
   "source": [
    "## TDVP for MPS: Two-qubit system evolution under Heisenberg Hamiltonian\n",
    "\n",
    "Validate results by comparison to analytical result"
   ]
  },
  {
   "cell_type": "code",
   "execution_count": 13,
   "metadata": {},
   "outputs": [],
   "source": [
    "zero_state = np.asarray([1,0], dtype=complex)\n",
    "ref_state = zero_state\n",
    "for site in range(1, num_sites):\n",
    "    ref_state = np.kron(ref_state, zero_state)\n",
    "\n",
    "ref_hamiltonian = np.zeros((2**num_sites, 2**num_sites), dtype=complex)\n",
    "I = np.eye(2)\n",
    "\n",
    "# Two-site terms\n",
    "for site in range(0,num_sites-1):\n",
    "    operator = np.asarray([1])\n",
    "    for site2 in range(0,num_sites):\n",
    "        \n",
    "        if site2 == site:\n",
    "            operator = np.kron(operator, mJ*X)\n",
    "        elif site2 == site+1:\n",
    "            operator = np.kron(operator, X)\n",
    "        else:\n",
    "            operator = np.kron(operator, I)\n",
    "    ref_hamiltonian += operator\n",
    "    \n",
    "# Single-site terms\n",
    "for site in range(0,num_sites):\n",
    "    operator = np.asarray([1])\n",
    "    for site2 in range(0,num_sites):\n",
    "        if site2 == site:\n",
    "            operator = np.kron(operator, mg*Z)\n",
    "        else:\n",
    "            operator = np.kron(operator, I)\n",
    "    ref_hamiltonian += operator"
   ]
  },
  {
   "cell_type": "code",
   "execution_count": 14,
   "metadata": {},
   "outputs": [],
   "source": [
    "operators = []\n",
    "\n",
    "for sites in range(num_sites):\n",
    "    site_operator = np.asarray([1])\n",
    "    for sites2 in range(num_sites):\n",
    "        if sites2 == sites:\n",
    "            site_operator = np.kron(site_operator, Z)\n",
    "        else:\n",
    "            site_operator = np.kron(site_operator, I)\n",
    "    operators.append(site_operator)"
   ]
  },
  {
   "cell_type": "code",
   "execution_count": 15,
   "metadata": {},
   "outputs": [],
   "source": [
    "results = ptn.state_vector_time_evolution(ref_state, ref_hamiltonian, final_time, time_step_size, operators)"
   ]
  },
  {
   "cell_type": "code",
   "execution_count": 16,
   "metadata": {},
   "outputs": [
    {
     "data": {
      "image/png": "[encoded data removed]",
      "text/plain": [
       "<Figure size 1440x288 with 2 Axes>"
      ]
     },
     "metadata": {
      "needs_background": "light"
     },
     "output_type": "display_data"
    }
   ],
   "source": [
    "ref_times = [time.real for time in results[-1]]\n",
    "\n",
    "fig, axs = plt.subplots(1, 2, sharex=True, sharey=True, figsize=(20,4))\n",
    "\n",
    "fig.suptitle(\"Expectation Value Dynamics\")\n",
    "\n",
    "for site in range(num_sites):\n",
    "    axs[0].plot([time.real for time in tdvp_sim.results[-1]], [exp_val.real for exp_val in tdvp_sim.results[site]], label=\"site\"+str(site))\n",
    "\n",
    "axs[0].legend()\n",
    "axs[0].set_ylabel(\"Expectation Value\")\n",
    "axs[0].set_xlabel(\"Time $t$\")\n",
    "axs[0].set_title(\"TDVP\")\n",
    "\n",
    "for site in range(num_sites):\n",
    "    axs[1].plot(ref_times, [exp_val.real for exp_val in results[site]], label=\"site\"+str(site))\n",
    "\n",
    "axs[1].legend()\n",
    "axs[1].set_xlabel(\"Time $t$\")\n",
    "axs[1].set_title(\"Reference\")\n",
    "\n",
    "plt.show()"
   ]
  },
  {
   "attachments": {},
   "cell_type": "markdown",
   "metadata": {},
   "source": [
    "## TDVP for MPS: Multi-qubit system evolution under Heisenberg Hamiltonian\n",
    "Set up TTN and verify its properties\n",
    "\n",
    "Hamiltonian (OBC):\n",
    "\n",
    "$H = m_J \\cdot X_iX_{i+1} + m_g \\cdot Z_i$\n",
    "\n",
    "Initial State:  \n",
    "\n",
    "$\\ket{\\psi} = \\ket{0}$"
   ]
  },
  {
   "cell_type": "code",
   "execution_count": 17,
   "metadata": {},
   "outputs": [],
   "source": [
    "num_sites = 5\n",
    "virtual_bond_dimension = 8\n",
    "mJ = 1.5\n",
    "mg = 0.5"
   ]
  },
  {
   "cell_type": "code",
   "execution_count": 18,
   "metadata": {},
   "outputs": [],
   "source": [
    "mps = ptn.models.mps_zero(num_sites, virtual_bond_dimension)\n",
    "ham = ptn.models.mps_heisenberg(num_sites, mJ, 0, 0, mg)"
   ]
  },
  {
   "cell_type": "code",
   "execution_count": 19,
   "metadata": {},
   "outputs": [
    {
     "name": "stdout",
     "output_type": "stream",
     "text": [
      "MPS site shapes: {'site0': (8, 2), 'site1': (8, 8, 2), 'site2': (8, 8, 2), 'site3': (8, 8, 2), 'site4': (8, 2)}\n",
      "MPO site shapes: {'site0': (3, 2, 2), 'site1': (3, 3, 2, 2), 'site2': (3, 3, 2, 2), 'site3': (3, 3, 2, 2), 'site4': (3, 2, 2)}\n"
     ]
    }
   ],
   "source": [
    "node_shapes = {node_id: mps.nodes[node_id].tensor.shape for node_id in mps.nodes}\n",
    "print(\"MPS site shapes:\", node_shapes)\n",
    "\n",
    "node_shapes = {node_id: ham.nodes[node_id].tensor.shape for node_id in ham.nodes}\n",
    "print(\"MPO site shapes:\", node_shapes)"
   ]
  },
  {
   "attachments": {},
   "cell_type": "markdown",
   "metadata": {},
   "source": [
    "## TDVP for MPS: Multi-qubit system evolution under Heisenberg Hamiltonian\n",
    "Run TDVP simulation for 1 with time step size of 0.001"
   ]
  },
  {
   "cell_type": "code",
   "execution_count": 20,
   "metadata": {},
   "outputs": [],
   "source": [
    "time_step_size = 0.001\n",
    "final_time = 1\n",
    "operators = [{node_id: Z} for node_id in mps.nodes]\n",
    "\n",
    "tdvp_sim = ptn.TDVP(deepcopy(mps), deepcopy(ham), time_step_size=time_step_size, final_time=final_time, operators=operators)"
   ]
  },
  {
   "cell_type": "code",
   "execution_count": 21,
   "metadata": {},
   "outputs": [
    {
     "name": "stderr",
     "output_type": "stream",
     "text": [
      "100%|██████████| 1001/1001 [00:54<00:00, 18.35it/s]\n"
     ]
    }
   ],
   "source": [
    "tdvp_sim.run()"
   ]
  },
  {
   "cell_type": "markdown",
   "metadata": {},
   "source": [
    "## TDVP for MPS: Two-qubit system evolution under Heisenberg Hamiltonian\n",
    "\n",
    "Validate results by comparison to analytical result"
   ]
  },
  {
   "cell_type": "code",
   "execution_count": 22,
   "metadata": {},
   "outputs": [],
   "source": [
    "zero_state = np.asarray([1,0], dtype=complex)\n",
    "ref_state = zero_state\n",
    "for site in range(1, num_sites):\n",
    "    ref_state = np.kron(ref_state, zero_state)\n",
    "\n",
    "ref_zero_state = ref_state\n",
    "ref_hamiltonian = np.zeros((2**num_sites, 2**num_sites), dtype=complex)\n",
    "I = np.eye(2)\n",
    "\n",
    "# Two-site terms\n",
    "for site in range(0,num_sites-1):\n",
    "    operator = np.asarray([1])\n",
    "    for site2 in range(0,num_sites):\n",
    "        \n",
    "        if site2 == site:\n",
    "            operator = np.kron(operator, X)\n",
    "        elif site2 == site+1:\n",
    "            operator = np.kron(operator, mJ*X)\n",
    "        else:\n",
    "            operator = np.kron(operator, I)\n",
    "    ref_hamiltonian += operator\n",
    "    \n",
    "# Single-site terms\n",
    "for site in range(0,num_sites):\n",
    "    operator = np.asarray([1])\n",
    "    for site2 in range(0,num_sites):\n",
    "        if site2 == site:\n",
    "            operator = np.kron(operator, mg*Z)\n",
    "        else:\n",
    "            operator = np.kron(operator, I)\n",
    "    ref_hamiltonian += operator"
   ]
  },
  {
   "cell_type": "code",
   "execution_count": 23,
   "metadata": {},
   "outputs": [],
   "source": [
    "operators = []\n",
    "\n",
    "for sites in range(num_sites):\n",
    "    site_operator = np.asarray([1])\n",
    "    for sites2 in range(num_sites):\n",
    "        if sites2 == sites:\n",
    "            site_operator = np.kron(site_operator, Z)\n",
    "        else:\n",
    "            site_operator = np.kron(site_operator, I)\n",
    "    operators.append(site_operator)"
   ]
  },
  {
   "cell_type": "code",
   "execution_count": 24,
   "metadata": {},
   "outputs": [],
   "source": [
    "results = ptn.state_vector_time_evolution(ref_state, ref_hamiltonian, final_time, time_step_size, operators)"
   ]
  },
  {
   "cell_type": "code",
   "execution_count": 25,
   "metadata": {},
   "outputs": [
    {
     "data": {
      "image/png": "[encoded data removed]",
      "text/plain": [
       "<Figure size 1440x288 with 2 Axes>"
      ]
     },
     "metadata": {
      "needs_background": "light"
     },
     "output_type": "display_data"
    }
   ],
   "source": [
    "ref_times = [time.real for time in results[-1]]\n",
    "\n",
    "fig, axs = plt.subplots(1, 2, sharex=True, sharey=True, figsize=(20,4))\n",
    "\n",
    "fig.suptitle(\"Expectation Value Dynamics\")\n",
    "\n",
    "for site in range(num_sites):\n",
    "    axs[0].plot([time.real for time in tdvp_sim.results[-1]], [exp_val.real for exp_val in tdvp_sim.results[site]])\n",
    "\n",
    "axs[0].set_ylabel(\"Expectation Value\")\n",
    "axs[0].set_xlabel(\"Time $t$\")\n",
    "axs[0].set_title(\"TDVP\")\n",
    "\n",
    "for site in range(num_sites):\n",
    "    axs[1].plot(ref_times, [exp_val.real for exp_val in results[site]])\n",
    "\n",
    "axs[1].set_xlabel(\"Time $t$\")\n",
    "axs[1].set_title(\"Reference\")\n",
    "\n",
    "plt.show()"
   ]
  },
  {
   "cell_type": "code",
   "execution_count": null,
   "metadata": {},
   "outputs": [],
   "source": []
  }
 ],
 "metadata": {
  "kernelspec": {
   "display_name": "Python 3",
   "language": "python",
   "name": "python3"
  },
  "language_info": {
   "codemirror_mode": {
    "name": "ipython",
    "version": 3
   },
   "file_extension": ".py",
   "mimetype": "text/x-python",
   "name": "python",
   "nbconvert_exporter": "python",
   "pygments_lexer": "ipython3",
   "version": "3.10.2"
  },
  "orig_nbformat": 4
 },
 "nbformat": 4,
 "nbformat_minor": 2
}
