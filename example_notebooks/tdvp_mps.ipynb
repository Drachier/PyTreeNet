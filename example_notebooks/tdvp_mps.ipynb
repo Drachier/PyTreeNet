{
 "cells": [
  {
   "attachments": {},
   "cell_type": "markdown",
   "id": "cc2da072",
   "metadata": {},
   "source": [
    "# Building an MPS as a tree and using TDVP for time-evolution\n",
    "This is a copy of `tebd_mps.ipynb` adapted for TDVP.\n",
    "\n",
    "A matrix product state (MPS) is a binary tree. Therefore, we can simulate it using `PyTreeNet`. We recommend to use tensor network libraries specialised on MPS for serious simulation, due to a higher efficiency. However, utilising `PyTreeNet` on MPS is useful as an illustrative example and to test the code for mistakes, by comparing to the results yielded by the easy to implement few-site dynamics."
   ]
  },
  {
   "cell_type": "code",
   "execution_count": 1,
   "id": "ccd0b331",
   "metadata": {},
   "outputs": [],
   "source": [
    "# Import PyTreeNet from local folders\n",
    "import sys\n",
    "sys.path.append('..')\n",
    "import pytreenet as ptn\n",
    "\n",
    "import numpy as np\n",
    "import matplotlib.pyplot as plt\n",
    "\n",
    "from scipy.linalg import expm\n",
    "from copy import deepcopy"
   ]
  },
  {
   "attachments": {},
   "cell_type": "markdown",
   "id": "88e96404",
   "metadata": {},
   "source": [
    "## Setting up and running TDVP"
   ]
  },
  {
   "cell_type": "code",
   "execution_count": 2,
   "id": "c7216803",
   "metadata": {},
   "outputs": [],
   "source": [
    "# Define constants\n",
    "num_sites = 2\n",
    "virtual_bond_dimension = 6\n",
    "mJ = 1.5\n",
    "mg = 0.5\n",
    "\n",
    "# Define operators\n",
    "mps = ptn.models.mps_zero(num_sites, virtual_bond_dimension)\n",
    "ham = ptn.models.mps_heisenberg(num_sites, mJ, 0, 0, mg)"
   ]
  },
  {
   "cell_type": "code",
   "execution_count": 3,
   "id": "a431e643",
   "metadata": {},
   "outputs": [
    {
     "data": {
      "text/plain": [
       "array([[ 1. +0.j,  0. +0.j,  0. +0.j, -1.5+0.j],\n",
       "       [ 0. +0.j,  0. +0.j, -1.5+0.j,  0. +0.j],\n",
       "       [ 0. +0.j, -1.5+0.j,  0. +0.j,  0. +0.j],\n",
       "       [-1.5+0.j,  0. +0.j,  0. +0.j, -1. +0.j]])"
      ]
     },
     "execution_count": 3,
     "metadata": {},
     "output_type": "execute_result"
    }
   ],
   "source": [
    "ham_mat = np.tensordot(ham[\"site0\"].tensor, ham[\"site1\"].tensor, axes=(0, 0))\n",
    "ham_mat = ham_mat.transpose((0,2,1,3))\n",
    "ham_mat = ham_mat.reshape((4, 4))\n",
    "\n",
    "ham_mat"
   ]
  },
  {
   "cell_type": "code",
   "execution_count": 4,
   "id": "06b491da",
   "metadata": {},
   "outputs": [
    {
     "name": "stdout",
     "output_type": "stream",
     "text": [
      "{'site0': (6, 2), 'site1': (6, 2)}\n",
      "Norm = 1.0\n",
      "{'site0': (3, 2, 2), 'site1': (3, 2, 2)}\n"
     ]
    }
   ],
   "source": [
    "node_shapes = {node_id: mps.nodes[node_id].tensor.shape for node_id in mps.nodes}\n",
    "print(node_shapes)\n",
    "print(f\"Norm = {np.sqrt(ptn.scalar_product(mps))}\")\n",
    "\n",
    "node_shapes = {node_id: ham.nodes[node_id].tensor.shape for node_id in ham.nodes}\n",
    "print(node_shapes)"
   ]
  },
  {
   "cell_type": "code",
   "execution_count": 5,
   "id": "f1631471",
   "metadata": {},
   "outputs": [],
   "source": [
    "mps.orthogonalize(\"site1\")"
   ]
  },
  {
   "cell_type": "code",
   "execution_count": 6,
   "id": "122f806d",
   "metadata": {},
   "outputs": [
    {
     "name": "stderr",
     "output_type": "stream",
     "text": [
      "100%|██████████| 2/2 [00:00<00:00, 286.47it/s]\n"
     ]
    }
   ],
   "source": [
    "time_step_size = 0.01\n",
    "final_time = 0.01\n",
    "# We want to observe the evolution of the Z-operator expectation at each site.\n",
    "X, Y, Z = ptn.pauli_matrices()\n",
    "operators = [{node_id: Z} for node_id in mps.nodes]\n",
    "\n",
    "# We instantiate the TDVP simulation.\n",
    "tdvp_sim = ptn.TDVP(deepcopy(mps), deepcopy(ham), time_step_size=time_step_size, final_time=final_time, operators=operators)\n",
    "\n",
    "# After the set up is complete, we merely have to run the simulation.\n",
    "tdvp_sim.run()"
   ]
  },
  {
   "cell_type": "markdown",
   "id": "24bcb7bf",
   "metadata": {},
   "source": [
    "## Running the reference matrix vector computation\n",
    "As a reference we will run a computation on a full state vector. Thus we have to reinitialise the initial state:"
   ]
  },
  {
   "cell_type": "code",
   "execution_count": 7,
   "id": "2f2649af",
   "metadata": {},
   "outputs": [],
   "source": [
    "zero_state = np.asarray([1,0])\n",
    "\n",
    "ref_state = zero_state\n",
    "\n",
    "for site in range(1, num_sites):\n",
    "    ref_state = np.kron(ref_state, zero_state)\n",
    "    \n",
    "# print(f\"Initial state {ref_state} is a vector with 2^{num_sites}={len(ref_state)} entries.\")"
   ]
  },
  {
   "cell_type": "code",
   "execution_count": 8,
   "id": "d9ac8df0",
   "metadata": {},
   "outputs": [
    {
     "name": "stdout",
     "output_type": "stream",
     "text": [
      "The Hamiltonian is a (4, 4)-shaped matrix and contains (2^2)^2=16 entries.\n"
     ]
    }
   ],
   "source": [
    "ref_hamiltonian = np.zeros((2**num_sites, 2**num_sites), dtype=complex)\n",
    "\n",
    "I = np.eye(2)\n",
    "J = -mJ\n",
    "\n",
    "ref_state_0 = ref_state\n",
    "# Two-site terms\n",
    "for site in range(0,num_sites-1):\n",
    "    operator = np.asarray([1])\n",
    "    for site2 in range(0,num_sites):\n",
    "        \n",
    "        if site2 == site:\n",
    "            operator = np.kron(operator, J*X)\n",
    "        elif site2 == site+1:\n",
    "            operator = np.kron(operator, X)\n",
    "        else:\n",
    "            operator = np.kron(operator, I)\n",
    "    \n",
    "    ref_hamiltonian += operator\n",
    "    \n",
    "# Single-site terms\n",
    "for site in range(0,num_sites):\n",
    "    operator = np.asarray([1])\n",
    "    for site2 in range(0,num_sites):\n",
    "        \n",
    "        if site2 == site:\n",
    "            operator = np.kron(operator, mg*Z)\n",
    "        else:\n",
    "            operator = np.kron(operator, I)\n",
    "    \n",
    "    ref_hamiltonian += operator\n",
    "    \n",
    "print(f\"The Hamiltonian is a {ref_hamiltonian.shape}-shaped matrix and contains (2^{num_sites})^2={len(ref_state)**2} entries.\")"
   ]
  },
  {
   "cell_type": "code",
   "execution_count": 9,
   "id": "5dc6547b",
   "metadata": {},
   "outputs": [],
   "source": [
    "operators = []\n",
    "\n",
    "for sites in range(num_sites):\n",
    "    site_operator = np.asarray([1])\n",
    "    for sites2 in range(num_sites):\n",
    "        if sites2 == sites:\n",
    "            site_operator = np.kron(site_operator, Z)\n",
    "        else:\n",
    "            site_operator = np.kron(site_operator, I)\n",
    "            \n",
    "    operators.append(site_operator)"
   ]
  },
  {
   "cell_type": "code",
   "execution_count": 10,
   "id": "09810ba5",
   "metadata": {},
   "outputs": [
    {
     "data": {
      "text/plain": [
       "(3, 2)"
      ]
     },
     "execution_count": 10,
     "metadata": {},
     "output_type": "execute_result"
    }
   ],
   "source": [
    "num_time_steps = int(np.ceil(final_time / time_step_size))\n",
    "\n",
    "results = np.zeros((len(operators) + 1, num_time_steps + 1), dtype=complex)\n",
    "\n",
    "for time_step in range(num_time_steps + 1):\n",
    "    if time_step != 0:\n",
    "        ref_state = ptn.fast_exp_action(-1j*time_step_size*ref_hamiltonian, ref_state)\n",
    "        # exp_operator @ ref_state\n",
    "    \n",
    "    conj_state = np.conjugate(ref_state.T)\n",
    "    for i, operator in enumerate(operators):\n",
    "        results[i,time_step] = conj_state @ operator @ ref_state\n",
    "        \n",
    "    results[-1,time_step] = time_step * time_step_size\n",
    "    \n",
    "results.shape"
   ]
  },
  {
   "cell_type": "code",
   "execution_count": 11,
   "id": "9a907760",
   "metadata": {},
   "outputs": [
    {
     "data": {
      "text/plain": [
       "True"
      ]
     },
     "execution_count": 11,
     "metadata": {},
     "output_type": "execute_result"
    }
   ],
   "source": [
    "np.allclose(ham_mat, ref_hamiltonian)"
   ]
  },
  {
   "cell_type": "code",
   "execution_count": 12,
   "id": "72f4e60e",
   "metadata": {},
   "outputs": [
    {
     "data": {
      "text/plain": [
       "0.014999187513203028"
      ]
     },
     "execution_count": 12,
     "metadata": {},
     "output_type": "execute_result"
    }
   ],
   "source": [
    "mps_tdvp = tdvp_sim.state\n",
    "ref_state = ref_state\n",
    "np.linalg.norm(np.tensordot(mps_tdvp[\"site0\"].tensor, mps_tdvp[\"site1\"].tensor, axes=(0,0)).reshape((4,)) - ref_state)"
   ]
  },
  {
   "cell_type": "code",
   "execution_count": 13,
   "id": "8096a001",
   "metadata": {},
   "outputs": [
    {
     "data": {
      "text/plain": [
       "array([ 9.99837504e-01-9.99945834e-03j,  0.00000000e+00+0.00000000e+00j,\n",
       "        0.00000000e+00+0.00000000e+00j, -2.31227009e-20-6.85402575e-18j])"
      ]
     },
     "execution_count": 13,
     "metadata": {},
     "output_type": "execute_result"
    }
   ],
   "source": [
    "np.tensordot(mps_tdvp[\"site0\"].tensor, mps_tdvp[\"site1\"].tensor, axes=(0,0)).reshape((4,))"
   ]
  },
  {
   "cell_type": "code",
   "execution_count": 14,
   "id": "45f4cf28",
   "metadata": {},
   "outputs": [
    {
     "data": {
      "text/plain": [
       "array([0.9998375-0.00999946j, 0.       +0.j        ,\n",
       "       0.       +0.j        , 0.       +0.01499919j])"
      ]
     },
     "execution_count": 14,
     "metadata": {},
     "output_type": "execute_result"
    }
   ],
   "source": [
    "ref_state"
   ]
  },
  {
   "cell_type": "code",
   "execution_count": 15,
   "id": "2d633ad9",
   "metadata": {},
   "outputs": [
    {
     "data": {
      "text/plain": [
       "True"
      ]
     },
     "execution_count": 15,
     "metadata": {},
     "output_type": "execute_result"
    }
   ],
   "source": [
    "np.allclose(ref_state, ptn.fast_exp_action(-1j*time_step_size*ham_mat, np.tensordot(mps[\"site0\"].tensor, mps[\"site1\"].tensor, axes=(0,0)).reshape((4,))))"
   ]
  },
  {
   "cell_type": "code",
   "execution_count": null,
   "id": "4bbb09aa",
   "metadata": {},
   "outputs": [],
   "source": []
  }
 ],
 "metadata": {
  "kernelspec": {
   "display_name": "Python 3 (ipykernel)",
   "language": "python",
   "name": "python3"
  },
  "language_info": {
   "codemirror_mode": {
    "name": "ipython",
    "version": 3
   },
   "file_extension": ".py",
   "mimetype": "text/x-python",
   "name": "python",
   "nbconvert_exporter": "python",
   "pygments_lexer": "ipython3",
   "version": "3.10.2"
  }
 },
 "nbformat": 4,
 "nbformat_minor": 5
}
