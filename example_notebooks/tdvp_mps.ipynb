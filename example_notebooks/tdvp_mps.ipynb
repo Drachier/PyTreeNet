{
 "cells": [
  {
   "attachments": {},
   "cell_type": "markdown",
   "id": "cc2da072",
   "metadata": {},
   "source": [
    "# Building an MPS as a tree and using TDVP for time-evolution\n",
    "This is a copy of `tebd_mps.ipynb` adapted for TDVP.\n",
    "\n",
    "A matrix product state (MPS) is a binary tree. Therefore, we can simulate it using `PyTreeNet`. We recommend to use tensor network libraries specialised on MPS for serious simulation, due to a higher efficiency. However, utilising `PyTreeNet` on MPS is useful as an illustrative example and to test the code for mistakes, by comparing to the results yielded by the easy to implement few-site dynamics."
   ]
  },
  {
   "cell_type": "code",
   "execution_count": 1,
   "id": "ccd0b331",
   "metadata": {},
   "outputs": [],
   "source": [
    "# Import PyTreeNet from local folders\n",
    "import sys\n",
    "sys.path.append('..')\n",
    "import pytreenet as ptn\n",
    "\n",
    "import numpy as np\n",
    "import matplotlib.pyplot as plt\n",
    "\n",
    "from scipy.linalg import expm\n",
    "from copy import deepcopy"
   ]
  },
  {
   "attachments": {},
   "cell_type": "markdown",
   "id": "88e96404",
   "metadata": {},
   "source": [
    "## Setting up and running TDVP"
   ]
  },
  {
   "cell_type": "code",
   "execution_count": 2,
   "id": "c7216803",
   "metadata": {},
   "outputs": [],
   "source": [
    "# Define constants\n",
    "num_sites = 2\n",
    "virtual_bond_dimension = 7\n",
    "mJ = 1.5\n",
    "mg = 0.5\n",
    "\n",
    "# Define operators\n",
    "mps = ptn.models.mps_zero(num_sites, virtual_bond_dimension)\n",
    "ham = ptn.models.mps_heisenberg(num_sites, mJ, 0, 0, mg)"
   ]
  },
  {
   "cell_type": "code",
   "execution_count": 3,
   "id": "06b491da",
   "metadata": {},
   "outputs": [
    {
     "name": "stdout",
     "output_type": "stream",
     "text": [
      "{'site0': (7, 2), 'site1': (7, 2)}\n",
      "Norm = 1.0\n",
      "{'site0': (3, 2, 2), 'site1': (3, 2, 2)}\n"
     ]
    }
   ],
   "source": [
    "node_shapes = {node_id: mps.nodes[node_id].tensor.shape for node_id in mps.nodes}\n",
    "print(node_shapes)\n",
    "print(f\"Norm = {np.sqrt(ptn.scalar_product(mps))}\")\n",
    "\n",
    "node_shapes = {node_id: ham.nodes[node_id].tensor.shape for node_id in ham.nodes}\n",
    "print(node_shapes)"
   ]
  },
  {
   "cell_type": "code",
   "execution_count": 4,
   "id": "f1631471",
   "metadata": {},
   "outputs": [],
   "source": [
    "mps.orthogonalize(\"site1\")"
   ]
  },
  {
   "cell_type": "code",
   "execution_count": 5,
   "id": "122f806d",
   "metadata": {},
   "outputs": [
    {
     "name": "stderr",
     "output_type": "stream",
     "text": [
      "100%|██████████| 1001/1001 [00:04<00:00, 200.58it/s]\n"
     ]
    }
   ],
   "source": [
    "time_step_size = 0.001\n",
    "final_time = 1\n",
    "# We want to observe the evolution of the Z-operator expectation at each site.\n",
    "X, Y, Z = ptn.pauli_matrices()\n",
    "operators = [{node_id: Z} for node_id in mps.nodes]\n",
    "\n",
    "# We instantiate the TDVP simulation.\n",
    "tdvp_sim = ptn.TDVP(deepcopy(mps), deepcopy(ham), time_step_size=time_step_size, final_time=final_time, operators=operators)\n",
    "\n",
    "# After the set up is complete, we merely have to run the simulation.\n",
    "tdvp_sim.run()"
   ]
  },
  {
   "cell_type": "markdown",
   "id": "24bcb7bf",
   "metadata": {},
   "source": [
    "## Running the reference matrix vector computation\n",
    "As a reference we will run a computation on a full state vector. Thus we have to reinitialise the initial state:"
   ]
  },
  {
   "cell_type": "code",
   "execution_count": 6,
   "id": "2f2649af",
   "metadata": {},
   "outputs": [],
   "source": [
    "zero_state = np.asarray([1,0])\n",
    "\n",
    "ref_state = zero_state\n",
    "\n",
    "for site in range(1, num_sites):\n",
    "    ref_state = np.kron(ref_state, zero_state)\n",
    "    \n",
    "# print(f\"Initial state {ref_state} is a vector with 2^{num_sites}={len(ref_state)} entries.\")"
   ]
  },
  {
   "cell_type": "code",
   "execution_count": 7,
   "id": "d9ac8df0",
   "metadata": {},
   "outputs": [
    {
     "name": "stdout",
     "output_type": "stream",
     "text": [
      "The Hamiltonian is a (4, 4)-shaped matrix and contains (2^2)^2=16 entries.\n"
     ]
    }
   ],
   "source": [
    "ref_hamiltonian = np.zeros((2**num_sites, 2**num_sites), dtype=complex)\n",
    "\n",
    "I = np.eye(2)\n",
    "J = -mJ\n",
    "\n",
    "ref_state_0 = ref_state\n",
    "# Two-site terms\n",
    "for site in range(0,num_sites-1):\n",
    "    operator = np.asarray([1])\n",
    "    for site2 in range(0,num_sites):\n",
    "        \n",
    "        if site2 == site:\n",
    "            operator = np.kron(operator, J*X)\n",
    "        elif site2 == site+1:\n",
    "            operator = np.kron(operator, X)\n",
    "        else:\n",
    "            operator = np.kron(operator, I)\n",
    "    \n",
    "    ref_hamiltonian += operator\n",
    "    \n",
    "# Single-site terms\n",
    "for site in range(0,num_sites):\n",
    "    operator = np.asarray([1])\n",
    "    for site2 in range(0,num_sites):\n",
    "        \n",
    "        if site2 == site:\n",
    "            operator = np.kron(operator, mg*Z)\n",
    "        else:\n",
    "            operator = np.kron(operator, I)\n",
    "    \n",
    "    ref_hamiltonian += operator\n",
    "    \n",
    "print(f\"The Hamiltonian is a {ref_hamiltonian.shape}-shaped matrix and contains (2^{num_sites})^2={len(ref_state)**2} entries.\")"
   ]
  },
  {
   "cell_type": "code",
   "execution_count": 8,
   "id": "5dc6547b",
   "metadata": {},
   "outputs": [],
   "source": [
    "operators = []\n",
    "\n",
    "for sites in range(num_sites):\n",
    "    site_operator = np.asarray([1])\n",
    "    for sites2 in range(num_sites):\n",
    "        if sites2 == sites:\n",
    "            site_operator = np.kron(site_operator, Z)\n",
    "        else:\n",
    "            site_operator = np.kron(site_operator, I)\n",
    "            \n",
    "    operators.append(site_operator)"
   ]
  },
  {
   "cell_type": "code",
   "execution_count": 9,
   "id": "09810ba5",
   "metadata": {},
   "outputs": [],
   "source": [
    "num_time_steps = int(np.ceil(final_time / time_step_size))\n",
    "\n",
    "results = np.zeros((len(operators) + 1, num_time_steps + 1), dtype=complex)\n",
    "\n",
    "for time_step in range(num_time_steps + 1):\n",
    "    if time_step != 0:\n",
    "        ref_state = ptn.fast_exp_action(-1j*time_step_size*ref_hamiltonian, ref_state)\n",
    "    \n",
    "    conj_state = np.conjugate(ref_state.T)\n",
    "    for i, operator in enumerate(operators):\n",
    "        results[i,time_step] = conj_state @ operator @ ref_state\n",
    "        \n",
    "    results[-1,time_step] = time_step * time_step_size"
   ]
  },
  {
   "cell_type": "code",
   "execution_count": 10,
   "id": "c5b966dd",
   "metadata": {},
   "outputs": [
    {
     "data": {
      "image/png": "[encoded data removed]",
      "text/plain": [
       "<Figure size 720x576 with 2 Axes>"
      ]
     },
     "metadata": {
      "needs_background": "light"
     },
     "output_type": "display_data"
    }
   ],
   "source": [
    "ref_times = [time.real for time in results[-1]]\n",
    "\n",
    "fig, axs = plt.subplots(2, 1, sharex=True, sharey=False, figsize=(10,8))\n",
    "\n",
    "fig.suptitle(\"Expectation Value Dynamics\")\n",
    "\n",
    "for site in range(num_sites):\n",
    "    axs[0].plot([time.real for time in tdvp_sim.results[-1]], [exp_val.real for exp_val in tdvp_sim.results[site]])\n",
    "\n",
    "axs[0].set_ylabel(\"Expectation Values\")\n",
    "axs[0].set_title(\"TDVP\")\n",
    "\n",
    "for site in range(num_sites):\n",
    "    axs[1].plot(ref_times, [exp_val.real for exp_val in results[site]])\n",
    "\n",
    "axs[1].set_xlabel(\"Time $t$\")\n",
    "axs[1].set_ylabel(\"Expectation Value\")\n",
    "axs[1].set_title(\"Reference\")\n",
    "\n",
    "plt.show()"
   ]
  },
  {
   "cell_type": "code",
   "execution_count": null,
   "id": "c1f837f5",
   "metadata": {},
   "outputs": [],
   "source": []
  },
  {
   "cell_type": "code",
   "execution_count": null,
   "id": "e768910c",
   "metadata": {},
   "outputs": [],
   "source": []
  }
 ],
 "metadata": {
  "kernelspec": {
   "display_name": "Python 3 (ipykernel)",
   "language": "python",
   "name": "python3"
  },
  "language_info": {
   "codemirror_mode": {
    "name": "ipython",
    "version": 3
   },
   "file_extension": ".py",
   "mimetype": "text/x-python",
   "name": "python",
   "nbconvert_exporter": "python",
   "pygments_lexer": "ipython3",
   "version": "3.10.2"
  }
 },
 "nbformat": 4,
 "nbformat_minor": 5
}
