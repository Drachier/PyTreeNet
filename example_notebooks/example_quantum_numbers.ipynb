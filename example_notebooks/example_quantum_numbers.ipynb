{
 "cells": [
  {
   "cell_type": "markdown",
   "id": "422f5f93",
   "metadata": {},
   "source": [
    "# Using Quantum Numbers with PyTreeNet"
   ]
  },
  {
   "cell_type": "code",
   "execution_count": 1,
   "id": "4a29fb9a",
   "metadata": {},
   "outputs": [],
   "source": [
    "from pytreenet.core.quantum_numbers.qn_ttn import QNTTN, num_nonzero\n",
    "from pytreenet.core.quantum_numbers.qn_node import QNNode\n",
    "from pytreenet.random.random_matrices import crandn\n"
   ]
  },
  {
   "cell_type": "markdown",
   "id": "509f2aeb",
   "metadata": {},
   "source": [
    "## Simple Examples\n",
    "As a first step we build the TTN, were $A$ is the root and has the two children $B$ and $C$."
   ]
  },
  {
   "cell_type": "code",
   "execution_count": 2,
   "id": "73bae706",
   "metadata": {},
   "outputs": [],
   "source": [
    "ttn = QNTTN()\n",
    "identifiers = [\"A\", \"B\", \"C\"]\n",
    "node_a = QNNode(identifier=identifiers[0])\n",
    "tensor_a = crandn(3,4,2)\n",
    "qn_a = [[1,0,-1],[1,1,0,0],[1,-1]]\n",
    "ttn.add_root(node_a, (tensor_a, qn_a))"
   ]
  },
  {
   "cell_type": "markdown",
   "id": "3834d65f",
   "metadata": {},
   "source": [
    "We know that node $A$ will have six non-zero elements, by checking the different combinations of quantum numbers adding to zero. We can find this automatically via"
   ]
  },
  {
   "cell_type": "code",
   "execution_count": 3,
   "id": "68978505",
   "metadata": {},
   "outputs": [
    {
     "data": {
      "text/plain": [
       "6"
      ]
     },
     "execution_count": 3,
     "metadata": {},
     "output_type": "execute_result"
    }
   ],
   "source": [
    "num_nonzero(ttn.find_open_qn([\"A\"]))"
   ]
  },
  {
   "cell_type": "markdown",
   "id": "8c3b1f43",
   "metadata": {},
   "source": [
    "Now we add the two children."
   ]
  },
  {
   "cell_type": "code",
   "execution_count": 4,
   "id": "2b2e1b04",
   "metadata": {},
   "outputs": [],
   "source": [
    "node_b = QNNode(identifier=identifiers[1])\n",
    "tensor_b = crandn(3,5)\n",
    "qn_b = [[1,0,-1],[1,1,0,-1,-1]]\n",
    "ttn.add_child_to_parent(node_b, (tensor_b, qn_b), 0,\n",
    "                        identifiers[0], 0)\n",
    "node_c = QNNode(identifier=identifiers[2])\n",
    "tensor_c = crandn(4,5)\n",
    "qn_c = [[1,1,0,0],[1,1,0,-1,-1]]\n",
    "ttn.add_child_to_parent(node_c, (tensor_c, qn_c), 0,\n",
    "                        identifiers[0], 1)"
   ]
  },
  {
   "cell_type": "markdown",
   "id": "3780959f",
   "metadata": {},
   "source": [
    "We can easily find the non-zero elements of a subcontraction of a TTN by specifing the nodes that would be contracted."
   ]
  },
  {
   "cell_type": "code",
   "execution_count": 5,
   "id": "a6c06d7d",
   "metadata": {},
   "outputs": [
    {
     "data": {
      "text/plain": [
       "8"
      ]
     },
     "execution_count": 5,
     "metadata": {},
     "output_type": "execute_result"
    }
   ],
   "source": [
    "num_nonzero(ttn.find_open_qn(identifiers))"
   ]
  },
  {
   "cell_type": "code",
   "execution_count": null,
   "id": "98bd9437",
   "metadata": {},
   "outputs": [],
   "source": []
  }
 ],
 "metadata": {
  "kernelspec": {
   "display_name": ".venv",
   "language": "python",
   "name": "python3"
  },
  "language_info": {
   "codemirror_mode": {
    "name": "ipython",
    "version": 3
   },
   "file_extension": ".py",
   "mimetype": "text/x-python",
   "name": "python",
   "nbconvert_exporter": "python",
   "pygments_lexer": "ipython3",
   "version": "3.11.9"
  }
 },
 "nbformat": 4,
 "nbformat_minor": 5
}
