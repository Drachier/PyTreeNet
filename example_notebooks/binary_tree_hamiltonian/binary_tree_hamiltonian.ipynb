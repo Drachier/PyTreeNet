{
 "cells": [
  {
   "cell_type": "code",
   "execution_count": null,
   "metadata": {},
   "outputs": [
    {
     "name": "stdout",
     "output_type": "stream",
     "text": [
      "(2, 2, 2, 2) node_left_1\n",
      "(2, 2, 2, 2) node_right_2\n",
      "(2, 2, 2, 2) node_left_3\n",
      "(2, 2, 2, 2) node_right_4\n",
      "(2, 2, 2) node_left_5\n",
      "(2, 2, 2) node_right_6\n",
      "(2, 2, 2) node_left_7\n",
      "(2, 2, 2) node_right_8\n"
     ]
    }
   ],
   "source": [
    "import pytreenet as ptn\n",
    "from pytreenet import random\n",
    "\n",
    "\"\"\"\n",
    "This method creates a binary tree with num_nodes (number of nodes),\n",
    "and where each side is one unit (has one physical leg)\n",
    "\"\"\"\n",
    "def create_binary_tree(num_nodes):\n",
    "    ttn = ptn.TreeTensorNetwork()\n",
    "\n",
    "    if num_nodes < 1:\n",
    "        raise ValueError(\"The number of nodes must be at least 1.\")\n",
    "\n",
    "    root_node, root_tensor = random.random_tensor_node((2, 2, 2), \"root\")\n",
    "    ttn.add_root(root_node, root_tensor)\n",
    "\n",
    "    nodes = [(\"root\", root_node, root_tensor)]\n",
    "    current_node_count = 1\n",
    "\n",
    "    while current_node_count < num_nodes:\n",
    "        parent_name = nodes.pop(0)[0]\n",
    "\n",
    "        if current_node_count < num_nodes:\n",
    "            left_name = f\"node_left_{current_node_count}\"\n",
    "            left_shape = (\n",
    "                (2, 2, 2) if (current_node_count * 2 + 1 > num_nodes) else (2, 2, 2, 2)\n",
    "            )\n",
    "            left_child, left_tensor = random.random_tensor_node(left_shape, left_name)\n",
    "            print(left_tensor.shape, left_name)\n",
    "            ttn.add_child_to_parent(left_child, left_tensor, 0, parent_name, 1)\n",
    "            nodes.append((left_name, left_child, left_tensor))\n",
    "            current_node_count += 1\n",
    "\n",
    "        if current_node_count < num_nodes:\n",
    "            right_name = f\"node_right_{current_node_count}\"\n",
    "            right_shape = (\n",
    "                (2, 2, 2) if (current_node_count * 2 + 1 > num_nodes) else (2, 2, 2, 2)\n",
    "            )\n",
    "            right_child, right_tensor = random.random_tensor_node(\n",
    "                right_shape, right_name\n",
    "            )\n",
    "            print(right_tensor.shape, right_name)\n",
    "            ttn.add_child_to_parent(right_child, right_tensor, 1, parent_name, 2)\n",
    "            nodes.append((right_name, right_child, right_tensor))\n",
    "            current_node_count += 1\n",
    "\n",
    "    return ttn\n",
    "\n",
    "\n",
    "binary_tree = create_binary_tree(9)"
   ]
  }
 ],
 "metadata": {
  "kernelspec": {
   "display_name": "Python 3",
   "language": "python",
   "name": "python3"
  },
  "language_info": {
   "codemirror_mode": {
    "name": "ipython",
    "version": 3
   },
   "file_extension": ".py",
   "mimetype": "text/x-python",
   "name": "python",
   "nbconvert_exporter": "python",
   "pygments_lexer": "ipython3",
   "version": "3.12.6"
  }
 },
 "nbformat": 4,
 "nbformat_minor": 2
}
