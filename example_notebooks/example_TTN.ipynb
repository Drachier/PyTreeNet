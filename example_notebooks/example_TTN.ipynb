{
 "cells": [
  {
   "cell_type": "markdown",
   "metadata": {},
   "source": [
    "# How to Build a Tree Tensor Network\n",
    "This notebook is an example on how to build custom tree tensor networks (TTN). As a first step we need to import PyTreeNet."
   ]
  },
  {
   "cell_type": "code",
   "execution_count": 55,
   "metadata": {},
   "outputs": [],
   "source": [
    "import numpy as np\n",
    "import pytreenet as ptn"
   ]
  },
  {
   "cell_type": "markdown",
   "metadata": {},
   "source": [
    "A TTN will always be generated empty."
   ]
  },
  {
   "cell_type": "code",
   "execution_count": 56,
   "metadata": {},
   "outputs": [],
   "source": [
    "ttn = ptn.TreeTensorNetwork()"
   ]
  },
  {
   "cell_type": "markdown",
   "metadata": {},
   "source": [
    "The first node to be added is the root node. This has to be created and added."
   ]
  },
  {
   "cell_type": "code",
   "execution_count": 57,
   "metadata": {},
   "outputs": [
    {
     "name": "stdout",
     "output_type": "stream",
     "text": [
      "Nodes of the TTN before adding the root: {}\n",
      "Nodes of the TTN after adding the root: {'root': <pytreenet.core.node.Node object at 0x0000015BA7177D90>}\n"
     ]
    }
   ],
   "source": [
    "root_node = ptn.Node(identifier=\"root\")\n",
    "root_tensor = ptn.crandn((1,2,3,4))\n",
    "\n",
    "# The data tensor and the node are linked while adding them to the TTN\n",
    "print(f\"Nodes of the TTN before adding the root: {ttn.nodes}\")\n",
    "ttn.add_root(root_node, root_tensor)\n",
    "print(f\"Nodes of the TTN after adding the root: {ttn.nodes}\")"
   ]
  },
  {
   "cell_type": "markdown",
   "metadata": {},
   "source": [
    "The root node is usually the start of recursions and other methods to work with the TTN. There are multiple ways to access nodes in general and the root node specifically:"
   ]
  },
  {
   "cell_type": "code",
   "execution_count": 58,
   "metadata": {},
   "outputs": [
    {
     "name": "stdout",
     "output_type": "stream",
     "text": [
      "Node root\n",
      "Parent: None\n",
      "Children: []\n",
      "Open legs: [0, 1, 2, 3]\n",
      "Shape: (1, 2, 3, 4)\n",
      " (1, 2, 3, 4)\n",
      "Node root\n",
      "Parent: None\n",
      "Children: []\n",
      "Open legs: [0, 1, 2, 3]\n",
      "Shape: (1, 2, 3, 4)\n",
      " (1, 2, 3, 4)\n",
      "Node root\n",
      "Parent: None\n",
      "Children: []\n",
      "Open legs: [0, 1, 2, 3]\n",
      "Shape: (1, 2, 3, 4)\n",
      " (1, 2, 3, 4)\n"
     ]
    }
   ],
   "source": [
    "root_id = ttn.root_id\n",
    "\n",
    "# Using the general way\n",
    "print(ttn.nodes[root_id], ttn.tensors[root_id].shape)\n",
    "\n",
    "# Using the general way to get the tensor as well\n",
    "root_n, root_t = ttn[root_id]\n",
    "print(root_n, root_t.shape)\n",
    "\n",
    "# Using the root property\n",
    "root_n, root_t = ttn.root\n",
    "print(root_n, root_t.shape)"
   ]
  },
  {
   "cell_type": "markdown",
   "metadata": {},
   "source": [
    "Now we would like to add children to the root."
   ]
  },
  {
   "cell_type": "code",
   "execution_count": 59,
   "metadata": {},
   "outputs": [],
   "source": [
    "# Creating multiple nodes and random tensors\n",
    "shapes = {\"child0\": (3,5,5,2), \"child1\": (2,4,4), \"child2\": (2,3,3)}\n",
    "child_nodes = [ptn.random_tensor_node(identifier=ident,shape=shape)\n",
    "               for ident, shape in shapes.items()]\n",
    "\n",
    "# We can now add them using the built-in function\n",
    "ttn.add_child_to_parent(child_nodes[0][0], child_nodes[0][1], 3, root_id, 1)"
   ]
  },
  {
   "cell_type": "markdown",
   "metadata": {},
   "source": [
    "Note that the shape of the nodes in the TTN changes. This ensures the constant leg ordering convention `(parent_leg, children_legs, open_legs)`:"
   ]
  },
  {
   "cell_type": "code",
   "execution_count": 60,
   "metadata": {},
   "outputs": [
    {
     "name": "stdout",
     "output_type": "stream",
     "text": [
      "Root node shape: (2, 1, 3, 4) (before it was (1,2,3,4))\n",
      "Shape of the first child node: (2, 3, 5, 5) (before it was (3,5,5,2))\n"
     ]
    }
   ],
   "source": [
    "print(f\"Root node shape: {ttn.root[0].shape} (before it was (1,2,3,4))\")\n",
    "child_shape = ttn.nodes[\"child0\"].shape\n",
    "print(f\"Shape of the first child node: {child_shape} (before it was (3,5,5,2))\")"
   ]
  },
  {
   "cell_type": "code",
   "execution_count": 61,
   "metadata": {},
   "outputs": [],
   "source": [
    "# Add the remaining children\n",
    "ttn.add_child_to_parent(child_nodes[1][0], child_nodes[1][1], 2, root_id, 3)\n",
    "ttn.add_child_to_parent(child_nodes[2][0], child_nodes[2][1], 1, root_id, 3)"
   ]
  },
  {
   "cell_type": "markdown",
   "metadata": {},
   "source": [
    "We can contract, i.e. combine two nodes:"
   ]
  },
  {
   "cell_type": "code",
   "execution_count": 62,
   "metadata": {},
   "outputs": [
    {
     "name": "stdout",
     "output_type": "stream",
     "text": [
      "Remaining Nodes: ['child1', 'child2', 'child0contrroot']\n",
      "Shape of the new node: (4, 3, 3, 5, 5, 1)\n"
     ]
    }
   ],
   "source": [
    "ttn.contract_nodes(\"child0\",\"root\")\n",
    "print(\"Remaining Nodes:\", list(ttn.nodes.keys()))\n",
    "print(\"Shape of the new node:\", ttn.nodes[\"child0contrroot\"].shape)"
   ]
  },
  {
   "cell_type": "code",
   "execution_count": 63,
   "metadata": {},
   "outputs": [
    {
     "name": "stdout",
     "output_type": "stream",
     "text": [
      "Node child0contrroot\n",
      "Parent: None\n",
      "Children: ['child1', 'child2']\n",
      "Open legs: [2, 3, 4, 5]\n",
      "Shape: (4, 3, 3, 5, 5, 1)\n",
      "\n"
     ]
    }
   ],
   "source": [
    "print(ttn.nodes[\"child0contrroot\"])"
   ]
  },
  {
   "cell_type": "markdown",
   "metadata": {},
   "source": [
    "And we can of course split nodes into two. In that case we need to define which leg should go where:"
   ]
  },
  {
   "cell_type": "code",
   "execution_count": 64,
   "metadata": {},
   "outputs": [
    {
     "name": "stdout",
     "output_type": "stream",
     "text": [
      "Remaining Nodes: ['child1', 'child2', 'new_child0', 'new_root']\n",
      "New Root:\n",
      " Node new_root\n",
      "Parent: None\n",
      "Children: ['new_child0', 'child2']\n",
      "Open legs: [2, 3]\n",
      "Shape: (15, 3, 5, 1)\n",
      "\n",
      "New Child:\n",
      " Node new_child0\n",
      "Parent: new_root\n",
      "Children: ['child1']\n",
      "Open legs: [2, 3]\n",
      "Shape: (15, 4, 3, 5)\n",
      "\n"
     ]
    }
   ],
   "source": [
    "# Using QR decomposition\n",
    "cont_node = ttn.nodes[\"child0contrroot\"]\n",
    "nvirt_legs = cont_node.nvirt_legs()\n",
    "q_legs = ptn.LegSpecification(None, [\"child1\"],[nvirt_legs, nvirt_legs+1],\n",
    "                              node=cont_node)\n",
    "r_legs = ptn.LegSpecification(None, [\"child2\"],[nvirt_legs+2, nvirt_legs+3],\n",
    "                              node=cont_node)\n",
    "r_legs.is_root = True\n",
    "ttn.split_node_qr(\"child0contrroot\", q_legs, r_legs,\n",
    "                  \"new_child0\", \"new_root\")\n",
    "\n",
    "print(\"Remaining Nodes:\", list(ttn.nodes.keys()))\n",
    "print(\"New Root:\\n\", ttn.nodes[\"new_root\"])\n",
    "print(\"New Child:\\n\", ttn.nodes[\"new_child0\"])"
   ]
  },
  {
   "cell_type": "markdown",
   "metadata": {},
   "source": [
    "We can also bring our TTN into a canonical for. This means all nodes but the one defined as the orthogonality center can be interpreted as isometries."
   ]
  },
  {
   "cell_type": "code",
   "execution_count": 65,
   "metadata": {},
   "outputs": [
    {
     "name": "stdout",
     "output_type": "stream",
     "text": [
      "Orthogonality Center: new_root\n"
     ]
    }
   ],
   "source": [
    "ttn.canonical_form(\"new_root\")\n",
    "print(\"Orthogonality Center:\", ttn.orthogonality_center_id)"
   ]
  },
  {
   "cell_type": "markdown",
   "metadata": {},
   "source": [
    "This center can easily be moved around:"
   ]
  },
  {
   "cell_type": "code",
   "execution_count": 66,
   "metadata": {},
   "outputs": [
    {
     "name": "stdout",
     "output_type": "stream",
     "text": [
      "Orthogonality Center: new_child0\n",
      "Orthogonality Center: child1\n"
     ]
    }
   ],
   "source": [
    "ttn.move_orthogonalization_center(\"new_child0\")\n",
    "print(\"Orthogonality Center:\", ttn.orthogonality_center_id)\n",
    "ttn.move_orthogonalization_center(\"child1\")\n",
    "print(\"Orthogonality Center:\", ttn.orthogonality_center_id)"
   ]
  },
  {
   "cell_type": "markdown",
   "metadata": {},
   "source": [
    "We can also contract the complete TTN at any point. However, for anything but toy and debugging cases, this can quickly lead to too high memory requirements."
   ]
  },
  {
   "cell_type": "code",
   "execution_count": 68,
   "metadata": {},
   "outputs": [
    {
     "name": "stdout",
     "output_type": "stream",
     "text": [
      "The tensors were contracted in the order: ['new_root', 'new_child0', 'child1', 'child2']\n",
      "The resulting shape is: (5, 1, 3, 5, 2, 4, 2, 3)\n",
      "This would be 3600 elements\n"
     ]
    }
   ],
   "source": [
    "result, order = ttn.completely_contract_tree(to_copy=True)\n",
    "print(\"The tensors were contracted in the order:\", order)\n",
    "print(\"The resulting shape is:\", result.shape)\n",
    "print(f\"This would be\", np.prod(result.shape), \"elements\")"
   ]
  },
  {
   "cell_type": "code",
   "execution_count": null,
   "metadata": {},
   "outputs": [],
   "source": []
  }
 ],
 "metadata": {
  "kernelspec": {
   "display_name": ".venv",
   "language": "python",
   "name": "python3"
  },
  "language_info": {
   "codemirror_mode": {
    "name": "ipython",
    "version": 3
   },
   "file_extension": ".py",
   "mimetype": "text/x-python",
   "name": "python",
   "nbconvert_exporter": "python",
   "pygments_lexer": "ipython3",
   "version": "3.11.9"
  }
 },
 "nbformat": 4,
 "nbformat_minor": 2
}
