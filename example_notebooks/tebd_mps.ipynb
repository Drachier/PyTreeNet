{
 "cells": [
  {
   "cell_type": "markdown",
   "id": "136e2ba6",
   "metadata": {},
   "source": [
    "# Building an MPS as a tree and using TEBD for time-evolution\n",
    "A matrix product state (MPS) is a binary tree. Therefore, we can simulate it using `PyTreeNet`. We recommend to use tensor network libraries specialised on MPS for serious simulation, due to a higher efficiency. However, utilising `PyTreeNet` on MPS is useful as an illustrative example and to test the code for mistakes, by comparing to the results yielded by the MPS-based simulators."
   ]
  },
  {
   "cell_type": "code",
   "execution_count": 12,
   "id": "ccd0b331",
   "metadata": {},
   "outputs": [],
   "source": [
    "import sys\n",
    "sys.path.append('..')\n",
    "import pytreenet as ptn"
   ]
  },
  {
   "cell_type": "markdown",
   "id": "751f66e8",
   "metadata": {},
   "source": [
    "We want to analyse a chain of $N$-many qubits that evolves under a Heisenber Hamiltonian of the form\n",
    "$$\n",
    "H = J \\sum_{n=0}^{N-1} X_n X_{n+1} + h \\sum_{n=0}^{N-1} Z_n.\n",
    "$$\n",
    "\n",
    "As a first step we will initalise a tree tensor network (TTN) representing an MPS in the initial state where all qubits are in the state $|0>$"
   ]
  },
  {
   "cell_type": "code",
   "execution_count": null,
   "id": "c7216803",
   "metadata": {},
   "outputs": [],
   "source": [
    "J = 1\n",
    "h = 0\n",
    "\n"
   ]
  }
 ],
 "metadata": {
  "kernelspec": {
   "display_name": "Python 3 (ipykernel)",
   "language": "python",
   "name": "python3"
  },
  "language_info": {
   "codemirror_mode": {
    "name": "ipython",
    "version": 3
   },
   "file_extension": ".py",
   "mimetype": "text/x-python",
   "name": "python",
   "nbconvert_exporter": "python",
   "pygments_lexer": "ipython3",
   "version": "3.9.12"
  }
 },
 "nbformat": 4,
 "nbformat_minor": 5
}
