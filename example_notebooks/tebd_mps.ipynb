{
 "cells": [
  {
   "cell_type": "markdown",
   "id": "136e2ba6",
   "metadata": {},
   "source": [
    "# Building an MPS as a tree and using TEBD for time-evolution\n",
    "A matrix product state (MPS) is a binary tree. Therefore, we can simulate it using `PyTreeNet`. We recommend to use tensor network libraries specialised on MPS for serious simulation, due to a higher efficiency. However, utilising `PyTreeNet` on MPS is useful as an illustrative example and to test the code for mistakes, by comparing to the results yielded by the MPS-based simulators."
   ]
  },
  {
   "cell_type": "code",
   "execution_count": 12,
   "id": "ccd0b331",
   "metadata": {},
   "outputs": [],
   "source": [
    "import sys\n",
    "sys.path.append('..')\n",
    "import pytreenet as ptn\n",
    "\n",
    "import numpy as np"
   ]
  },
  {
   "cell_type": "markdown",
   "id": "751f66e8",
   "metadata": {},
   "source": [
    "We want to analyse a chain of $N$-many qubits that evolves under a Heisenber Hamiltonian of the form\n",
    "$$\n",
    "H = J \\sum_{n=0}^{N-1} X_n X_{n+1} + h \\sum_{n=0}^{N-1} Z_n.\n",
    "$$\n",
    "\n",
    "As a first step we will initalise a tree tensor network (TTN) representing an MPS in the initial state where all qubits are in the state $|0>$"
   ]
  },
  {
   "cell_type": "code",
   "execution_count": 13,
   "id": "c7216803",
   "metadata": {},
   "outputs": [],
   "source": [
    "num_sites = 10\n",
    "\n",
    "zero_state = np.asarray([1, 0])\n",
    "\n",
    "# This needs to become a 3-tensor with leg order (left_virt, physical, right_virt)\n",
    "# Initially the virtual legs are trivial, i.e. of dimension 1\n",
    "zero_state = zero_state.reshape((1,2,1))\n",
    "\n",
    "# Now the TTN is created an initially empty\n",
    "mps = ptn.TreeTensorNetwork()\n",
    "\n",
    "# We have to add the sites one by one.\n",
    "for site in range(num_sites):\n",
    "    identifier = \"site\" + str(site)\n",
    "    \n",
    "    if site == 0:\n",
    "        # Open boundary conditions on first site\n",
    "        node = ptn.TensorNode(zero_state[0], identifier = identifier)\n",
    "        \n",
    "        mps.add_root(node)\n",
    "        \n",
    "    elif 0 < site:\n",
    "        if site == num_sites - 1:\n",
    "            # Open boundary conditions on last site\n",
    "            node = ptn.TensorNode(zero_state[:,:,0], identifier = identifier)\n",
    "        else:\n",
    "            node = ptn.TensorNode(zero_state, identifier = identifier)\n",
    "        \n",
    "        parent_id = \"site\" + str(site - 1)\n",
    "        \n",
    "        if site == 1:\n",
    "            # Due to boundary condition on first site\n",
    "            mps.add_child_to_parent(node, 0, parent_id, 1)\n",
    "        else:\n",
    "            mps.add_child_to_parent(node, 0, parent_id, 2)"
   ]
  },
  {
   "cell_type": "markdown",
   "id": "f7365276",
   "metadata": {},
   "source": [
    "We find the TTN contains all the desired sites as nodes and is normalised:"
   ]
  },
  {
   "cell_type": "code",
   "execution_count": 14,
   "id": "06b491da",
   "metadata": {},
   "outputs": [
    {
     "name": "stdout",
     "output_type": "stream",
     "text": [
      "{'site0': (2, 1), 'site1': (1, 2, 1), 'site2': (1, 2, 1), 'site3': (1, 2, 1), 'site4': (1, 2, 1), 'site5': (1, 2, 1), 'site6': (1, 2, 1), 'site7': (1, 2, 1), 'site8': (1, 2, 1), 'site9': (1, 2)}\n",
      "Norm = 1.0\n"
     ]
    }
   ],
   "source": [
    "node_shapes = {node_id: mps.nodes[node_id].tensor.shape for node_id in mps.nodes}\n",
    "print(node_shapes)\n",
    "\n",
    "print(f\"Norm = {np.sqrt(ptn.scalar_product(mps))}\")"
   ]
  },
  {
   "cell_type": "markdown",
   "id": "e067a268",
   "metadata": {},
   "source": [
    "The next step is to set up the Hamiltonian under which the MPS time-evolves."
   ]
  },
  {
   "cell_type": "code",
   "execution_count": 22,
   "id": "c1992091",
   "metadata": {},
   "outputs": [
    {
     "name": "stdout",
     "output_type": "stream",
     "text": [
      "[{'site0': array([[0. , 1.5],\n",
      "       [1.5, 0. ]]), 'site1': array([[0, 1],\n",
      "       [1, 0]])}, {'site1': array([[0. , 1.5],\n",
      "       [1.5, 0. ]]), 'site2': array([[0, 1],\n",
      "       [1, 0]])}, {'site2': array([[0. , 1.5],\n",
      "       [1.5, 0. ]]), 'site3': array([[0, 1],\n",
      "       [1, 0]])}, {'site3': array([[0. , 1.5],\n",
      "       [1.5, 0. ]]), 'site4': array([[0, 1],\n",
      "       [1, 0]])}, {'site4': array([[0. , 1.5],\n",
      "       [1.5, 0. ]]), 'site5': array([[0, 1],\n",
      "       [1, 0]])}, {'site5': array([[0. , 1.5],\n",
      "       [1.5, 0. ]]), 'site6': array([[0, 1],\n",
      "       [1, 0]])}, {'site6': array([[0. , 1.5],\n",
      "       [1.5, 0. ]]), 'site7': array([[0, 1],\n",
      "       [1, 0]])}, {'site7': array([[0. , 1.5],\n",
      "       [1.5, 0. ]]), 'site8': array([[0, 1],\n",
      "       [1, 0]])}, {'site8': array([[0. , 1.5],\n",
      "       [1.5, 0. ]]), 'site9': array([[0, 1],\n",
      "       [1, 0]])}, {'site0': array([[ 0.5,  0. ],\n",
      "       [ 0. , -0.5]])}, {'site1': array([[ 0.5,  0. ],\n",
      "       [ 0. , -0.5]])}, {'site2': array([[ 0.5,  0. ],\n",
      "       [ 0. , -0.5]])}, {'site3': array([[ 0.5,  0. ],\n",
      "       [ 0. , -0.5]])}, {'site4': array([[ 0.5,  0. ],\n",
      "       [ 0. , -0.5]])}, {'site5': array([[ 0.5,  0. ],\n",
      "       [ 0. , -0.5]])}, {'site6': array([[ 0.5,  0. ],\n",
      "       [ 0. , -0.5]])}, {'site7': array([[ 0.5,  0. ],\n",
      "       [ 0. , -0.5]])}, {'site8': array([[ 0.5,  0. ],\n",
      "       [ 0. , -0.5]])}, {'site9': array([[ 0.5,  0. ],\n",
      "       [ 0. , -0.5]])}]\n"
     ]
    }
   ],
   "source": [
    "# Define constants\n",
    "J = 1.5\n",
    "h = 0.5\n",
    "\n",
    "# Define operators\n",
    "X, _, Z = ptn.pauli_matrices()\n",
    "\n",
    "hZ = h * Z\n",
    "\n",
    "hamiltonian = ptn.Hamiltonian()\n",
    "\n",
    "# Add the two-site interaction\n",
    "for site in range(0,num_sites-1): # There is no interaction of the form X_N*X_{N+1}\n",
    "    term = {\"site\" + str(site): J * X, \"site\" + str(site +1): X}\n",
    "    hamiltonian.add_term(term)\n",
    "    \n",
    "# Add local interactions\n",
    "for site in range(0,num_sites):\n",
    "    term = {\"site\" + str(site): hZ}\n",
    "    hamiltonian.add_term(term)\n",
    "    \n",
    "print(hamiltonian)"
   ]
  },
  {
   "cell_type": "markdown",
   "id": "23975935",
   "metadata": {},
   "source": [
    "Finally we can set up the TEBD simulation."
   ]
  },
  {
   "cell_type": "code",
   "execution_count": 29,
   "id": "122f806d",
   "metadata": {},
   "outputs": [],
   "source": [
    "# Time parameters\n",
    "time_step_size = 0.01\n",
    "final_time = 1\n",
    "\n",
    "# Truncation parameters\n",
    "max_bond_dim = 20\n",
    "rel_tol = 0.001\n",
    "\n",
    "# Splitting, i.e. in which order do we want the terms of the Hamiltonian to be applied\n",
    "# First the local terms\n",
    "custom_splitting = [num_sites - 1 + ind for ind in range(0,num_sites)]\n",
    "# The the two-site interaction\n",
    "custom_splitting.extend([ind for ind in range(0,num_sites - 1)])\n",
    "\n",
    "# We want to observe the evolution of the Z-operator expectation at site 5\n",
    "operator = {\"site5\": Z}\n",
    "\n",
    "tebd_sim = ptn.TEBD(mps, hamiltonian, time_step_size=time_step_size, final_time=final_time,\n",
    "                    custom_splitting=custom_splitting, evaluate_operator=operator,\n",
    "                    max_bond_dim=20, rel_tol=rel_tol )\n",
    "\n",
    "# After the set up is complete, we merely have to run the simulation\n",
    "results = tebd_sim.run()"
   ]
  },
  {
   "cell_type": "code",
   "execution_count": null,
   "id": "6e3c57cf",
   "metadata": {},
   "outputs": [],
   "source": []
  }
 ],
 "metadata": {
  "kernelspec": {
   "display_name": "Python 3 (ipykernel)",
   "language": "python",
   "name": "python3"
  },
  "language_info": {
   "codemirror_mode": {
    "name": "ipython",
    "version": 3
   },
   "file_extension": ".py",
   "mimetype": "text/x-python",
   "name": "python",
   "nbconvert_exporter": "python",
   "pygments_lexer": "ipython3",
   "version": "3.9.12"
  }
 },
 "nbformat": 4,
 "nbformat_minor": 5
}
