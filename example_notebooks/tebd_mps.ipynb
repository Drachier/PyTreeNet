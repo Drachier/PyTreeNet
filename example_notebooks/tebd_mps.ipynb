{
 "cells": [
  {
   "cell_type": "markdown",
   "id": "136e2ba6",
   "metadata": {},
   "source": [
    "# Building an MPS as a tree and using TEBD for time-evolution\n",
    "A matrix product state (MPS) is a binary tree. Therefore, we can simulate it using `PyTreeNet`. We recommend to use tensor network libraries specialised on MPS for serious simulation, due to a higher efficiency. However, utilising `PyTreeNet` on MPS is useful as an illustrative example and to test the code for mistakes, by comparing to the results yielded by the easy to implement few-site dynamics."
   ]
  },
  {
   "cell_type": "code",
   "execution_count": 100,
   "id": "ccd0b331",
   "metadata": {},
   "outputs": [],
   "source": [
    "# Import PyTreeNet from local folders\n",
    "import sys\n",
    "sys.path.append('..')\n",
    "import pytreenet as ptn\n",
    "\n",
    "import numpy as np\n",
    "import matplotlib.pyplot as plt\n",
    "\n",
    "from scipy.linalg import expm"
   ]
  },
  {
   "cell_type": "markdown",
   "id": "751f66e8",
   "metadata": {},
   "source": [
    "We want to analyse a chain of $N$-many qubits that evolves under a Heisenber Hamiltonian of the form\n",
    "$$\n",
    "H = -J \\sum_{n=0}^{N-1} X_n X_{n+1} - g \\sum_{n=0}^{N-1} Z_n.\n",
    "$$\n",
    "\n",
    "As a first step we will initalise a tree tensor network (TTN) representing an MPS in the initial state where all qubits are in the state $|0>$"
   ]
  },
  {
   "cell_type": "markdown",
   "id": "88e96404",
   "metadata": {},
   "source": [
    "## Setting up and running TEBD"
   ]
  },
  {
   "cell_type": "code",
   "execution_count": 101,
   "id": "c7216803",
   "metadata": {},
   "outputs": [],
   "source": [
    "num_sites = 5\n",
    "\n",
    "zero_state = np.asarray([1, 0])\n",
    "\n",
    "# This needs to become a 3-tensor with leg order (left_virt, physical, right_virt)\n",
    "# Initially the virtual legs are trivial, i.e. of dimension 1\n",
    "zero_state = zero_state.reshape((1,2,1))\n",
    "\n",
    "# Now the TTN is created an initially empty\n",
    "mps = ptn.TreeTensorNetwork()\n",
    "\n",
    "# We have to add the sites one by one.\n",
    "for site in range(num_sites):\n",
    "    identifier = \"site\" + str(site)\n",
    "    \n",
    "    if site == 0:\n",
    "        # Open boundary conditions on first site\n",
    "        node = ptn.TensorNode(zero_state[0], identifier = identifier)\n",
    "        \n",
    "        mps.add_root(node)\n",
    "        \n",
    "    elif 0 < site:\n",
    "        if site == num_sites - 1:\n",
    "            # Open boundary conditions on last site\n",
    "            node = ptn.TensorNode(zero_state[:,:,0], identifier = identifier)\n",
    "        else:\n",
    "            node = ptn.TensorNode(zero_state, identifier = identifier)\n",
    "        \n",
    "        parent_id = \"site\" + str(site - 1)\n",
    "        \n",
    "        if site == 1:\n",
    "            # Due to boundary condition on first site\n",
    "            mps.add_child_to_parent(node, 0, parent_id, 1)\n",
    "        else:\n",
    "            mps.add_child_to_parent(node, 0, parent_id, 2)"
   ]
  },
  {
   "cell_type": "markdown",
   "id": "f7365276",
   "metadata": {},
   "source": [
    "We find the TTN contains all the desired sites as nodes and is normalised:"
   ]
  },
  {
   "cell_type": "code",
   "execution_count": 102,
   "id": "06b491da",
   "metadata": {},
   "outputs": [
    {
     "name": "stdout",
     "output_type": "stream",
     "text": [
      "{'site0': (2, 1), 'site1': (1, 2, 1), 'site2': (1, 2, 1), 'site3': (1, 2, 1), 'site4': (1, 2)}\n",
      "Norm = 1.0\n"
     ]
    }
   ],
   "source": [
    "node_shapes = {node_id: mps.nodes[node_id].tensor.shape for node_id in mps.nodes}\n",
    "print(node_shapes)\n",
    "\n",
    "print(f\"Norm = {np.sqrt(ptn.scalar_product(mps))}\")"
   ]
  },
  {
   "cell_type": "markdown",
   "id": "e067a268",
   "metadata": {},
   "source": [
    "The next step is to set up the Hamiltonian under which the MPS time-evolves."
   ]
  },
  {
   "cell_type": "code",
   "execution_count": 103,
   "id": "c1992091",
   "metadata": {},
   "outputs": [
    {
     "name": "stdout",
     "output_type": "stream",
     "text": [
      "[{'site0': array([[-0. , -1.5],\n",
      "       [-1.5, -0. ]]), 'site1': array([[0, 1],\n",
      "       [1, 0]])}, {'site1': array([[-0. , -1.5],\n",
      "       [-1.5, -0. ]]), 'site2': array([[0, 1],\n",
      "       [1, 0]])}, {'site2': array([[-0. , -1.5],\n",
      "       [-1.5, -0. ]]), 'site3': array([[0, 1],\n",
      "       [1, 0]])}, {'site3': array([[-0. , -1.5],\n",
      "       [-1.5, -0. ]]), 'site4': array([[0, 1],\n",
      "       [1, 0]])}, {'site0': array([[-0.5, -0. ],\n",
      "       [-0. ,  0.5]])}, {'site1': array([[-0.5, -0. ],\n",
      "       [-0. ,  0.5]])}, {'site2': array([[-0.5, -0. ],\n",
      "       [-0. ,  0.5]])}, {'site3': array([[-0.5, -0. ],\n",
      "       [-0. ,  0.5]])}, {'site4': array([[-0.5, -0. ],\n",
      "       [-0. ,  0.5]])}]\n"
     ]
    }
   ],
   "source": [
    "# Define constants\n",
    "mJ = -1.5\n",
    "mg = -0.5\n",
    "\n",
    "# Define operators\n",
    "X, _, Z = ptn.pauli_matrices()\n",
    "\n",
    "gZ = mg * Z\n",
    "\n",
    "hamiltonian = ptn.Hamiltonian()\n",
    "\n",
    "# Add the two-site interaction\n",
    "for site in range(0,num_sites-1): # There is no interaction of the form X_N*X_{N+1}\n",
    "    term = {\"site\" + str(site): mJ * X, \"site\" + str(site +1): X}\n",
    "    hamiltonian.add_term(term)\n",
    "    \n",
    "# Add local interactions\n",
    "for site in range(0,num_sites):\n",
    "    term = {\"site\" + str(site): gZ}\n",
    "    hamiltonian.add_term(term)\n",
    "    \n",
    "print(hamiltonian)"
   ]
  },
  {
   "cell_type": "markdown",
   "id": "23975935",
   "metadata": {},
   "source": [
    "Finally we can set up the TEBD simulation."
   ]
  },
  {
   "cell_type": "code",
   "execution_count": 104,
   "id": "122f806d",
   "metadata": {},
   "outputs": [],
   "source": [
    "# Time parameters\n",
    "time_step_size = 0.0001\n",
    "final_time = 1\n",
    "\n",
    "# Truncation parameters\n",
    "max_bond_dim = 20\n",
    "rel_tol = 0.0001\n",
    "\n",
    "# Splitting, i.e. in which order do we want the terms of the Hamiltonian to be applied\n",
    "# First the local terms\n",
    "custom_splitting = [num_sites - 1 + ind for ind in range(0,num_sites)]\n",
    "# The the two-site interaction\n",
    "custom_splitting.extend([ind for ind in range(0,num_sites - 1)])\n",
    "\n",
    "# We want to observe the evolution of the Z-operator expectation at each site.\n",
    "operators = [{node_id: Z} for node_id in mps.nodes]\n",
    "\n",
    "tebd_sim = ptn.TEBD(mps, hamiltonian, time_step_size=time_step_size, final_time=final_time,\n",
    "                    custom_splitting=custom_splitting, operators=operators,\n",
    "                    max_bond_dim=20, rel_tol=rel_tol )\n",
    "\n",
    "# After the set up is complete, we merely have to run the simulation\n",
    "tebd_sim.run()"
   ]
  },
  {
   "cell_type": "markdown",
   "id": "24bcb7bf",
   "metadata": {},
   "source": [
    "## Running the reference matrix vector computation\n",
    "As a reference we will run a computation on a full state vector. Thus we have to reinitialise the initial state:"
   ]
  },
  {
   "cell_type": "code",
   "execution_count": 105,
   "id": "2f2649af",
   "metadata": {},
   "outputs": [
    {
     "name": "stdout",
     "output_type": "stream",
     "text": [
      "Initial state [1 0 0 0 0 0 0 0 0 0 0 0 0 0 0 0 0 0 0 0 0 0 0 0 0 0 0 0 0 0 0 0] is a vector with 2^5=32 entries.\n"
     ]
    }
   ],
   "source": [
    "zero_state = np.asarray([1,0])\n",
    "\n",
    "ref_state = zero_state\n",
    "\n",
    "for site in range(1, num_sites):\n",
    "    ref_state = np.kron(ref_state, zero_state)\n",
    "    \n",
    "print(f\"Initial state {ref_state} is a vector with 2^{num_sites}={len(ref_state)} entries.\")"
   ]
  },
  {
   "cell_type": "markdown",
   "id": "2c602f3a",
   "metadata": {},
   "source": [
    "Furthermore we need to initialise the Hamiltonian as a matrix:"
   ]
  },
  {
   "cell_type": "code",
   "execution_count": 106,
   "id": "d9ac8df0",
   "metadata": {},
   "outputs": [
    {
     "name": "stdout",
     "output_type": "stream",
     "text": [
      "The Hamiltonian is a (32, 32)-shaped matrix and contains (2^5)^2=1024 entries.\n"
     ]
    }
   ],
   "source": [
    "ref_hamiltonian = np.zeros((2**num_sites, 2**num_sites))\n",
    "\n",
    "I = np.eye(2)\n",
    "\n",
    "# Two-site terms\n",
    "for site in range(0,num_sites-1):\n",
    "    operator = np.asarray([1])\n",
    "    for site2 in range(0,num_sites):\n",
    "        \n",
    "        if site2 == site:\n",
    "            operator = np.kron(operator, J*X)\n",
    "        elif site2 == site+1:\n",
    "            operator = np.kron(operator, X)\n",
    "        else:\n",
    "            operator = np.kron(operator, I)\n",
    "    \n",
    "    ref_hamiltonian += operator\n",
    "    \n",
    "# Single-site terms\n",
    "for site in range(0,num_sites):\n",
    "    operator = np.asarray([1])\n",
    "    for site2 in range(0,num_sites):\n",
    "        \n",
    "        if site2 == site:\n",
    "            operator = np.kron(operator, gZ)\n",
    "        else:\n",
    "            operator = np.kron(operator, I)\n",
    "    \n",
    "    ref_hamiltonian += operator\n",
    "    \n",
    "print(f\"The Hamiltonian is a {ref_hamiltonian.shape}-shaped matrix and contains (2^{num_sites})^2={len(ref_state)**2} entries.\")"
   ]
  },
  {
   "cell_type": "markdown",
   "id": "71f5705e",
   "metadata": {},
   "source": [
    "We also have to compute the Hamiltonian's exponent. When using the `TEBD`-class this happened automatically internally."
   ]
  },
  {
   "cell_type": "code",
   "execution_count": 107,
   "id": "d3b30988",
   "metadata": {},
   "outputs": [],
   "source": [
    "exp_operator = expm(-1j*time_step_size*ref_hamiltonian)"
   ]
  },
  {
   "cell_type": "markdown",
   "id": "cba5b915",
   "metadata": {},
   "source": [
    "As a final step of the set-up we have to define the operators from which we desire the expectation values."
   ]
  },
  {
   "cell_type": "code",
   "execution_count": 108,
   "id": "5dc6547b",
   "metadata": {},
   "outputs": [],
   "source": [
    "operators = []\n",
    "\n",
    "for sites in range(num_sites):\n",
    "    site_operator = np.asarray([1])\n",
    "    for sites2 in range(num_sites):\n",
    "        if sites2 == sites:\n",
    "            site_operator = np.kron(site_operator, Z)\n",
    "        else:\n",
    "            site_operator = np.kron(site_operator, I)\n",
    "            \n",
    "    operators.append(site_operator)"
   ]
  },
  {
   "cell_type": "markdown",
   "id": "1e433965",
   "metadata": {},
   "source": [
    "We can finally run the time-evolution."
   ]
  },
  {
   "cell_type": "code",
   "execution_count": 109,
   "id": "09810ba5",
   "metadata": {},
   "outputs": [
    {
     "data": {
      "text/plain": [
       "(6, 10001)"
      ]
     },
     "execution_count": 109,
     "metadata": {},
     "output_type": "execute_result"
    }
   ],
   "source": [
    "num_time_steps = int(np.ceil(final_time / time_step_size))\n",
    "\n",
    "results = np.zeros((len(operators) + 1, num_time_steps + 1), dtype=complex)\n",
    "\n",
    "for time_step in range(num_time_steps + 1):\n",
    "    if time_step != 0:\n",
    "        ref_state = exp_operator @ ref_state\n",
    "    \n",
    "    conj_state = np.conjugate(ref_state.T)\n",
    "    for i, operator in enumerate(operators):\n",
    "        results[i,time_step] = conj_state @ operator @ ref_state\n",
    "        \n",
    "    results[-1,time_step] = time_step * time_step_size\n",
    "    \n",
    "results.shape"
   ]
  },
  {
   "cell_type": "markdown",
   "id": "56524914",
   "metadata": {},
   "source": [
    "## Extracting results from TEBD\n",
    "The expectation values and times are saved in the attribute `TEBD.results`:"
   ]
  },
  {
   "cell_type": "code",
   "execution_count": 110,
   "id": "087b16cf",
   "metadata": {},
   "outputs": [],
   "source": [
    "times = [time.real for time in tebd_sim.results[-1]]\n",
    "\n",
    "exp_val_Z_5 = [exp_val.real for exp_val in tebd_sim.results[0]]"
   ]
  },
  {
   "cell_type": "markdown",
   "id": "8e20253f",
   "metadata": {},
   "source": [
    "The operators of which expectation values were calculated are hermitian, so their expectation values should be real numbers:"
   ]
  },
  {
   "cell_type": "code",
   "execution_count": 111,
   "id": "6e3c57cf",
   "metadata": {},
   "outputs": [
    {
     "data": {
      "text/plain": [
       "0.0"
      ]
     },
     "execution_count": 111,
     "metadata": {},
     "output_type": "execute_result"
    }
   ],
   "source": [
    "max([exp_val.imag for exp_val in tebd_sim.results[0]])"
   ]
  },
  {
   "cell_type": "code",
   "execution_count": 112,
   "id": "b12bd54f",
   "metadata": {},
   "outputs": [
    {
     "data": {
      "image/png": "[encoded data removed]",
      "text/plain": [
       "<Figure size 720x576 with 2 Axes>"
      ]
     },
     "metadata": {
      "needs_background": "light"
     },
     "output_type": "display_data"
    }
   ],
   "source": [
    "ref_times = [time.real for time in results[-1]]\n",
    "\n",
    "fig, axs = plt.subplots(2, 1, sharex=True, sharey=True, figsize=(10,8))\n",
    "\n",
    "fig.suptitle(\"Expectation Value Dynamics\")\n",
    "\n",
    "for site in range(num_sites):\n",
    "    axs[0].plot(times, [exp_val.real for exp_val in tebd_sim.results[site]])\n",
    "\n",
    "axs[0].set_ylabel(\"Expectation Values$\")\n",
    "axs[0].set_title(\"TEBD\")\n",
    "\n",
    "for site in range(num_sites):\n",
    "    axs[1].plot(ref_times, [exp_val.real for exp_val in results[site]])\n",
    "\n",
    "axs[1].set_xlabel(\"Time $t$\")\n",
    "axs[1].set_ylabel(\"Expectation Values$\")\n",
    "axs[1].set_title(\"Reference\")\n",
    "\n",
    "plt.show()"
   ]
  },
  {
   "cell_type": "markdown",
   "id": "5ce013f1",
   "metadata": {},
   "source": [
    "We can already see that both are very similar. Let us compare the actual errors:"
   ]
  },
  {
   "cell_type": "code",
   "execution_count": 113,
   "id": "3bc25f24",
   "metadata": {},
   "outputs": [
    {
     "data": {
      "image/png": "[encoded data removed]",
      "text/plain": [
       "<Figure size 432x288 with 1 Axes>"
      ]
     },
     "metadata": {
      "needs_background": "light"
     },
     "output_type": "display_data"
    }
   ],
   "source": [
    "errors = results[0:-1] - tebd_sim.results[0:-1]\n",
    "\n",
    "fig2 = plt.figure()\n",
    "\n",
    "for error_row in errors:\n",
    "    plt.plot(times, [abs(error) for error in error_row])\n",
    "\n",
    "plt.show()"
   ]
  },
  {
   "cell_type": "code",
   "execution_count": null,
   "id": "af6fc127",
   "metadata": {},
   "outputs": [],
   "source": []
  }
 ],
 "metadata": {
  "kernelspec": {
   "display_name": "Python 3 (ipykernel)",
   "language": "python",
   "name": "python3"
  },
  "language_info": {
   "codemirror_mode": {
    "name": "ipython",
    "version": 3
   },
   "file_extension": ".py",
   "mimetype": "text/x-python",
   "name": "python",
   "nbconvert_exporter": "python",
   "pygments_lexer": "ipython3",
   "version": "3.9.7"
  }
 },
 "nbformat": 4,
 "nbformat_minor": 5
}
