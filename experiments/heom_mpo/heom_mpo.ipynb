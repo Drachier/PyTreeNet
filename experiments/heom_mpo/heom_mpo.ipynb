{
 "cells": [
  {
   "cell_type": "code",
   "execution_count": 15,
   "metadata": {},
   "outputs": [
    {
     "name": "stdout",
     "output_type": "stream",
     "text": [
      "The autoreload extension is already loaded. To reload it, use:\n",
      "  %reload_ext autoreload\n"
     ]
    }
   ],
   "source": [
    "%load_ext autoreload\n",
    "%autoreload 2"
   ]
  },
  {
   "cell_type": "markdown",
   "metadata": {},
   "source": [
    "# Automatic Construction of a HEOM MPO of a Molecule in a Cavity"
   ]
  },
  {
   "cell_type": "markdown",
   "metadata": {},
   "source": [
    "## The Hamiltonian"
   ]
  },
  {
   "cell_type": "markdown",
   "metadata": {},
   "source": [
    "Here we generate the effective Hamiltonian $\\mathcal{H}$ that describes the hierarchical equations of motion.\n",
    "We consider the special case of multiple molecules inside a cavity."
   ]
  },
  {
   "cell_type": "code",
   "execution_count": 16,
   "metadata": {},
   "outputs": [],
   "source": [
    "from mol_ham import generate_hamiltonian"
   ]
  },
  {
   "cell_type": "code",
   "execution_count": 17,
   "metadata": {},
   "outputs": [],
   "source": [
    "num_mol = 3\n",
    "num_mol_bath = 2\n",
    "num_cav_bath = 1"
   ]
  },
  {
   "cell_type": "code",
   "execution_count": 18,
   "metadata": {},
   "outputs": [
    {
     "name": "stdout",
     "output_type": "stream",
     "text": [
      "(1, '1', {'cavity': 'Hc'})\n",
      "(-1, '1', {'cavity_twin': 'Hc'})\n",
      "(1, 'facmc0', {'cavity': 'Cc', 'mol0': 'Cm'})\n",
      "(-1, 'facmc0', {'cavity_twin': 'Cc', 'mol0_twin': 'Cm'})\n",
      "(1, 'facmc1', {'cavity': 'Cc', 'mol1': 'Cm'})\n",
      "(-1, 'facmc1', {'cavity_twin': 'Cc', 'mol1_twin': 'Cm'})\n",
      "(1, 'facmc2', {'cavity': 'Cc', 'mol2': 'Cm'})\n",
      "(-1, 'facmc2', {'cavity_twin': 'Cc', 'mol2_twin': 'Cm'})\n",
      "(1, '1', {'mol0': 'Hm'})\n",
      "(-1, '1', {'mol0_twin': '-Hm'})\n",
      "(1, '1', {'mol1': 'Hm'})\n",
      "(-1, '1', {'mol1_twin': '-Hm'})\n",
      "(1, '1', {'mol2': 'Hm'})\n",
      "(-1, '1', {'mol2_twin': '-Hm'})\n",
      "(1, 'Delta01', {'mol0': 'Cm', 'mol1': 'Cm'})\n",
      "(-1, 'Delta01', {'mol0_twin': 'Cm', 'mol1_twin': 'Cm'})\n",
      "(1, 'Delta02', {'mol0': 'Cm', 'mol2': 'Cm'})\n",
      "(-1, 'Delta02', {'mol0_twin': 'Cm', 'mol2_twin': 'Cm'})\n",
      "(1, 'Delta12', {'mol1': 'Cm', 'mol2': 'Cm'})\n",
      "(-1, 'Delta12', {'mol1_twin': 'Cm', 'mol2_twin': 'Cm'})\n",
      "(-1, 'im*gammac', {'cav_bath0': 'N'})\n",
      "(-1, 'i*gamma0_0', {'mol_bath0_0': 'N'})\n",
      "(-1, 'i*gamma0_1', {'mol_bath0_1': 'N'})\n",
      "(-1, 'i*gamma1_0', {'mol_bath1_0': 'N'})\n",
      "(-1, 'i*gamma1_1', {'mol_bath1_1': 'N'})\n",
      "(-1, 'i*gamma2_0', {'mol_bath2_0': 'N'})\n",
      "(-1, 'i*gamma2_1', {'mol_bath2_1': 'N'})\n",
      "(1, 'sqlambdac', {'cavity': 'Cc', 'cav_bath0': 'b'})\n",
      "(-1, 'sqlambdac', {'cavity_twin': 'Cc', 'cav_bath0': 'b'})\n",
      "(1, 'eta0', {'cavity': 'Cc', 'cav_bath0': 'etac0*bdag'})\n",
      "(-1, 'eta0', {'cavity_twin': 'Cc', 'cav_bath0': '-etac0dag*bdag'})\n",
      "(1, 'sqlambdam0', {'mol0': 'Cm', 'mol_bath0_0': 'b'})\n",
      "(-1, 'sqlambdam0_dag', {'mol0_twin': 'Cm', 'mol_bath0_0': 'b'})\n",
      "(1, 'etam0_0', {'mol0': 'Cm', 'mol_bath0_0': 'bdag'})\n",
      "(-1, 'etam0_0_dag', {'mol0_twin': 'Cm', 'mol_bath0_0': 'bdag'})\n",
      "(1, 'sqlambdam0', {'mol0': 'Cm', 'mol_bath0_1': 'b'})\n",
      "(-1, 'sqlambdam0_dag', {'mol0_twin': 'Cm', 'mol_bath0_1': 'b'})\n",
      "(1, 'etam0_1', {'mol0': 'Cm', 'mol_bath0_1': 'bdag'})\n",
      "(-1, 'etam0_1_dag', {'mol0_twin': 'Cm', 'mol_bath0_1': 'bdag'})\n",
      "(1, 'sqlambdam1', {'mol1': 'Cm', 'mol_bath1_0': 'b'})\n",
      "(-1, 'sqlambdam1_dag', {'mol1_twin': 'Cm', 'mol_bath1_0': 'b'})\n",
      "(1, 'etam1_0', {'mol1': 'Cm', 'mol_bath1_0': 'bdag'})\n",
      "(-1, 'etam1_0_dag', {'mol1_twin': 'Cm', 'mol_bath1_0': 'bdag'})\n",
      "(1, 'sqlambdam1', {'mol1': 'Cm', 'mol_bath1_1': 'b'})\n",
      "(-1, 'sqlambdam1_dag', {'mol1_twin': 'Cm', 'mol_bath1_1': 'b'})\n",
      "(1, 'etam1_1', {'mol1': 'Cm', 'mol_bath1_1': 'bdag'})\n",
      "(-1, 'etam1_1_dag', {'mol1_twin': 'Cm', 'mol_bath1_1': 'bdag'})\n",
      "(1, 'sqlambdam2', {'mol2': 'Cm', 'mol_bath2_0': 'b'})\n",
      "(-1, 'sqlambdam2_dag', {'mol2_twin': 'Cm', 'mol_bath2_0': 'b'})\n",
      "(1, 'etam2_0', {'mol2': 'Cm', 'mol_bath2_0': 'bdag'})\n",
      "(-1, 'etam2_0_dag', {'mol2_twin': 'Cm', 'mol_bath2_0': 'bdag'})\n",
      "(1, 'sqlambdam2', {'mol2': 'Cm', 'mol_bath2_1': 'b'})\n",
      "(-1, 'sqlambdam2_dag', {'mol2_twin': 'Cm', 'mol_bath2_1': 'b'})\n",
      "(1, 'etam2_1', {'mol2': 'Cm', 'mol_bath2_1': 'bdag'})\n",
      "(-1, 'etam2_1_dag', {'mol2_twin': 'Cm', 'mol_bath2_1': 'bdag'})\n"
     ]
    }
   ],
   "source": [
    "heom_ham = generate_hamiltonian(num_mol, num_mol_bath, num_cav_bath)\n",
    "for term in heom_ham.terms:\n",
    "    print(term)"
   ]
  },
  {
   "cell_type": "markdown",
   "metadata": {},
   "source": [
    "Note that we do not specify the coefficient or operator values, as these specifics are outside the scope of this work and not neccessary to find the TTNO bond dimensions.\n",
    "\n",
    "We can also consider the case where the molecules are treated the same."
   ]
  },
  {
   "cell_type": "code",
   "execution_count": 19,
   "metadata": {},
   "outputs": [
    {
     "name": "stdout",
     "output_type": "stream",
     "text": [
      "(1, '1', {'cavity': 'Hc'})\n",
      "(-1, '1', {'cavity_twin': 'Hc'})\n",
      "(1, 'facmc0', {'cavity': 'Cc', 'mol0': 'Cm'})\n",
      "(-1, 'facmc0', {'cavity_twin': 'Cc', 'mol0_twin': 'Cm'})\n",
      "(1, 'facmc1', {'cavity': 'Cc', 'mol1': 'Cm'})\n",
      "(-1, 'facmc1', {'cavity_twin': 'Cc', 'mol1_twin': 'Cm'})\n",
      "(1, 'facmc2', {'cavity': 'Cc', 'mol2': 'Cm'})\n",
      "(-1, 'facmc2', {'cavity_twin': 'Cc', 'mol2_twin': 'Cm'})\n",
      "(1, '1', {'mol0': 'Hm'})\n",
      "(-1, '1', {'mol0_twin': '-Hm'})\n",
      "(1, '1', {'mol1': 'Hm'})\n",
      "(-1, '1', {'mol1_twin': '-Hm'})\n",
      "(1, '1', {'mol2': 'Hm'})\n",
      "(-1, '1', {'mol2_twin': '-Hm'})\n",
      "(1, 'Delta01', {'mol0': 'Cm', 'mol1': 'Cm'})\n",
      "(-1, 'Delta01', {'mol0_twin': 'Cm', 'mol1_twin': 'Cm'})\n",
      "(1, 'Delta02', {'mol0': 'Cm', 'mol2': 'Cm'})\n",
      "(-1, 'Delta02', {'mol0_twin': 'Cm', 'mol2_twin': 'Cm'})\n",
      "(1, 'Delta12', {'mol1': 'Cm', 'mol2': 'Cm'})\n",
      "(-1, 'Delta12', {'mol1_twin': 'Cm', 'mol2_twin': 'Cm'})\n",
      "(-1, 'im*gammac', {'cav_bath0': 'N'})\n",
      "(-1, 'i*gamma0_0', {'mol_bath0_0': 'N'})\n",
      "(-1, 'i*gamma0_1', {'mol_bath0_1': 'N'})\n",
      "(-1, 'i*gamma1_0', {'mol_bath1_0': 'N'})\n",
      "(-1, 'i*gamma1_1', {'mol_bath1_1': 'N'})\n",
      "(-1, 'i*gamma2_0', {'mol_bath2_0': 'N'})\n",
      "(-1, 'i*gamma2_1', {'mol_bath2_1': 'N'})\n",
      "(1, 'sqlambdac', {'cavity': 'Cc', 'cav_bath0': 'b'})\n",
      "(-1, 'sqlambdac', {'cavity_twin': 'Cc', 'cav_bath0': 'b'})\n",
      "(1, 'eta0', {'cavity': 'Cc', 'cav_bath0': 'etac0*bdag'})\n",
      "(-1, 'eta0', {'cavity_twin': 'Cc', 'cav_bath0': '-etac0dag*bdag'})\n",
      "(1, 'sqlambdam0', {'mol0': 'Cm', 'mol_bath0_0': 'b'})\n",
      "(-1, 'sqlambdam0_dag', {'mol0_twin': 'Cm', 'mol_bath0_0': 'b'})\n",
      "(1, 'etam0_0', {'mol0': 'Cm', 'mol_bath0_0': 'bdag'})\n",
      "(-1, 'etam0_0_dag', {'mol0_twin': 'Cm', 'mol_bath0_0': 'bdag'})\n",
      "(1, 'sqlambdam0', {'mol0': 'Cm', 'mol_bath0_1': 'b'})\n",
      "(-1, 'sqlambdam0_dag', {'mol0_twin': 'Cm', 'mol_bath0_1': 'b'})\n",
      "(1, 'etam0_1', {'mol0': 'Cm', 'mol_bath0_1': 'bdag'})\n",
      "(-1, 'etam0_1_dag', {'mol0_twin': 'Cm', 'mol_bath0_1': 'bdag'})\n",
      "(1, 'sqlambdam1', {'mol1': 'Cm', 'mol_bath1_0': 'b'})\n",
      "(-1, 'sqlambdam1_dag', {'mol1_twin': 'Cm', 'mol_bath1_0': 'b'})\n",
      "(1, 'etam1_0', {'mol1': 'Cm', 'mol_bath1_0': 'bdag'})\n",
      "(-1, 'etam1_0_dag', {'mol1_twin': 'Cm', 'mol_bath1_0': 'bdag'})\n",
      "(1, 'sqlambdam1', {'mol1': 'Cm', 'mol_bath1_1': 'b'})\n",
      "(-1, 'sqlambdam1_dag', {'mol1_twin': 'Cm', 'mol_bath1_1': 'b'})\n",
      "(1, 'etam1_1', {'mol1': 'Cm', 'mol_bath1_1': 'bdag'})\n",
      "(-1, 'etam1_1_dag', {'mol1_twin': 'Cm', 'mol_bath1_1': 'bdag'})\n",
      "(1, 'sqlambdam2', {'mol2': 'Cm', 'mol_bath2_0': 'b'})\n",
      "(-1, 'sqlambdam2_dag', {'mol2_twin': 'Cm', 'mol_bath2_0': 'b'})\n",
      "(1, 'etam2_0', {'mol2': 'Cm', 'mol_bath2_0': 'bdag'})\n",
      "(-1, 'etam2_0_dag', {'mol2_twin': 'Cm', 'mol_bath2_0': 'bdag'})\n",
      "(1, 'sqlambdam2', {'mol2': 'Cm', 'mol_bath2_1': 'b'})\n",
      "(-1, 'sqlambdam2_dag', {'mol2_twin': 'Cm', 'mol_bath2_1': 'b'})\n",
      "(1, 'etam2_1', {'mol2': 'Cm', 'mol_bath2_1': 'bdag'})\n",
      "(-1, 'etam2_1_dag', {'mol2_twin': 'Cm', 'mol_bath2_1': 'bdag'})\n"
     ]
    }
   ],
   "source": [
    "homog_heom_ham = generate_hamiltonian(num_mol, num_mol_bath, num_cav_bath,\n",
    "                                      homogenous_mc=True,\n",
    "                                      homogenous_mm=True)\n",
    "for term in heom_ham.terms:\n",
    "    print(term)"
   ]
  },
  {
   "cell_type": "markdown",
   "metadata": {},
   "source": [
    "The Hamiltonian is general and works all tree structures representing the molecules, cavity, and bath."
   ]
  },
  {
   "cell_type": "markdown",
   "metadata": {},
   "source": [
    "## Tree Structures"
   ]
  },
  {
   "cell_type": "markdown",
   "metadata": {},
   "source": [
    "The first tensor network structure, we consider is a matrix product or tensor train structure. Here we attach the molecule and cavity sites directly to their bath sides along a chain and then attach the chains to eeach other."
   ]
  },
  {
   "cell_type": "code",
   "execution_count": 20,
   "metadata": {},
   "outputs": [],
   "source": [
    "from mol_mp import generate_mps_structure"
   ]
  },
  {
   "cell_type": "code",
   "execution_count": 21,
   "metadata": {},
   "outputs": [],
   "source": [
    "mol_dim = 10\n",
    "cav_dim = 8\n",
    "mol_bath_dim = 6\n",
    "cav_bath_dim = 6"
   ]
  },
  {
   "cell_type": "code",
   "execution_count": 22,
   "metadata": {},
   "outputs": [
    {
     "name": "stdout",
     "output_type": "stream",
     "text": [
      "Tensor Train\n",
      "cavity: parent is None\n",
      " and the children are ['cavity_twin', 'mol0_twin']\n",
      "cavity_twin: parent is cavity\n",
      " and the children are ['cav_bath0']\n",
      "cav_bath0: parent is cavity_twin\n",
      " and the children are ['mol1_twin']\n",
      "mol0_twin: parent is cavity\n",
      " and the children are ['mol0']\n",
      "mol0: parent is mol0_twin\n",
      " and the children are ['mol_bath0_0']\n",
      "mol_bath0_0: parent is mol0\n",
      " and the children are ['mol_bath0_1']\n",
      "mol_bath0_1: parent is mol_bath0_0\n",
      " and the children are ['mol2_twin']\n",
      "mol1_twin: parent is cav_bath0\n",
      " and the children are ['mol1']\n",
      "mol1: parent is mol1_twin\n",
      " and the children are ['mol_bath1_0']\n",
      "mol_bath1_0: parent is mol1\n",
      " and the children are ['mol_bath1_1']\n",
      "mol_bath1_1: parent is mol_bath1_0\n",
      " and the children are []\n",
      "mol2_twin: parent is mol_bath0_1\n",
      " and the children are ['mol2']\n",
      "mol2: parent is mol2_twin\n",
      " and the children are ['mol_bath2_0']\n",
      "mol_bath2_0: parent is mol2\n",
      " and the children are ['mol_bath2_1']\n",
      "mol_bath2_1: parent is mol_bath2_0\n",
      " and the children are []\n"
     ]
    }
   ],
   "source": [
    "mps = generate_mps_structure(mol_dim,\n",
    "                             cav_dim,\n",
    "                             mol_bath_dim,\n",
    "                             cav_bath_dim,\n",
    "                             num_mol,\n",
    "                             num_mol_bath,\n",
    "                             num_cav_bath)\n",
    "print(\"Tensor Train\")\n",
    "for node in mps.nodes.values():\n",
    "    print(f\"{node.identifier}: parent is {node.parent}\")\n",
    "    print(f\" and the children are {node.children}\")"
   ]
  },
  {
   "cell_type": "markdown",
   "metadata": {},
   "source": [
    "The second tree structure is a binary tree with the cavity nodes at the \"root\" node. The leafs of this binary tree are the molecular nodes. Once more the baths node are attached to the corresponding molecular and cavity nodes."
   ]
  },
  {
   "cell_type": "code",
   "execution_count": 23,
   "metadata": {},
   "outputs": [],
   "source": [
    "from mol_tree import generate_molecule_tree"
   ]
  },
  {
   "cell_type": "code",
   "execution_count": 24,
   "metadata": {},
   "outputs": [
    {
     "name": "stdout",
     "output_type": "stream",
     "text": [
      "Binary Tree\n",
      "cavity: parent is None\n",
      " and the children are ['cavity_twin', 'mol0_twin']\n",
      "cavity_twin: parent is cavity\n",
      " and the children are ['cav_bath0']\n",
      "cav_bath0: parent is cavity_twin\n",
      " and the children are ['mol1_twin']\n",
      "mol0_twin: parent is cavity\n",
      " and the children are ['mol0']\n",
      "mol0: parent is mol0_twin\n",
      " and the children are ['mol_bath0_0']\n",
      "mol_bath0_0: parent is mol0\n",
      " and the children are ['mol_bath0_1']\n",
      "mol_bath0_1: parent is mol_bath0_0\n",
      " and the children are ['mol2_twin']\n",
      "mol1_twin: parent is cav_bath0\n",
      " and the children are ['mol1']\n",
      "mol1: parent is mol1_twin\n",
      " and the children are ['mol_bath1_0']\n",
      "mol_bath1_0: parent is mol1\n",
      " and the children are ['mol_bath1_1']\n",
      "mol_bath1_1: parent is mol_bath1_0\n",
      " and the children are []\n",
      "mol2_twin: parent is mol_bath0_1\n",
      " and the children are ['mol2']\n",
      "mol2: parent is mol2_twin\n",
      " and the children are ['mol_bath2_0']\n",
      "mol_bath2_0: parent is mol2\n",
      " and the children are ['mol_bath2_1']\n",
      "mol_bath2_1: parent is mol_bath2_0\n",
      " and the children are []\n"
     ]
    }
   ],
   "source": [
    "ttns = generate_molecule_tree(mol_dim,\n",
    "                              cav_dim,\n",
    "                              mol_bath_dim,\n",
    "                              cav_bath_dim,\n",
    "                              num_mol,\n",
    "                              num_mol_bath,\n",
    "                              num_cav_bath)\n",
    "print(\"Binary Tree\")\n",
    "for node in mps.nodes.values():\n",
    "    print(f\"{node.identifier}: parent is {node.parent}\")\n",
    "    print(f\" and the children are {node.children}\")"
   ]
  },
  {
   "cell_type": "markdown",
   "metadata": {},
   "source": [
    "## Running the Construction\n",
    "For both kinds of structures there are fuctions that take care of the construction of the TTNO and will save the corresponding bond dimension to a file.\n",
    "They will run the construction for both construction algorithms (pure bipartite and SGE + bipartite) and for heterogenous and homogenous Hamiltonians. One merely has to enter the maximum and minimum number of molecules and baths to be considered."
   ]
  },
  {
   "cell_type": "code",
   "execution_count": 25,
   "metadata": {},
   "outputs": [],
   "source": [
    "from script_mpo import main as mpo_main\n",
    "from script_tree import main as tree_main"
   ]
  },
  {
   "cell_type": "code",
   "execution_count": 26,
   "metadata": {},
   "outputs": [],
   "source": [
    "params = {\n",
    "        \"min_mol\": 2,\n",
    "        \"max_mol\": 15,\n",
    "        \"num_baths_min\": 1,\n",
    "        \"num_baths_max\": 15\n",
    "        }"
   ]
  },
  {
   "cell_type": "code",
   "execution_count": 27,
   "metadata": {},
   "outputs": [
    {
     "name": "stderr",
     "output_type": "stream",
     "text": [
      " 27%|██▋       | 4/15 [05:41<15:37, 85.26s/it]\n"
     ]
    },
    {
     "ename": "KeyboardInterrupt",
     "evalue": "",
     "output_type": "error",
     "traceback": [
      "\u001b[1;31m---------------------------------------------------------------------------\u001b[0m",
      "\u001b[1;31mKeyboardInterrupt\u001b[0m                         Traceback (most recent call last)",
      "Cell \u001b[1;32mIn[27], line 1\u001b[0m\n\u001b[1;32m----> 1\u001b[0m \u001b[43mmpo_main\u001b[49m\u001b[43m(\u001b[49m\u001b[43mparams\u001b[49m\u001b[43m)\u001b[49m\n\u001b[0;32m      2\u001b[0m tree_main(params)\n",
      "File \u001b[1;32mc:\\Users\\richi\\OneDrive\\Dokumente\\GitHub\\PyTreeNet\\experiments\\heom_mpo\\script_mpo.py:84\u001b[0m, in \u001b[0;36mmain\u001b[1;34m(metadata)\u001b[0m\n\u001b[0;32m     82\u001b[0m metadata[\u001b[38;5;124m\"\u001b[39m\u001b[38;5;124mhomogenous_mm\u001b[39m\u001b[38;5;124m\"\u001b[39m] \u001b[38;5;241m=\u001b[39m hom\n\u001b[0;32m     83\u001b[0m metadata[\u001b[38;5;124m\"\u001b[39m\u001b[38;5;124mhomogenous_mc\u001b[39m\u001b[38;5;124m\"\u001b[39m] \u001b[38;5;241m=\u001b[39m hom\n\u001b[1;32m---> 84\u001b[0m bond_dim_datas \u001b[38;5;241m=\u001b[39m \u001b[43mrun_creation\u001b[49m\u001b[43m(\u001b[49m\u001b[38;5;241;43m*\u001b[39;49m\u001b[38;5;241;43m*\u001b[39;49m\u001b[43mmetadata\u001b[49m\u001b[43m)\u001b[49m\n\u001b[0;32m     85\u001b[0m save_data(bond_dim_datas, metadata)\n",
      "File \u001b[1;32mc:\\Users\\richi\\OneDrive\\Dokumente\\GitHub\\PyTreeNet\\experiments\\heom_mpo\\script_mpo.py:36\u001b[0m, in \u001b[0;36mrun_creation\u001b[1;34m(min_mol, max_mol, num_baths_min, num_baths_max, mode, homogenous_mm, homogenous_mc)\u001b[0m\n\u001b[0;32m     34\u001b[0m             \u001b[38;5;28mprint\u001b[39m(\u001b[38;5;124mf\u001b[39m\u001b[38;5;124m\"\u001b[39m\u001b[38;5;124mNode \u001b[39m\u001b[38;5;132;01m{\u001b[39;00mnode_id\u001b[38;5;132;01m}\u001b[39;00m\u001b[38;5;124m not in MPS\u001b[39m\u001b[38;5;124m\"\u001b[39m)\n\u001b[0;32m     35\u001b[0m ham_pad \u001b[38;5;241m=\u001b[39m ham\u001b[38;5;241m.\u001b[39mpad_with_identities(mps)\n\u001b[1;32m---> 36\u001b[0m sd \u001b[38;5;241m=\u001b[39m \u001b[43mStateDiagram\u001b[49m\u001b[38;5;241;43m.\u001b[39;49m\u001b[43mfrom_hamiltonian\u001b[49m\u001b[43m(\u001b[49m\u001b[43mham_pad\u001b[49m\u001b[43m,\u001b[49m\u001b[43m \u001b[49m\u001b[43mmps\u001b[49m\u001b[43m,\u001b[49m\n\u001b[0;32m     37\u001b[0m \u001b[43m                                \u001b[49m\u001b[43mmethod\u001b[49m\u001b[38;5;241;43m=\u001b[39;49m\u001b[43mmode\u001b[49m\u001b[43m)\u001b[49m\n\u001b[0;32m     38\u001b[0m bond_dims \u001b[38;5;241m=\u001b[39m []\n\u001b[0;32m     39\u001b[0m \u001b[38;5;28;01mfor\u001b[39;00m _, vertex_coll \u001b[38;5;129;01min\u001b[39;00m sd\u001b[38;5;241m.\u001b[39mvertex_colls\u001b[38;5;241m.\u001b[39mitems():\n",
      "File \u001b[1;32m~\\OneDrive\\Dokumente\\GitHub\\PyTreeNet\\pytreenet\\ttno\\state_diagram.py:176\u001b[0m, in \u001b[0;36mStateDiagram.from_hamiltonian\u001b[1;34m(cls, hamiltonian, ref_tree, method)\u001b[0m\n\u001b[0;32m    173\u001b[0m     state_diagram \u001b[38;5;241m=\u001b[39m \u001b[38;5;28mcls\u001b[39m\u001b[38;5;241m.\u001b[39mfrom_hamiltonian_modified(hamiltonian, ref_tree, method\u001b[38;5;241m.\u001b[39mSGE)\n\u001b[0;32m    175\u001b[0m \u001b[38;5;28;01melif\u001b[39;00m method \u001b[38;5;241m==\u001b[39m TTNOFinder\u001b[38;5;241m.\u001b[39mBIPARTITE:\n\u001b[1;32m--> 176\u001b[0m     state_diagram \u001b[38;5;241m=\u001b[39m \u001b[38;5;28;43mcls\u001b[39;49m\u001b[38;5;241;43m.\u001b[39;49m\u001b[43mfrom_hamiltonian_modified\u001b[49m\u001b[43m(\u001b[49m\u001b[43mhamiltonian\u001b[49m\u001b[43m,\u001b[49m\u001b[43m \u001b[49m\u001b[43mref_tree\u001b[49m\u001b[43m,\u001b[49m\u001b[43m \u001b[49m\u001b[43mmethod\u001b[49m\u001b[38;5;241;43m.\u001b[39;49m\u001b[43mBIPARTITE\u001b[49m\u001b[43m)\u001b[49m\n\u001b[0;32m    178\u001b[0m \u001b[38;5;28;01melif\u001b[39;00m method \u001b[38;5;241m==\u001b[39m TTNOFinder\u001b[38;5;241m.\u001b[39mBASE:\n\u001b[0;32m    179\u001b[0m     state_diagram \u001b[38;5;241m=\u001b[39m \u001b[38;5;28mcls\u001b[39m\u001b[38;5;241m.\u001b[39mfrom_hamiltonian_base(hamiltonian, ref_tree)\n",
      "File \u001b[1;32m~\\OneDrive\\Dokumente\\GitHub\\PyTreeNet\\pytreenet\\ttno\\state_diagram.py:468\u001b[0m, in \u001b[0;36mStateDiagram.from_hamiltonian_modified\u001b[1;34m(cls, hamiltonian, ref_tree, method)\u001b[0m\n\u001b[0;32m    453\u001b[0m \u001b[38;5;250m\u001b[39m\u001b[38;5;124;03m\"\"\"\u001b[39;00m\n\u001b[0;32m    454\u001b[0m \u001b[38;5;124;03mCreates optimal state diagram equivalent to a given Hamiltonian.\u001b[39;00m\n\u001b[0;32m    455\u001b[0m \u001b[38;5;124;03mDepending on the method, the state diagram is constructed using different methods as SGE or Bipartite Graph.\u001b[39;00m\n\u001b[1;32m   (...)\u001b[0m\n\u001b[0;32m    464\u001b[0m \u001b[38;5;124;03m    StateDiagram: The final state diagram\u001b[39;00m\n\u001b[0;32m    465\u001b[0m \u001b[38;5;124;03m\"\"\"\u001b[39;00m\n\u001b[0;32m    467\u001b[0m \u001b[38;5;66;03m# Get individual state diagrams and combine them into a compound state diagram\u001b[39;00m\n\u001b[1;32m--> 468\u001b[0m state_diagrams \u001b[38;5;241m=\u001b[39m \u001b[38;5;28;43mcls\u001b[39;49m\u001b[38;5;241;43m.\u001b[39;49m\u001b[43mget_state_diagrams\u001b[49m\u001b[43m(\u001b[49m\u001b[43mhamiltonian\u001b[49m\u001b[43m,\u001b[49m\u001b[43mref_tree\u001b[49m\u001b[43m)\u001b[49m\n\u001b[0;32m    469\u001b[0m compound_state_diagram \u001b[38;5;241m=\u001b[39m \u001b[38;5;28mcls\u001b[39m\u001b[38;5;241m.\u001b[39mget_state_diagram_compound(state_diagrams)\n\u001b[0;32m    471\u001b[0m compound_state_diagram\u001b[38;5;241m.\u001b[39mSGE \u001b[38;5;241m=\u001b[39m method \u001b[38;5;241m==\u001b[39m TTNOFinder\u001b[38;5;241m.\u001b[39mSGE\n",
      "File \u001b[1;32m~\\OneDrive\\Dokumente\\GitHub\\PyTreeNet\\pytreenet\\ttno\\state_diagram.py:1022\u001b[0m, in \u001b[0;36mStateDiagram.get_state_diagrams\u001b[1;34m(cls, hamiltonian, ref_tree)\u001b[0m\n\u001b[0;32m   1019\u001b[0m state_diagrams \u001b[38;5;241m=\u001b[39m []\n\u001b[0;32m   1021\u001b[0m \u001b[38;5;28;01mfor\u001b[39;00m term \u001b[38;5;129;01min\u001b[39;00m hamiltonian\u001b[38;5;241m.\u001b[39mterms:\n\u001b[1;32m-> 1022\u001b[0m     state_diagram \u001b[38;5;241m=\u001b[39m \u001b[38;5;28;43mcls\u001b[39;49m\u001b[38;5;241;43m.\u001b[39;49m\u001b[43mfrom_single_term\u001b[49m\u001b[43m(\u001b[49m\u001b[43mterm\u001b[49m\u001b[43m,\u001b[49m\u001b[43m \u001b[49m\u001b[43mref_tree\u001b[49m\u001b[43m)\u001b[49m\n\u001b[0;32m   1023\u001b[0m     state_diagrams\u001b[38;5;241m.\u001b[39mappend(state_diagram)\n\u001b[0;32m   1025\u001b[0m     state_diagram\u001b[38;5;241m.\u001b[39mcalculate_hashes(\n\u001b[0;32m   1026\u001b[0m         ref_tree\u001b[38;5;241m.\u001b[39mnodes[ref_tree\u001b[38;5;241m.\u001b[39mroot_id], ref_tree)\n",
      "File \u001b[1;32m~\\OneDrive\\Dokumente\\GitHub\\PyTreeNet\\pytreenet\\ttno\\state_diagram.py:217\u001b[0m, in \u001b[0;36mStateDiagram.from_single_term\u001b[1;34m(cls, term, reference_tree)\u001b[0m\n\u001b[0;32m    210\u001b[0m \u001b[38;5;129m@classmethod\u001b[39m\n\u001b[0;32m    211\u001b[0m \u001b[38;5;28;01mdef\u001b[39;00m \u001b[38;5;21mfrom_single_term\u001b[39m(\u001b[38;5;28mcls\u001b[39m,\n\u001b[0;32m    212\u001b[0m                      term: \u001b[38;5;28mtuple\u001b[39m[Fraction,\u001b[38;5;28mstr\u001b[39m,Dict[\u001b[38;5;28mstr\u001b[39m,\u001b[38;5;28mstr\u001b[39m]],\n\u001b[0;32m    213\u001b[0m                      reference_tree: TreeStructure):\n\u001b[0;32m    214\u001b[0m \u001b[38;5;250m    \u001b[39m\u001b[38;5;124;03m\"\"\"\u001b[39;00m\n\u001b[0;32m    215\u001b[0m \u001b[38;5;124;03m    Basically a wrap of ``SingleTermDiagram.from_single_term``.\u001b[39;00m\n\u001b[0;32m    216\u001b[0m \u001b[38;5;124;03m    \"\"\"\u001b[39;00m\n\u001b[1;32m--> 217\u001b[0m     single_term_diagram \u001b[38;5;241m=\u001b[39m \u001b[43mSingleTermDiagram\u001b[49m\u001b[38;5;241;43m.\u001b[39;49m\u001b[43mfrom_single_term\u001b[49m\u001b[43m(\u001b[49m\u001b[43mterm\u001b[49m\u001b[43m,\u001b[49m\n\u001b[0;32m    218\u001b[0m \u001b[43m                                                             \u001b[49m\u001b[43mreference_tree\u001b[49m\u001b[43m)\u001b[49m\n\u001b[0;32m    219\u001b[0m     \u001b[38;5;28;01mreturn\u001b[39;00m \u001b[38;5;28mcls\u001b[39m\u001b[38;5;241m.\u001b[39mfrom_single_state_diagram(single_term_diagram)\n",
      "File \u001b[1;32m~\\OneDrive\\Dokumente\\GitHub\\PyTreeNet\\pytreenet\\ttno\\single_term_diagram.py:98\u001b[0m, in \u001b[0;36mSingleTermDiagram.from_single_term\u001b[1;34m(cls, term, reference_tree)\u001b[0m\n\u001b[0;32m     96\u001b[0m \u001b[38;5;28;01massert\u001b[39;00m \u001b[38;5;28mlen\u001b[39m(term[\u001b[38;5;241m2\u001b[39m]) \u001b[38;5;241m==\u001b[39m \u001b[38;5;28mlen\u001b[39m(reference_tree\u001b[38;5;241m.\u001b[39mnodes), \u001b[38;5;124m\"\u001b[39m\u001b[38;5;124mThe term and reference_tree are incompatible!\u001b[39m\u001b[38;5;124m\"\u001b[39m\n\u001b[0;32m     97\u001b[0m state_diag \u001b[38;5;241m=\u001b[39m \u001b[38;5;28mcls\u001b[39m(reference_tree)\n\u001b[1;32m---> 98\u001b[0m \u001b[43mstate_diag\u001b[49m\u001b[38;5;241;43m.\u001b[39;49m\u001b[43m_from_single_term_rec\u001b[49m\u001b[43m(\u001b[49m\u001b[43m(\u001b[49m\u001b[38;5;28;43;01mNone\u001b[39;49;00m\u001b[43m,\u001b[49m\u001b[43m \u001b[49m\u001b[43mreference_tree\u001b[49m\u001b[38;5;241;43m.\u001b[39;49m\u001b[43mroot_id\u001b[49m\u001b[43m)\u001b[49m\u001b[43m,\u001b[49m\u001b[43m \u001b[49m\u001b[43mterm\u001b[49m\u001b[43m[\u001b[49m\u001b[38;5;241;43m2\u001b[39;49m\u001b[43m]\u001b[49m\u001b[43m,\u001b[49m\u001b[43m \u001b[49m\u001b[43m(\u001b[49m\u001b[43mterm\u001b[49m\u001b[43m[\u001b[49m\u001b[38;5;241;43m0\u001b[39;49m\u001b[43m]\u001b[49m\u001b[43m,\u001b[49m\u001b[43m \u001b[49m\u001b[43mterm\u001b[49m\u001b[43m[\u001b[49m\u001b[38;5;241;43m1\u001b[39;49m\u001b[43m]\u001b[49m\u001b[43m)\u001b[49m\u001b[43m)\u001b[49m\n\u001b[0;32m     99\u001b[0m \u001b[38;5;28;01mreturn\u001b[39;00m state_diag\n",
      "File \u001b[1;32m~\\OneDrive\\Dokumente\\GitHub\\PyTreeNet\\pytreenet\\ttno\\single_term_diagram.py:127\u001b[0m, in \u001b[0;36mSingleTermDiagram._from_single_term_rec\u001b[1;34m(self, edge_id_tuple, term, coeff_tuple)\u001b[0m\n\u001b[0;32m    125\u001b[0m \u001b[38;5;66;03m# Continue recursively below all the new vertices\u001b[39;00m\n\u001b[0;32m    126\u001b[0m \u001b[38;5;28;01mfor\u001b[39;00m vertex \u001b[38;5;129;01min\u001b[39;00m vertices:\n\u001b[1;32m--> 127\u001b[0m     \u001b[38;5;28;43mself\u001b[39;49m\u001b[38;5;241;43m.\u001b[39;49m\u001b[43m_from_single_term_rec\u001b[49m\u001b[43m(\u001b[49m\u001b[43mvertex\u001b[49m\u001b[38;5;241;43m.\u001b[39;49m\u001b[43mcorr_edge\u001b[49m\u001b[43m,\u001b[49m\u001b[43m \u001b[49m\u001b[43mterm\u001b[49m\u001b[43m,\u001b[49m\u001b[43m \u001b[49m\u001b[43mcoeff_tuple\u001b[49m\u001b[43m)\u001b[49m\n",
      "File \u001b[1;32m~\\OneDrive\\Dokumente\\GitHub\\PyTreeNet\\pytreenet\\ttno\\single_term_diagram.py:127\u001b[0m, in \u001b[0;36mSingleTermDiagram._from_single_term_rec\u001b[1;34m(self, edge_id_tuple, term, coeff_tuple)\u001b[0m\n\u001b[0;32m    125\u001b[0m \u001b[38;5;66;03m# Continue recursively below all the new vertices\u001b[39;00m\n\u001b[0;32m    126\u001b[0m \u001b[38;5;28;01mfor\u001b[39;00m vertex \u001b[38;5;129;01min\u001b[39;00m vertices:\n\u001b[1;32m--> 127\u001b[0m     \u001b[38;5;28;43mself\u001b[39;49m\u001b[38;5;241;43m.\u001b[39;49m\u001b[43m_from_single_term_rec\u001b[49m\u001b[43m(\u001b[49m\u001b[43mvertex\u001b[49m\u001b[38;5;241;43m.\u001b[39;49m\u001b[43mcorr_edge\u001b[49m\u001b[43m,\u001b[49m\u001b[43m \u001b[49m\u001b[43mterm\u001b[49m\u001b[43m,\u001b[49m\u001b[43m \u001b[49m\u001b[43mcoeff_tuple\u001b[49m\u001b[43m)\u001b[49m\n",
      "    \u001b[1;31m[... skipping similar frames: SingleTermDiagram._from_single_term_rec at line 127 (51 times)]\u001b[0m\n",
      "File \u001b[1;32m~\\OneDrive\\Dokumente\\GitHub\\PyTreeNet\\pytreenet\\ttno\\single_term_diagram.py:127\u001b[0m, in \u001b[0;36mSingleTermDiagram._from_single_term_rec\u001b[1;34m(self, edge_id_tuple, term, coeff_tuple)\u001b[0m\n\u001b[0;32m    125\u001b[0m \u001b[38;5;66;03m# Continue recursively below all the new vertices\u001b[39;00m\n\u001b[0;32m    126\u001b[0m \u001b[38;5;28;01mfor\u001b[39;00m vertex \u001b[38;5;129;01min\u001b[39;00m vertices:\n\u001b[1;32m--> 127\u001b[0m     \u001b[38;5;28;43mself\u001b[39;49m\u001b[38;5;241;43m.\u001b[39;49m\u001b[43m_from_single_term_rec\u001b[49m\u001b[43m(\u001b[49m\u001b[43mvertex\u001b[49m\u001b[38;5;241;43m.\u001b[39;49m\u001b[43mcorr_edge\u001b[49m\u001b[43m,\u001b[49m\u001b[43m \u001b[49m\u001b[43mterm\u001b[49m\u001b[43m,\u001b[49m\u001b[43m \u001b[49m\u001b[43mcoeff_tuple\u001b[49m\u001b[43m)\u001b[49m\n",
      "File \u001b[1;32m~\\OneDrive\\Dokumente\\GitHub\\PyTreeNet\\pytreenet\\ttno\\single_term_diagram.py:118\u001b[0m, in \u001b[0;36mSingleTermDiagram._from_single_term_rec\u001b[1;34m(self, edge_id_tuple, term, coeff_tuple)\u001b[0m\n\u001b[0;32m    116\u001b[0m vertices \u001b[38;5;241m=\u001b[39m []  \u001b[38;5;66;03m# To update the new_hyperedge later on.\u001b[39;00m\n\u001b[0;32m    117\u001b[0m \u001b[38;5;28;01mfor\u001b[39;00m child_id \u001b[38;5;129;01min\u001b[39;00m node\u001b[38;5;241m.\u001b[39mchildren:\n\u001b[1;32m--> 118\u001b[0m     vertex \u001b[38;5;241m=\u001b[39m \u001b[43mVertex\u001b[49m\u001b[43m(\u001b[49m\u001b[43m(\u001b[49m\u001b[43mnew_node_id\u001b[49m\u001b[43m,\u001b[49m\u001b[43m \u001b[49m\u001b[43mchild_id\u001b[49m\u001b[43m)\u001b[49m\u001b[43m,\u001b[49m\u001b[43m \u001b[49m\u001b[43m[\u001b[49m\u001b[43mnew_hyperedge\u001b[49m\u001b[43m]\u001b[49m\u001b[43m)\u001b[49m\n\u001b[0;32m    119\u001b[0m     \u001b[38;5;28mself\u001b[39m\u001b[38;5;241m.\u001b[39mvertices[(new_node_id, child_id)] \u001b[38;5;241m=\u001b[39m vertex\n\u001b[0;32m    120\u001b[0m     vertices\u001b[38;5;241m.\u001b[39mappend(vertex)\n",
      "File \u001b[1;32m~\\OneDrive\\Dokumente\\GitHub\\PyTreeNet\\pytreenet\\ttno\\vertex.py:35\u001b[0m, in \u001b[0;36mVertex.__init__\u001b[1;34m(self, corr_edge, hyperedges)\u001b[0m\n\u001b[0;32m     32\u001b[0m \u001b[38;5;28mself\u001b[39m\u001b[38;5;241m.\u001b[39mcorr_edge \u001b[38;5;241m=\u001b[39m corr_edge\n\u001b[0;32m     33\u001b[0m \u001b[38;5;28mself\u001b[39m\u001b[38;5;241m.\u001b[39mhyperedges \u001b[38;5;241m=\u001b[39m hyperedges\n\u001b[1;32m---> 35\u001b[0m \u001b[38;5;28mself\u001b[39m\u001b[38;5;241m.\u001b[39midentifier \u001b[38;5;241m=\u001b[39m \u001b[38;5;28mstr\u001b[39m(\u001b[43muuid\u001b[49m\u001b[38;5;241;43m.\u001b[39;49m\u001b[43muuid1\u001b[49m\u001b[43m(\u001b[49m\u001b[43m)\u001b[49m)\n\u001b[0;32m     37\u001b[0m \u001b[38;5;28mself\u001b[39m\u001b[38;5;241m.\u001b[39mcontained \u001b[38;5;241m=\u001b[39m \u001b[38;5;28;01mFalse\u001b[39;00m\n\u001b[0;32m     38\u001b[0m \u001b[38;5;28mself\u001b[39m\u001b[38;5;241m.\u001b[39mnew \u001b[38;5;241m=\u001b[39m \u001b[38;5;28;01mFalse\u001b[39;00m\n",
      "File \u001b[1;32mC:\\Program Files\\WindowsApps\\PythonSoftwareFoundation.Python.3.11_3.11.2544.0_x64__qbz5n2kfra8p0\\Lib\\uuid.py:709\u001b[0m, in \u001b[0;36muuid1\u001b[1;34m(node, clock_seq)\u001b[0m\n\u001b[0;32m    707\u001b[0m \u001b[38;5;28;01mif\u001b[39;00m node \u001b[38;5;129;01mis\u001b[39;00m \u001b[38;5;28;01mNone\u001b[39;00m:\n\u001b[0;32m    708\u001b[0m     node \u001b[38;5;241m=\u001b[39m getnode()\n\u001b[1;32m--> 709\u001b[0m \u001b[38;5;28;01mreturn\u001b[39;00m \u001b[43mUUID\u001b[49m\u001b[43m(\u001b[49m\u001b[43mfields\u001b[49m\u001b[38;5;241;43m=\u001b[39;49m\u001b[43m(\u001b[49m\u001b[43mtime_low\u001b[49m\u001b[43m,\u001b[49m\u001b[43m \u001b[49m\u001b[43mtime_mid\u001b[49m\u001b[43m,\u001b[49m\u001b[43m \u001b[49m\u001b[43mtime_hi_version\u001b[49m\u001b[43m,\u001b[49m\n\u001b[0;32m    710\u001b[0m \u001b[43m                    \u001b[49m\u001b[43mclock_seq_hi_variant\u001b[49m\u001b[43m,\u001b[49m\u001b[43m \u001b[49m\u001b[43mclock_seq_low\u001b[49m\u001b[43m,\u001b[49m\u001b[43m \u001b[49m\u001b[43mnode\u001b[49m\u001b[43m)\u001b[49m\u001b[43m,\u001b[49m\u001b[43m \u001b[49m\u001b[43mversion\u001b[49m\u001b[38;5;241;43m=\u001b[39;49m\u001b[38;5;241;43m1\u001b[39;49m\u001b[43m)\u001b[49m\n",
      "File \u001b[1;32mC:\\Program Files\\WindowsApps\\PythonSoftwareFoundation.Python.3.11_3.11.2544.0_x64__qbz5n2kfra8p0\\Lib\\uuid.py:223\u001b[0m, in \u001b[0;36mUUID.__init__\u001b[1;34m(self, hex, bytes, bytes_le, fields, int, version, is_safe)\u001b[0m\n\u001b[0;32m    221\u001b[0m     \u001b[38;5;28mint\u001b[39m \u001b[38;5;241m|\u001b[39m\u001b[38;5;241m=\u001b[39m version \u001b[38;5;241m<<\u001b[39m \u001b[38;5;241m76\u001b[39m\n\u001b[0;32m    222\u001b[0m \u001b[38;5;28mobject\u001b[39m\u001b[38;5;241m.\u001b[39m\u001b[38;5;21m__setattr__\u001b[39m(\u001b[38;5;28mself\u001b[39m, \u001b[38;5;124m'\u001b[39m\u001b[38;5;124mint\u001b[39m\u001b[38;5;124m'\u001b[39m, \u001b[38;5;28mint\u001b[39m)\n\u001b[1;32m--> 223\u001b[0m \u001b[38;5;28;43mobject\u001b[39;49m\u001b[38;5;241;43m.\u001b[39;49m\u001b[38;5;21;43m__setattr__\u001b[39;49m\u001b[43m(\u001b[49m\u001b[38;5;28;43mself\u001b[39;49m\u001b[43m,\u001b[49m\u001b[43m \u001b[49m\u001b[38;5;124;43m'\u001b[39;49m\u001b[38;5;124;43mis_safe\u001b[39;49m\u001b[38;5;124;43m'\u001b[39;49m\u001b[43m,\u001b[49m\u001b[43m \u001b[49m\u001b[43mis_safe\u001b[49m\u001b[43m)\u001b[49m\n",
      "\u001b[1;31mKeyboardInterrupt\u001b[0m: "
     ]
    }
   ],
   "source": [
    "mpo_main(params)\n",
    "tree_main(params)"
   ]
  },
  {
   "cell_type": "markdown",
   "metadata": {},
   "source": [
    "## Plotting the Data"
   ]
  },
  {
   "cell_type": "markdown",
   "metadata": {},
   "source": [
    "We can easily generate the different kinds of plots used in the paper."
   ]
  },
  {
   "cell_type": "code",
   "execution_count": null,
   "metadata": {},
   "outputs": [],
   "source": [
    "from plot import main as plot_main\n",
    "from plot_mode_comparison import main as plot_comp_main\n",
    "from pytreenet.ttno.state_diagram import TTNOFinder"
   ]
  },
  {
   "cell_type": "markdown",
   "metadata": {},
   "source": [
    "These plots just show the average and maximum bond dimension for a single construction case with respect to te molecule number and bath number."
   ]
  },
  {
   "cell_type": "code",
   "execution_count": null,
   "metadata": {},
   "outputs": [
    {
     "ename": "FileNotFoundError",
     "evalue": "[Errno 2] Unable to synchronously open file (unable to open file: name = 'c:\\Users\\richi\\OneDrive\\Dokumente\\GitHub\\PyTreeNet\\experiments\\heom_mpo/data/data_mps_sge_homogenous.h5', errno = 2, error message = 'No such file or directory', flags = 0, o_flags = 0)",
     "output_type": "error",
     "traceback": [
      "\u001b[1;31m---------------------------------------------------------------------------\u001b[0m",
      "\u001b[1;31mFileNotFoundError\u001b[0m                         Traceback (most recent call last)",
      "Cell \u001b[1;32mIn[14], line 1\u001b[0m\n\u001b[1;32m----> 1\u001b[0m \u001b[43mplot_main\u001b[49m\u001b[43m(\u001b[49m\u001b[43mhomogenous\u001b[49m\u001b[38;5;241;43m=\u001b[39;49m\u001b[38;5;28;43;01mTrue\u001b[39;49;00m\u001b[43m,\u001b[49m\n\u001b[0;32m      2\u001b[0m \u001b[43m          \u001b[49m\u001b[43mmode\u001b[49m\u001b[38;5;241;43m=\u001b[39;49m\u001b[43mTTNOFinder\u001b[49m\u001b[38;5;241;43m.\u001b[39;49m\u001b[43mSGE\u001b[49m\u001b[43m,\u001b[49m\n\u001b[0;32m      3\u001b[0m \u001b[43m          \u001b[49m\u001b[43msave\u001b[49m\u001b[38;5;241;43m=\u001b[39;49m\u001b[38;5;28;43;01mFalse\u001b[39;49;00m\u001b[43m)\u001b[49m\n",
      "File \u001b[1;32mc:\\Users\\richi\\OneDrive\\Dokumente\\GitHub\\PyTreeNet\\experiments\\heom_mpo\\plot.py:77\u001b[0m, in \u001b[0;36mmain\u001b[1;34m(homogenous, mode, save)\u001b[0m\n\u001b[0;32m     73\u001b[0m \u001b[38;5;28;01mdef\u001b[39;00m \u001b[38;5;21mmain\u001b[39m(homogenous: \u001b[38;5;28mbool\u001b[39m \u001b[38;5;241m=\u001b[39m \u001b[38;5;28;01mTrue\u001b[39;00m,\n\u001b[0;32m     74\u001b[0m          mode: TTNOFinder \u001b[38;5;241m=\u001b[39m TTNOFinder\u001b[38;5;241m.\u001b[39mSGE,\n\u001b[0;32m     75\u001b[0m          save: \u001b[38;5;28mbool\u001b[39m \u001b[38;5;241m=\u001b[39m \u001b[38;5;28;01mTrue\u001b[39;00m):\n\u001b[0;32m     76\u001b[0m     fig, axs \u001b[38;5;241m=\u001b[39m plt\u001b[38;5;241m.\u001b[39msubplots(\u001b[38;5;241m2\u001b[39m, \u001b[38;5;241m1\u001b[39m, figsize\u001b[38;5;241m=\u001b[39m(\u001b[38;5;241m10\u001b[39m, \u001b[38;5;241m10\u001b[39m))\n\u001b[1;32m---> 77\u001b[0m     \u001b[43m_plot_mps\u001b[49m\u001b[43m(\u001b[49m\u001b[43maxs\u001b[49m\u001b[43m,\u001b[49m\u001b[43m \u001b[49m\u001b[43mhomogenous\u001b[49m\u001b[43m,\u001b[49m\u001b[43m \u001b[49m\u001b[43mmode\u001b[49m\u001b[43m)\u001b[49m\n\u001b[0;32m     78\u001b[0m     _plot_tree(axs, homogenous, mode)\n\u001b[0;32m     79\u001b[0m     axs[\u001b[38;5;241m0\u001b[39m]\u001b[38;5;241m.\u001b[39mset_title(\u001b[38;5;124m\"\u001b[39m\u001b[38;5;124mAverage Bond Dimension\u001b[39m\u001b[38;5;124m\"\u001b[39m)\n",
      "File \u001b[1;32mc:\\Users\\richi\\OneDrive\\Dokumente\\GitHub\\PyTreeNet\\experiments\\heom_mpo\\plot.py:58\u001b[0m, in \u001b[0;36m_plot_mps\u001b[1;34m(axs, homogenous, mode)\u001b[0m\n\u001b[0;32m     54\u001b[0m \u001b[38;5;28;01mdef\u001b[39;00m \u001b[38;5;21m_plot_mps\u001b[39m(axs,\n\u001b[0;32m     55\u001b[0m               homogenous: \u001b[38;5;28mbool\u001b[39m \u001b[38;5;241m=\u001b[39m \u001b[38;5;28;01mTrue\u001b[39;00m,\n\u001b[0;32m     56\u001b[0m               mode: TTNOFinder \u001b[38;5;241m=\u001b[39m TTNOFinder\u001b[38;5;241m.\u001b[39mSGE):\n\u001b[0;32m     57\u001b[0m     datapath \u001b[38;5;241m=\u001b[39m create_datapath(\u001b[38;5;124m\"\u001b[39m\u001b[38;5;124mmps\u001b[39m\u001b[38;5;124m\"\u001b[39m, homogenous, mode)\n\u001b[1;32m---> 58\u001b[0m     \u001b[43m_plot_bond_dims\u001b[49m\u001b[43m(\u001b[49m\u001b[43maxs\u001b[49m\u001b[43m,\u001b[49m\u001b[43m \u001b[49m\u001b[43mdatapath\u001b[49m\u001b[43m,\u001b[49m\u001b[43m \u001b[49m\u001b[38;5;124;43m\"\u001b[39;49m\u001b[38;5;124;43m--\u001b[39;49m\u001b[38;5;124;43m\"\u001b[39;49m\u001b[43m,\u001b[49m\u001b[43m \u001b[49m\u001b[38;5;124;43m\"\u001b[39;49m\u001b[38;5;124;43mMPS\u001b[39;49m\u001b[38;5;124;43m\"\u001b[39;49m\u001b[43m)\u001b[49m\n",
      "File \u001b[1;32mc:\\Users\\richi\\OneDrive\\Dokumente\\GitHub\\PyTreeNet\\experiments\\heom_mpo\\plot.py:19\u001b[0m, in \u001b[0;36m_plot_bond_dims\u001b[1;34m(axs, datapath, style, label)\u001b[0m\n\u001b[0;32m     17\u001b[0m \u001b[38;5;28;01mdef\u001b[39;00m \u001b[38;5;21m_plot_bond_dims\u001b[39m(axs, datapath: \u001b[38;5;28mstr\u001b[39m, style: \u001b[38;5;28mstr\u001b[39m \u001b[38;5;241m=\u001b[39m \u001b[38;5;124m\"\u001b[39m\u001b[38;5;124msolid\u001b[39m\u001b[38;5;124m\"\u001b[39m,\n\u001b[0;32m     18\u001b[0m                     label: \u001b[38;5;28mstr\u001b[39m \u001b[38;5;241m=\u001b[39m \u001b[38;5;124m\"\u001b[39m\u001b[38;5;124m\"\u001b[39m):\n\u001b[1;32m---> 19\u001b[0m     \u001b[38;5;28;01mwith\u001b[39;00m \u001b[43mh5py\u001b[49m\u001b[38;5;241;43m.\u001b[39;49m\u001b[43mFile\u001b[49m\u001b[43m(\u001b[49m\u001b[43mdatapath\u001b[49m\u001b[43m,\u001b[49m\u001b[43m \u001b[49m\u001b[38;5;124;43m\"\u001b[39;49m\u001b[38;5;124;43mr\u001b[39;49m\u001b[38;5;124;43m\"\u001b[39;49m\u001b[43m)\u001b[49m \u001b[38;5;28;01mas\u001b[39;00m file:\n\u001b[0;32m     20\u001b[0m         \u001b[38;5;66;03m# Metadata\u001b[39;00m\n\u001b[0;32m     21\u001b[0m         mol_nums, bath_nums \u001b[38;5;241m=\u001b[39m _load_metadata(file)\n\u001b[0;32m     22\u001b[0m         \u001b[38;5;66;03m# Plotting\u001b[39;00m\n",
      "File \u001b[1;32mc:\\Users\\richi\\OneDrive\\Dokumente\\GitHub\\PyTreeNet\\.venv\\Lib\\site-packages\\h5py\\_hl\\files.py:561\u001b[0m, in \u001b[0;36mFile.__init__\u001b[1;34m(self, name, mode, driver, libver, userblock_size, swmr, rdcc_nslots, rdcc_nbytes, rdcc_w0, track_order, fs_strategy, fs_persist, fs_threshold, fs_page_size, page_buf_size, min_meta_keep, min_raw_keep, locking, alignment_threshold, alignment_interval, meta_block_size, **kwds)\u001b[0m\n\u001b[0;32m    552\u001b[0m     fapl \u001b[38;5;241m=\u001b[39m make_fapl(driver, libver, rdcc_nslots, rdcc_nbytes, rdcc_w0,\n\u001b[0;32m    553\u001b[0m                      locking, page_buf_size, min_meta_keep, min_raw_keep,\n\u001b[0;32m    554\u001b[0m                      alignment_threshold\u001b[38;5;241m=\u001b[39malignment_threshold,\n\u001b[0;32m    555\u001b[0m                      alignment_interval\u001b[38;5;241m=\u001b[39malignment_interval,\n\u001b[0;32m    556\u001b[0m                      meta_block_size\u001b[38;5;241m=\u001b[39mmeta_block_size,\n\u001b[0;32m    557\u001b[0m                      \u001b[38;5;241m*\u001b[39m\u001b[38;5;241m*\u001b[39mkwds)\n\u001b[0;32m    558\u001b[0m     fcpl \u001b[38;5;241m=\u001b[39m make_fcpl(track_order\u001b[38;5;241m=\u001b[39mtrack_order, fs_strategy\u001b[38;5;241m=\u001b[39mfs_strategy,\n\u001b[0;32m    559\u001b[0m                      fs_persist\u001b[38;5;241m=\u001b[39mfs_persist, fs_threshold\u001b[38;5;241m=\u001b[39mfs_threshold,\n\u001b[0;32m    560\u001b[0m                      fs_page_size\u001b[38;5;241m=\u001b[39mfs_page_size)\n\u001b[1;32m--> 561\u001b[0m     fid \u001b[38;5;241m=\u001b[39m \u001b[43mmake_fid\u001b[49m\u001b[43m(\u001b[49m\u001b[43mname\u001b[49m\u001b[43m,\u001b[49m\u001b[43m \u001b[49m\u001b[43mmode\u001b[49m\u001b[43m,\u001b[49m\u001b[43m \u001b[49m\u001b[43muserblock_size\u001b[49m\u001b[43m,\u001b[49m\u001b[43m \u001b[49m\u001b[43mfapl\u001b[49m\u001b[43m,\u001b[49m\u001b[43m \u001b[49m\u001b[43mfcpl\u001b[49m\u001b[43m,\u001b[49m\u001b[43m \u001b[49m\u001b[43mswmr\u001b[49m\u001b[38;5;241;43m=\u001b[39;49m\u001b[43mswmr\u001b[49m\u001b[43m)\u001b[49m\n\u001b[0;32m    563\u001b[0m \u001b[38;5;28;01mif\u001b[39;00m \u001b[38;5;28misinstance\u001b[39m(libver, \u001b[38;5;28mtuple\u001b[39m):\n\u001b[0;32m    564\u001b[0m     \u001b[38;5;28mself\u001b[39m\u001b[38;5;241m.\u001b[39m_libver \u001b[38;5;241m=\u001b[39m libver\n",
      "File \u001b[1;32mc:\\Users\\richi\\OneDrive\\Dokumente\\GitHub\\PyTreeNet\\.venv\\Lib\\site-packages\\h5py\\_hl\\files.py:235\u001b[0m, in \u001b[0;36mmake_fid\u001b[1;34m(name, mode, userblock_size, fapl, fcpl, swmr)\u001b[0m\n\u001b[0;32m    233\u001b[0m     \u001b[38;5;28;01mif\u001b[39;00m swmr \u001b[38;5;129;01mand\u001b[39;00m swmr_support:\n\u001b[0;32m    234\u001b[0m         flags \u001b[38;5;241m|\u001b[39m\u001b[38;5;241m=\u001b[39m h5f\u001b[38;5;241m.\u001b[39mACC_SWMR_READ\n\u001b[1;32m--> 235\u001b[0m     fid \u001b[38;5;241m=\u001b[39m \u001b[43mh5f\u001b[49m\u001b[38;5;241;43m.\u001b[39;49m\u001b[43mopen\u001b[49m\u001b[43m(\u001b[49m\u001b[43mname\u001b[49m\u001b[43m,\u001b[49m\u001b[43m \u001b[49m\u001b[43mflags\u001b[49m\u001b[43m,\u001b[49m\u001b[43m \u001b[49m\u001b[43mfapl\u001b[49m\u001b[38;5;241;43m=\u001b[39;49m\u001b[43mfapl\u001b[49m\u001b[43m)\u001b[49m\n\u001b[0;32m    236\u001b[0m \u001b[38;5;28;01melif\u001b[39;00m mode \u001b[38;5;241m==\u001b[39m \u001b[38;5;124m'\u001b[39m\u001b[38;5;124mr+\u001b[39m\u001b[38;5;124m'\u001b[39m:\n\u001b[0;32m    237\u001b[0m     fid \u001b[38;5;241m=\u001b[39m h5f\u001b[38;5;241m.\u001b[39mopen(name, h5f\u001b[38;5;241m.\u001b[39mACC_RDWR, fapl\u001b[38;5;241m=\u001b[39mfapl)\n",
      "File \u001b[1;32mh5py\\\\_objects.pyx:54\u001b[0m, in \u001b[0;36mh5py._objects.with_phil.wrapper\u001b[1;34m()\u001b[0m\n",
      "File \u001b[1;32mh5py\\\\_objects.pyx:55\u001b[0m, in \u001b[0;36mh5py._objects.with_phil.wrapper\u001b[1;34m()\u001b[0m\n",
      "File \u001b[1;32mh5py\\\\h5f.pyx:102\u001b[0m, in \u001b[0;36mh5py.h5f.open\u001b[1;34m()\u001b[0m\n",
      "\u001b[1;31mFileNotFoundError\u001b[0m: [Errno 2] Unable to synchronously open file (unable to open file: name = 'c:\\Users\\richi\\OneDrive\\Dokumente\\GitHub\\PyTreeNet\\experiments\\heom_mpo/data/data_mps_sge_homogenous.h5', errno = 2, error message = 'No such file or directory', flags = 0, o_flags = 0)"
     ]
    },
    {
     "data": {
      "image/png": "[encoded data removed]",
      "text/plain": [
       "<Figure size 1000x1000 with 2 Axes>"
      ]
     },
     "metadata": {},
     "output_type": "display_data"
    }
   ],
   "source": [
    "plot_main(homogenous=True,\n",
    "          mode=TTNOFinder.SGE,\n",
    "          save=False)"
   ]
  },
  {
   "cell_type": "markdown",
   "metadata": {},
   "source": [
    "These plots show the given bond dimension information for a given homogeniety and for all modes and structures."
   ]
  },
  {
   "cell_type": "code",
   "execution_count": null,
   "metadata": {},
   "outputs": [
    {
     "ename": "ValueError",
     "evalue": "Invalid datatype!",
     "output_type": "error",
     "traceback": [
      "\u001b[1;31m---------------------------------------------------------------------------\u001b[0m",
      "\u001b[1;31mValueError\u001b[0m                                Traceback (most recent call last)",
      "Cell \u001b[1;32mIn[40], line 1\u001b[0m\n\u001b[1;32m----> 1\u001b[0m \u001b[43mplot_comp_main\u001b[49m\u001b[43m(\u001b[49m\u001b[43mhomogenous\u001b[49m\u001b[38;5;241;43m=\u001b[39;49m\u001b[38;5;28;43;01mTrue\u001b[39;49;00m\u001b[43m,\u001b[49m\n\u001b[0;32m      2\u001b[0m \u001b[43m               \u001b[49m\u001b[43mdatatype\u001b[49m\u001b[38;5;241;43m=\u001b[39;49m\u001b[38;5;124;43m\"\u001b[39;49m\u001b[38;5;124;43maverage_bond_dims\u001b[39;49m\u001b[38;5;124;43m\"\u001b[39;49m\u001b[43m,\u001b[49m\n\u001b[0;32m      3\u001b[0m \u001b[43m               \u001b[49m\u001b[43msave\u001b[49m\u001b[38;5;241;43m=\u001b[39;49m\u001b[38;5;28;43;01mFalse\u001b[39;49;00m\u001b[43m)\u001b[49m\n",
      "File \u001b[1;32mc:\\Users\\richi\\OneDrive\\Dokumente\\GitHub\\PyTreeNet\\experiments\\heom_mpo\\plot_mode_comparison.py:134\u001b[0m, in \u001b[0;36mmain\u001b[1;34m(homogenous, datatype, save)\u001b[0m\n\u001b[0;32m    132\u001b[0m datapath \u001b[38;5;241m=\u001b[39m create_datapath(\u001b[38;5;124m\"\u001b[39m\u001b[38;5;124mmps\u001b[39m\u001b[38;5;124m\"\u001b[39m, homogenous, mode)\n\u001b[0;32m    133\u001b[0m markersize \u001b[38;5;241m=\u001b[39m \u001b[38;5;241m10\u001b[39m\n\u001b[1;32m--> 134\u001b[0m \u001b[43m_datatype_to_plotfct\u001b[49m\u001b[43m(\u001b[49m\u001b[43mdatatype\u001b[49m\u001b[43m)\u001b[49m(axs, datapath,\n\u001b[0;32m    135\u001b[0m                                label\u001b[38;5;241m=\u001b[39m\u001b[38;5;124mf\u001b[39m\u001b[38;5;124m\"\u001b[39m\u001b[38;5;124mMPS -\u001b[39m\u001b[38;5;132;01m{\u001b[39;00mmode_to_label_str(mode)\u001b[38;5;132;01m}\u001b[39;00m\u001b[38;5;124m\"\u001b[39m,\n\u001b[0;32m    136\u001b[0m                                linestyle\u001b[38;5;241m=\u001b[39mcombi_to_linestyle(\u001b[38;5;124m\"\u001b[39m\u001b[38;5;124mmps\u001b[39m\u001b[38;5;124m\"\u001b[39m, mode),\n\u001b[0;32m    137\u001b[0m                                marker\u001b[38;5;241m=\u001b[39mcombi_to_marker(\u001b[38;5;124m\"\u001b[39m\u001b[38;5;124mmps\u001b[39m\u001b[38;5;124m\"\u001b[39m, mode),\n\u001b[0;32m    138\u001b[0m                                markersize\u001b[38;5;241m=\u001b[39mmarkersize,\n\u001b[0;32m    139\u001b[0m                                color\u001b[38;5;241m=\u001b[39mcombi_to_color(\u001b[38;5;124m\"\u001b[39m\u001b[38;5;124mmps\u001b[39m\u001b[38;5;124m\"\u001b[39m, mode))\n\u001b[0;32m    140\u001b[0m datapath \u001b[38;5;241m=\u001b[39m create_datapath(\u001b[38;5;124m\"\u001b[39m\u001b[38;5;124mtree\u001b[39m\u001b[38;5;124m\"\u001b[39m, homogenous, mode)\n\u001b[0;32m    141\u001b[0m _datatype_to_plotfct(datatype)(axs, datapath,\n\u001b[0;32m    142\u001b[0m                     label\u001b[38;5;241m=\u001b[39m\u001b[38;5;124mf\u001b[39m\u001b[38;5;124m\"\u001b[39m\u001b[38;5;124mTree -\u001b[39m\u001b[38;5;132;01m{\u001b[39;00mmode_to_label_str(mode)\u001b[38;5;132;01m}\u001b[39;00m\u001b[38;5;124m\"\u001b[39m,\n\u001b[0;32m    143\u001b[0m                     linestyle\u001b[38;5;241m=\u001b[39mcombi_to_linestyle(\u001b[38;5;124m\"\u001b[39m\u001b[38;5;124mtree\u001b[39m\u001b[38;5;124m\"\u001b[39m, mode),\n\u001b[0;32m    144\u001b[0m                     marker\u001b[38;5;241m=\u001b[39mcombi_to_marker(\u001b[38;5;124m\"\u001b[39m\u001b[38;5;124mtree\u001b[39m\u001b[38;5;124m\"\u001b[39m, mode),\n\u001b[0;32m    145\u001b[0m                     markersize\u001b[38;5;241m=\u001b[39mmarkersize,\n\u001b[0;32m    146\u001b[0m                     color\u001b[38;5;241m=\u001b[39mcombi_to_color(\u001b[38;5;124m\"\u001b[39m\u001b[38;5;124mtree\u001b[39m\u001b[38;5;124m\"\u001b[39m, mode))\n",
      "File \u001b[1;32mc:\\Users\\richi\\OneDrive\\Dokumente\\GitHub\\PyTreeNet\\experiments\\heom_mpo\\plot_mode_comparison.py:62\u001b[0m, in \u001b[0;36m_datatype_to_plotfct\u001b[1;34m(datatype)\u001b[0m\n\u001b[0;32m     60\u001b[0m     \u001b[38;5;28;01mreturn\u001b[39;00m _plot_max_bond_dims\n\u001b[0;32m     61\u001b[0m \u001b[38;5;28;01melse\u001b[39;00m:\n\u001b[1;32m---> 62\u001b[0m     \u001b[38;5;28;01mraise\u001b[39;00m \u001b[38;5;167;01mValueError\u001b[39;00m(\u001b[38;5;124m\"\u001b[39m\u001b[38;5;124mInvalid datatype!\u001b[39m\u001b[38;5;124m\"\u001b[39m)\n",
      "\u001b[1;31mValueError\u001b[0m: Invalid datatype!"
     ]
    },
    {
     "data": {
      "image/png": "[encoded data removed]",
      "text/plain": [
       "<Figure size 800x600 with 1 Axes>"
      ]
     },
     "metadata": {},
     "output_type": "display_data"
    }
   ],
   "source": [
    "plot_comp_main(homogenous=True,\n",
    "               datatype=\"average_bond_dims\",\n",
    "               save=False)"
   ]
  },
  {
   "cell_type": "markdown",
   "metadata": {},
   "source": [
    "## Run Everything"
   ]
  },
  {
   "cell_type": "markdown",
   "metadata": {},
   "source": [
    "We can also easily do all constructions and plots in one go. Since the constructions were already done, we only do all the plots"
   ]
  },
  {
   "cell_type": "code",
   "execution_count": null,
   "metadata": {},
   "outputs": [],
   "source": [
    "from full_script import main_simulation"
   ]
  },
  {
   "cell_type": "code",
   "execution_count": null,
   "metadata": {},
   "outputs": [],
   "source": [
    "main_simulation(params,\n",
    "                construction=False,\n",
    "                plot=True,\n",
    "                save=False)"
   ]
  }
 ],
 "metadata": {
  "kernelspec": {
   "display_name": ".venv",
   "language": "python",
   "name": "python3"
  },
  "language_info": {
   "codemirror_mode": {
    "name": "ipython",
    "version": 3
   },
   "file_extension": ".py",
   "mimetype": "text/x-python",
   "name": "python",
   "nbconvert_exporter": "python",
   "pygments_lexer": "ipython3",
   "version": "3.11.9"
  }
 },
 "nbformat": 4,
 "nbformat_minor": 2
}
