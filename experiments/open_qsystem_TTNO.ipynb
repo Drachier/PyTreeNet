{
 "cells": [
  {
   "cell_type": "code",
   "execution_count": 1,
   "metadata": {},
   "outputs": [],
   "source": [
    "from copy import deepcopy\n",
    "import numpy as np\n",
    "import pytreenet as ptn"
   ]
  },
  {
   "cell_type": "markdown",
   "metadata": {},
   "source": [
    "# Tree Tensor Network Operator for the Toy Model\n",
    "In the main manuscript we consider a toy Hamiltonian to show the workings of our algorithm to find tree tensor network operators from a Hamiltonian. The toy Hamiltonian is defined on a tree structure as given in Fig.4.1a) in the main manuscript as\n",
    "$$\n",
    "H_{\\text{toy}}= \\sum_{j=1}^4 h_j = Y_2 X_3 X_4 + X_1 Y_2 Y_6 + X_1 Y_2 Z_5 + Z_5 X_7 X_8.\n",
    "$$\n",
    "Here we want to show that our implemented algorithm yields the same state diagrams as the ones shown in the main text."
   ]
  },
  {
   "cell_type": "code",
   "execution_count": 2,
   "metadata": {},
   "outputs": [],
   "source": [
    "# Building the tree\n",
    "def construct_reference_tree() -> ptn.TreeTensorNetworkState:\n",
    "    \"\"\"\n",
    "    Generates the desired tree tensor network used as a reference to construct\n",
    "     the Hamiltonian.\n",
    "    \"\"\"\n",
    "    ttns = ptn.TreeTensorNetworkState()\n",
    "    # Physical legs come last\n",
    "    node1, tensor1 = ptn.random_tensor_node((1, 1, 2), identifier=\"site1\")\n",
    "    node2, tensor2 = ptn.random_tensor_node((1, 1, 1, 2), identifier=\"site2\")\n",
    "    node3, tensor3 = ptn.random_tensor_node((1, 2), identifier=\"site3\")\n",
    "    node4, tensor4 = ptn.random_tensor_node((1, 2), identifier=\"site4\")\n",
    "    node5, tensor5 = ptn.random_tensor_node((1, 1, 1, 2), identifier=\"site5\")\n",
    "    node6, tensor6 = ptn.random_tensor_node((1, 2), identifier=\"site6\")\n",
    "    node7, tensor7 = ptn.random_tensor_node((1, 1, 2), identifier=\"site7\")\n",
    "    node8, tensor8 = ptn.random_tensor_node((1, 2), identifier=\"site8\")\n",
    "    ttns.add_root(node1, tensor1)\n",
    "    ttns.add_child_to_parent(node2, tensor2, 0, \"site1\", 0)\n",
    "    ttns.add_child_to_parent(node3, tensor3, 0, \"site2\", 1)\n",
    "    ttns.add_child_to_parent(node4, tensor4, 0, \"site2\", 2)\n",
    "    ttns.add_child_to_parent(node5, tensor5, 0, \"site1\", 1)\n",
    "    ttns.add_child_to_parent(node6, tensor6, 0, \"site5\", 1)\n",
    "    ttns.add_child_to_parent(node7, tensor7, 0, \"site5\", 2)\n",
    "    ttns.add_child_to_parent(node8, tensor8, 0, \"site7\", 1)\n",
    "    return ttns"
   ]
  },
  {
   "cell_type": "code",
   "execution_count": 3,
   "metadata": {},
   "outputs": [],
   "source": [
    "def construct_toy_hamiltonian() -> ptn.Hamiltonian:\n",
    "    paulis = ptn.pauli_matrices()\n",
    "    conversion_dict = {\"X\": paulis[0], \"Y\": paulis[1], \"Z\": paulis[2], \"I2\": np.eye(2)}\n",
    "    term1 = ptn.TensorProduct({\"site2\": \"Y\", \"site3\": \"X\", \"site4\": \"X\"})\n",
    "    term2 = ptn.TensorProduct({\"site1\": \"X\", \"site2\": \"Y\", \"site6\": \"Y\"})\n",
    "    term3 = ptn.TensorProduct({\"site1\": \"X\", \"site2\": \"Y\", \"site5\": \"Z\"})\n",
    "    term4 = ptn.TensorProduct({\"site5\": \"Z\", \"site7\": \"X\", \"site8\": \"X\"})\n",
    "    return ptn.Hamiltonian([term1,term2,term3,term4], conversion_dictionary=conversion_dict)\n",
    "\n",
    "hamiltonian_toy = construct_toy_hamiltonian()"
   ]
  },
  {
   "cell_type": "code",
   "execution_count": 4,
   "metadata": {},
   "outputs": [],
   "source": [
    "ttns_root1 = construct_reference_tree()\n",
    "hamiltonian1 = hamiltonian_toy.pad_with_identities(ttns_root1)"
   ]
  },
  {
   "cell_type": "markdown",
   "metadata": {},
   "source": [
    "### The Single Term Diagrams"
   ]
  },
  {
   "cell_type": "code",
   "execution_count": 5,
   "metadata": {},
   "outputs": [
    {
     "name": "stdout",
     "output_type": "stream",
     "text": [
      "State Diagram for term 0\n",
      "Hyperedges: {'site1': 'I2', 'site2': 'Y', 'site3': 'X', 'site4': 'X', 'site5': 'I2', 'site6': 'I2', 'site7': 'I2', 'site8': 'I2'}\n",
      "Vertices: [('site1', 'site2'), ('site1', 'site5'), ('site2', 'site3'), ('site2', 'site4'), ('site5', 'site6'), ('site5', 'site7'), ('site7', 'site8')]\n",
      "-----------------\n",
      "State Diagram for term 1\n",
      "Hyperedges: {'site1': 'X', 'site2': 'Y', 'site3': 'I2', 'site4': 'I2', 'site5': 'I2', 'site6': 'Y', 'site7': 'I2', 'site8': 'I2'}\n",
      "Vertices: [('site1', 'site2'), ('site1', 'site5'), ('site2', 'site3'), ('site2', 'site4'), ('site5', 'site6'), ('site5', 'site7'), ('site7', 'site8')]\n",
      "-----------------\n",
      "State Diagram for term 2\n",
      "Hyperedges: {'site1': 'X', 'site2': 'Y', 'site3': 'I2', 'site4': 'I2', 'site5': 'Z', 'site6': 'I2', 'site7': 'I2', 'site8': 'I2'}\n",
      "Vertices: [('site1', 'site2'), ('site1', 'site5'), ('site2', 'site3'), ('site2', 'site4'), ('site5', 'site6'), ('site5', 'site7'), ('site7', 'site8')]\n",
      "-----------------\n",
      "State Diagram for term 3\n",
      "Hyperedges: {'site1': 'I2', 'site2': 'I2', 'site3': 'I2', 'site4': 'I2', 'site5': 'Z', 'site6': 'I2', 'site7': 'X', 'site8': 'X'}\n",
      "Vertices: [('site1', 'site2'), ('site1', 'site5'), ('site2', 'site3'), ('site2', 'site4'), ('site5', 'site6'), ('site5', 'site7'), ('site7', 'site8')]\n",
      "-----------------\n"
     ]
    }
   ],
   "source": [
    "for i, term in enumerate(hamiltonian1.terms):\n",
    "    single_term_diag = ptn.SingleTermDiagram.from_single_term(term, ttns_root1)\n",
    "    print(f\"State Diagram for term {i}\")\n",
    "    print(single_term_diag)\n",
    "    print(\"-----------------\")"
   ]
  },
  {
   "cell_type": "markdown",
   "metadata": {},
   "source": [
    "We can see that the single term diagrams are exactly the one we depicted in Fig. 4.1b)."
   ]
  },
  {
   "cell_type": "markdown",
   "metadata": {},
   "source": [
    "### Complete State Diagram"
   ]
  },
  {
   "cell_type": "code",
   "execution_count": 6,
   "metadata": {},
   "outputs": [
    {
     "name": "stdout",
     "output_type": "stream",
     "text": [
      "hyperedges:\n",
      "label = I2; corr_site = site1; connected to ('site1', 'site2'), ('site1', 'site5'), \n",
      "label = X; corr_site = site1; connected to ('site1', 'site2'), ('site1', 'site5'), \n",
      "label = I2; corr_site = site1; connected to ('site1', 'site2'), ('site1', 'site5'), \n",
      "label = Y; corr_site = site2; connected to ('site1', 'site2'), ('site2', 'site3'), ('site2', 'site4'), \n",
      "label = Y; corr_site = site2; connected to ('site1', 'site2'), ('site2', 'site3'), ('site2', 'site4'), \n",
      "label = I2; corr_site = site2; connected to ('site1', 'site2'), ('site2', 'site3'), ('site2', 'site4'), \n",
      "label = X; corr_site = site3; connected to ('site2', 'site3'), \n",
      "label = I2; corr_site = site3; connected to ('site2', 'site3'), \n",
      "label = X; corr_site = site4; connected to ('site2', 'site4'), \n",
      "label = I2; corr_site = site4; connected to ('site2', 'site4'), \n",
      "label = I2; corr_site = site5; connected to ('site1', 'site5'), ('site5', 'site6'), ('site5', 'site7'), \n",
      "label = I2; corr_site = site5; connected to ('site1', 'site5'), ('site5', 'site6'), ('site5', 'site7'), \n",
      "label = Z; corr_site = site5; connected to ('site1', 'site5'), ('site5', 'site6'), ('site5', 'site7'), \n",
      "label = Z; corr_site = site5; connected to ('site1', 'site5'), ('site5', 'site6'), ('site5', 'site7'), \n",
      "label = I2; corr_site = site6; connected to ('site5', 'site6'), \n",
      "label = Y; corr_site = site6; connected to ('site5', 'site6'), \n",
      "label = I2; corr_site = site7; connected to ('site5', 'site7'), ('site7', 'site8'), \n",
      "label = X; corr_site = site7; connected to ('site5', 'site7'), ('site7', 'site8'), \n",
      "label = I2; corr_site = site8; connected to ('site7', 'site8'), \n",
      "label = X; corr_site = site8; connected to ('site7', 'site8'), \n",
      "\n",
      " vertices:\n",
      "corr_edge = ('site1', 'site2'); connected to (I2, site1), (Y, site2), \n",
      "corr_edge = ('site1', 'site2'); connected to (X, site1), (Y, site2), \n",
      "corr_edge = ('site1', 'site2'); connected to (I2, site1), (I2, site2), \n",
      "corr_edge = ('site1', 'site5'); connected to (I2, site1), (I2, site5), \n",
      "corr_edge = ('site1', 'site5'); connected to (X, site1), (I2, site5), (Z, site5), \n",
      "corr_edge = ('site1', 'site5'); connected to (I2, site1), (Z, site5), \n",
      "corr_edge = ('site2', 'site3'); connected to (Y, site2), (X, site3), \n",
      "corr_edge = ('site2', 'site3'); connected to (Y, site2), (I2, site3), (I2, site2), \n",
      "corr_edge = ('site2', 'site4'); connected to (Y, site2), (X, site4), \n",
      "corr_edge = ('site2', 'site4'); connected to (Y, site2), (I2, site4), (I2, site2), \n",
      "corr_edge = ('site5', 'site6'); connected to (I2, site5), (I2, site6), (Z, site5), (Z, site5), \n",
      "corr_edge = ('site5', 'site6'); connected to (I2, site5), (Y, site6), \n",
      "corr_edge = ('site5', 'site7'); connected to (I2, site5), (I2, site7), (I2, site5), (Z, site5), \n",
      "corr_edge = ('site5', 'site7'); connected to (Z, site5), (X, site7), \n",
      "corr_edge = ('site7', 'site8'); connected to (I2, site7), (I2, site8), \n",
      "corr_edge = ('site7', 'site8'); connected to (X, site7), (X, site8), \n",
      "\n"
     ]
    }
   ],
   "source": [
    "state_diagram1 = ptn.StateDiagram.from_hamiltonian(hamiltonian1, ttns_root1)\n",
    "print(state_diagram1)"
   ]
  },
  {
   "cell_type": "markdown",
   "metadata": {},
   "source": [
    "One can see that this state diagram corresponds to the state diagram given in Fig. 4.1c) in the main text."
   ]
  },
  {
   "cell_type": "markdown",
   "metadata": {},
   "source": [
    "## Considering different Roots\n",
    "### Root at 5\n",
    "Here we consider the same tree structure but with the root of the tree at node 5 instead of node 1."
   ]
  },
  {
   "cell_type": "code",
   "execution_count": 7,
   "metadata": {},
   "outputs": [],
   "source": [
    "def construct_tree_root_at_5():\n",
    "    \"\"\"\n",
    "    Generates the desired tree tensor network with root at site 5 used as a\n",
    "     reference to construct the Hamiltonian.\n",
    "    \"\"\"\n",
    "    ttns = ptn.TreeTensorNetworkState()\n",
    "\n",
    "    # Physical legs come last\n",
    "    node1, tensor1 = ptn.random_tensor_node((1, 1, 2), identifier=\"site1\")\n",
    "    node2, tensor2 = ptn.random_tensor_node((1, 1, 1, 2), identifier=\"site2\")\n",
    "    node3, tensor3 = ptn.random_tensor_node((1, 2), identifier=\"site3\")\n",
    "    node4, tensor4 = ptn.random_tensor_node((1, 2), identifier=\"site4\")\n",
    "    node5, tensor5 = ptn.random_tensor_node((1, 1, 1, 2), identifier=\"site5\")\n",
    "    node6, tensor6 = ptn.random_tensor_node((1, 2), identifier=\"site6\")\n",
    "    node7, tensor7 = ptn.random_tensor_node((1, 1, 2), identifier=\"site7\")\n",
    "    node8, tensor8 = ptn.random_tensor_node((1, 2), identifier=\"site8\")\n",
    "\n",
    "    ttns.add_root(node5, tensor5)\n",
    "    ttns.add_child_to_parent(node1, tensor1, 0, \"site5\", 0)\n",
    "    ttns.add_child_to_parent(node2, tensor2, 0, \"site1\", 1)\n",
    "    ttns.add_child_to_parent(node3, tensor3, 0, \"site2\", 1)\n",
    "    ttns.add_child_to_parent(node4, tensor4, 0, \"site2\", 2)\n",
    "    ttns.add_child_to_parent(node6, tensor6, 0, \"site5\", 1)\n",
    "    ttns.add_child_to_parent(node7, tensor7, 0, \"site5\", 2)\n",
    "    ttns.add_child_to_parent(node8, tensor8, 0, \"site7\", 1)\n",
    "    return ttns"
   ]
  },
  {
   "cell_type": "code",
   "execution_count": 8,
   "metadata": {},
   "outputs": [
    {
     "name": "stdout",
     "output_type": "stream",
     "text": [
      "hyperedges:\n",
      "label = I2; corr_site = site5; connected to ('site5', 'site1'), ('site5', 'site6'), ('site5', 'site7'), \n",
      "label = I2; corr_site = site5; connected to ('site5', 'site1'), ('site5', 'site6'), ('site5', 'site7'), \n",
      "label = Z; corr_site = site5; connected to ('site5', 'site1'), ('site5', 'site6'), ('site5', 'site7'), \n",
      "label = Z; corr_site = site5; connected to ('site5', 'site1'), ('site5', 'site6'), ('site5', 'site7'), \n",
      "label = I2; corr_site = site1; connected to ('site5', 'site1'), ('site1', 'site2'), \n",
      "label = X; corr_site = site1; connected to ('site5', 'site1'), ('site1', 'site2'), \n",
      "label = I2; corr_site = site1; connected to ('site5', 'site1'), ('site1', 'site2'), \n",
      "label = Y; corr_site = site2; connected to ('site1', 'site2'), ('site2', 'site3'), ('site2', 'site4'), \n",
      "label = Y; corr_site = site2; connected to ('site1', 'site2'), ('site2', 'site3'), ('site2', 'site4'), \n",
      "label = I2; corr_site = site2; connected to ('site1', 'site2'), ('site2', 'site3'), ('site2', 'site4'), \n",
      "label = X; corr_site = site3; connected to ('site2', 'site3'), \n",
      "label = I2; corr_site = site3; connected to ('site2', 'site3'), \n",
      "label = X; corr_site = site4; connected to ('site2', 'site4'), \n",
      "label = I2; corr_site = site4; connected to ('site2', 'site4'), \n",
      "label = I2; corr_site = site6; connected to ('site5', 'site6'), \n",
      "label = Y; corr_site = site6; connected to ('site5', 'site6'), \n",
      "label = I2; corr_site = site7; connected to ('site5', 'site7'), ('site7', 'site8'), \n",
      "label = X; corr_site = site7; connected to ('site5', 'site7'), ('site7', 'site8'), \n",
      "label = I2; corr_site = site8; connected to ('site7', 'site8'), \n",
      "label = X; corr_site = site8; connected to ('site7', 'site8'), \n",
      "\n",
      " vertices:\n",
      "corr_edge = ('site5', 'site1'); connected to (I2, site5), (I2, site1), \n",
      "corr_edge = ('site5', 'site1'); connected to (I2, site5), (X, site1), (Z, site5), \n",
      "corr_edge = ('site5', 'site1'); connected to (Z, site5), (I2, site1), \n",
      "corr_edge = ('site5', 'site6'); connected to (I2, site5), (I2, site6), (Z, site5), (Z, site5), \n",
      "corr_edge = ('site5', 'site6'); connected to (I2, site5), (Y, site6), \n",
      "corr_edge = ('site5', 'site7'); connected to (I2, site5), (I2, site7), (I2, site5), (Z, site5), \n",
      "corr_edge = ('site5', 'site7'); connected to (Z, site5), (X, site7), \n",
      "corr_edge = ('site1', 'site2'); connected to (I2, site1), (Y, site2), \n",
      "corr_edge = ('site1', 'site2'); connected to (X, site1), (Y, site2), \n",
      "corr_edge = ('site1', 'site2'); connected to (I2, site1), (I2, site2), \n",
      "corr_edge = ('site2', 'site3'); connected to (Y, site2), (X, site3), \n",
      "corr_edge = ('site2', 'site3'); connected to (Y, site2), (I2, site3), (I2, site2), \n",
      "corr_edge = ('site2', 'site4'); connected to (Y, site2), (X, site4), \n",
      "corr_edge = ('site2', 'site4'); connected to (Y, site2), (I2, site4), (I2, site2), \n",
      "corr_edge = ('site7', 'site8'); connected to (I2, site7), (I2, site8), \n",
      "corr_edge = ('site7', 'site8'); connected to (X, site7), (X, site8), \n",
      "\n"
     ]
    }
   ],
   "source": [
    "ttns_root5 = construct_tree_root_at_5()\n",
    "hamiltonian5 = hamiltonian_toy.pad_with_identities(ttns_root5)\n",
    "state_diagram5 = ptn.StateDiagram.from_hamiltonian(hamiltonian5, ttns_root5)\n",
    "print(state_diagram5)"
   ]
  },
  {
   "cell_type": "markdown",
   "metadata": {},
   "source": [
    "### Root at 6\n",
    "Here we consider the same tree structure but with the root of the tree at node 6 instead of node 1. Note that node 6 was a leaf in the other two trees."
   ]
  },
  {
   "cell_type": "code",
   "execution_count": 9,
   "metadata": {},
   "outputs": [],
   "source": [
    "def construct_tree_root_at_6():\n",
    "    \"\"\"\n",
    "    Generates the desired tree tensor network with root at site 6 used as a\n",
    "     reference to construct the Hamiltonian.\n",
    "    \"\"\"\n",
    "    ttns = ptn.TreeTensorNetworkState()\n",
    "\n",
    "    # Physical legs come last\n",
    "    node1, tensor1 = ptn.random_tensor_node((1, 1, 2), identifier=\"site1\")\n",
    "    node2, tensor2 = ptn.random_tensor_node((1, 1, 1, 2), identifier=\"site2\")\n",
    "    node3, tensor3 = ptn.random_tensor_node((1, 2), identifier=\"site3\")\n",
    "    node4, tensor4 = ptn.random_tensor_node((1, 2), identifier=\"site4\")\n",
    "    node5, tensor5 = ptn.random_tensor_node((1, 1, 1, 2), identifier=\"site5\")\n",
    "    node6, tensor6 = ptn.random_tensor_node((1, 2), identifier=\"site6\")\n",
    "    node7, tensor7 = ptn.random_tensor_node((1, 1, 2), identifier=\"site7\")\n",
    "    node8, tensor8 = ptn.random_tensor_node((1, 2), identifier=\"site8\")\n",
    "\n",
    "    ttns.add_root(node6, tensor6)\n",
    "    ttns.add_child_to_parent(node5, tensor5, 0, \"site6\", 0)\n",
    "    ttns.add_child_to_parent(node1, tensor1, 0, \"site5\", 1)\n",
    "    ttns.add_child_to_parent(node2, tensor2, 0, \"site1\", 1)\n",
    "    ttns.add_child_to_parent(node3, tensor3, 0, \"site2\", 1)\n",
    "    ttns.add_child_to_parent(node4, tensor4, 0, \"site2\", 2)\n",
    "    ttns.add_child_to_parent(node7, tensor7, 0, \"site5\", 2)\n",
    "    ttns.add_child_to_parent(node8, tensor8, 0, \"site7\", 1)\n",
    "    return ttns"
   ]
  },
  {
   "cell_type": "code",
   "execution_count": 10,
   "metadata": {},
   "outputs": [
    {
     "name": "stdout",
     "output_type": "stream",
     "text": [
      "hyperedges:\n",
      "label = I2; corr_site = site6; connected to ('site6', 'site5'), \n",
      "label = Y; corr_site = site6; connected to ('site6', 'site5'), \n",
      "label = I2; corr_site = site6; connected to ('site6', 'site5'), \n",
      "label = I2; corr_site = site6; connected to ('site6', 'site5'), \n",
      "label = I2; corr_site = site5; connected to ('site6', 'site5'), ('site5', 'site1'), ('site5', 'site7'), \n",
      "label = I2; corr_site = site5; connected to ('site6', 'site5'), ('site5', 'site1'), ('site5', 'site7'), \n",
      "label = Z; corr_site = site5; connected to ('site6', 'site5'), ('site5', 'site1'), ('site5', 'site7'), \n",
      "label = Z; corr_site = site5; connected to ('site6', 'site5'), ('site5', 'site1'), ('site5', 'site7'), \n",
      "label = I2; corr_site = site1; connected to ('site5', 'site1'), ('site1', 'site2'), \n",
      "label = X; corr_site = site1; connected to ('site5', 'site1'), ('site1', 'site2'), \n",
      "label = I2; corr_site = site1; connected to ('site5', 'site1'), ('site1', 'site2'), \n",
      "label = Y; corr_site = site2; connected to ('site1', 'site2'), ('site2', 'site3'), ('site2', 'site4'), \n",
      "label = Y; corr_site = site2; connected to ('site1', 'site2'), ('site2', 'site3'), ('site2', 'site4'), \n",
      "label = I2; corr_site = site2; connected to ('site1', 'site2'), ('site2', 'site3'), ('site2', 'site4'), \n",
      "label = X; corr_site = site3; connected to ('site2', 'site3'), \n",
      "label = I2; corr_site = site3; connected to ('site2', 'site3'), \n",
      "label = X; corr_site = site4; connected to ('site2', 'site4'), \n",
      "label = I2; corr_site = site4; connected to ('site2', 'site4'), \n",
      "label = I2; corr_site = site7; connected to ('site5', 'site7'), ('site7', 'site8'), \n",
      "label = X; corr_site = site7; connected to ('site5', 'site7'), ('site7', 'site8'), \n",
      "label = I2; corr_site = site8; connected to ('site7', 'site8'), \n",
      "label = X; corr_site = site8; connected to ('site7', 'site8'), \n",
      "\n",
      " vertices:\n",
      "corr_edge = ('site6', 'site5'); connected to (I2, site6), (I2, site5), \n",
      "corr_edge = ('site6', 'site5'); connected to (Y, site6), (I2, site5), \n",
      "corr_edge = ('site6', 'site5'); connected to (I2, site6), (Z, site5), \n",
      "corr_edge = ('site6', 'site5'); connected to (I2, site6), (Z, site5), \n",
      "corr_edge = ('site5', 'site1'); connected to (I2, site5), (I2, site1), \n",
      "corr_edge = ('site5', 'site1'); connected to (I2, site5), (X, site1), (Z, site5), \n",
      "corr_edge = ('site5', 'site1'); connected to (Z, site5), (I2, site1), \n",
      "corr_edge = ('site5', 'site7'); connected to (I2, site5), (I2, site7), (I2, site5), (Z, site5), \n",
      "corr_edge = ('site5', 'site7'); connected to (Z, site5), (X, site7), \n",
      "corr_edge = ('site1', 'site2'); connected to (I2, site1), (Y, site2), \n",
      "corr_edge = ('site1', 'site2'); connected to (X, site1), (Y, site2), \n",
      "corr_edge = ('site1', 'site2'); connected to (I2, site1), (I2, site2), \n",
      "corr_edge = ('site2', 'site3'); connected to (Y, site2), (X, site3), \n",
      "corr_edge = ('site2', 'site3'); connected to (Y, site2), (I2, site3), (I2, site2), \n",
      "corr_edge = ('site2', 'site4'); connected to (Y, site2), (X, site4), \n",
      "corr_edge = ('site2', 'site4'); connected to (Y, site2), (I2, site4), (I2, site2), \n",
      "corr_edge = ('site7', 'site8'); connected to (I2, site7), (I2, site8), \n",
      "corr_edge = ('site7', 'site8'); connected to (X, site7), (X, site8), \n",
      "\n"
     ]
    }
   ],
   "source": [
    "ttns_root6 = construct_tree_root_at_6()\n",
    "hamiltonian6 = hamiltonian_toy.pad_with_identities(ttns_root6)\n",
    "state_diagram6 = ptn.StateDiagram.from_hamiltonian(hamiltonian6, ttns_root6)\n",
    "print(state_diagram6)"
   ]
  },
  {
   "cell_type": "markdown",
   "metadata": {},
   "source": [
    "# Tree Tensor Network Operator for a Spin-Boson model"
   ]
  },
  {
   "cell_type": "markdown",
   "metadata": {},
   "source": [
    "## Building the Hamiltonian\n",
    "We consider a Heisenberg chain of length $N$ where each site couples to $M$ non-interacting Bosons, i.e.\n",
    "$$\n",
    "H = H_S + H_E + H_{SE}.\n",
    "$$\n",
    "\n",
    "$$\n",
    "H_S = -J\\sum_{s=0}^{N-2} \\langle \\vec{\\sigma} , \\vec{\\sigma} \\rangle,\n",
    "$$\n",
    "where $J$ is the interaction strength and $\\vec{\\sigma} = \\begin{pmatrix} X & Y & Z \\end{pmatrix}^T$ is the vector of Pauli operators.\n",
    "$$\n",
    "H_E = \\sum_{s=0}^{N-1} \\sum_{b=0}^{M-1}\\omega_{s,b} B_{s,b}^\\dagger B_{s,b},\n",
    "$$\n",
    "where $\\omega_{s,b}$ is boson's characteristic frequency, and $B$ and $B^\\dagger$ are the bosonic annihilation and creation operators.\n",
    "$$\n",
    "H_{SE} = \\sum_{s=0}^{N-1} \\sum_{b=0}^{M-1}\\left( g_{s,b} Z_s B_{s,b} + \\text{h.c.} \\right),\n",
    "$$\n",
    "where $g_{s,b}$ is the coupling strength of spin $s$ with boson $(s,b)$."
   ]
  },
  {
   "cell_type": "code",
   "execution_count": 11,
   "metadata": {},
   "outputs": [],
   "source": [
    "def gen_hamiltonian(num_spins, num_bosons_per_spin):\n",
    "    # We use the convention `\"spin\" + index` for the spin sites\n",
    "    # and `\"bosons_spinindex_bosonindex` for the bosonic sites\n",
    "    hamiltonian = ptn.Hamiltonian()\n",
    "\n",
    "    # Spin-Spin Interaction\n",
    "    paulis = [\"X\", \"Y\", \"Z\"]\n",
    "    for s in range(num_spins-1):\n",
    "        site_id = \"spin_\" + str(s)\n",
    "        neighbour_id = \"spin_\" + str(s+1)\n",
    "        for pauli in paulis:\n",
    "            term = ptn.TensorProduct({site_id: \"-J\" + pauli,\n",
    "                                    neighbour_id: pauli})\n",
    "            hamiltonian.add_term(term)\n",
    "\n",
    "    # Bosonic Site Action\n",
    "    for s in range(num_spins):\n",
    "        for b in range(num_bosons_per_spin):\n",
    "            site_id = \"boson_\" + str(s) + \"_\" + str(b)\n",
    "            term = ptn.TensorProduct({site_id: \"wN\"})\n",
    "            hamiltonian.add_term(term)\n",
    "\n",
    "    # Spin-Boson coupling\n",
    "    for s in range(num_spins):\n",
    "        spin_identifier = \"spin_\" + str(s)\n",
    "        for b in range(num_bosons_per_spin):\n",
    "            boson_identifier = \"boson_\" + str(s) + \"_\" + str(b)\n",
    "            term = ptn.TensorProduct({spin_identifier: \"Z\",\n",
    "                                    boson_identifier: \"gb+g*b^dagger\"})\n",
    "            hamiltonian.add_term(term)\n",
    "    return hamiltonian"
   ]
  },
  {
   "cell_type": "code",
   "execution_count": 12,
   "metadata": {},
   "outputs": [
    {
     "name": "stdout",
     "output_type": "stream",
     "text": [
      "{'spin_0': '-JX', 'spin_1': 'X'}\n",
      "{'spin_0': '-JY', 'spin_1': 'Y'}\n",
      "{'spin_0': '-JZ', 'spin_1': 'Z'}\n",
      "{'spin_1': '-JX', 'spin_2': 'X'}\n",
      "{'spin_1': '-JY', 'spin_2': 'Y'}\n",
      "{'spin_1': '-JZ', 'spin_2': 'Z'}\n",
      "{'spin_2': '-JX', 'spin_3': 'X'}\n",
      "{'spin_2': '-JY', 'spin_3': 'Y'}\n",
      "{'spin_2': '-JZ', 'spin_3': 'Z'}\n",
      "{'spin_3': '-JX', 'spin_4': 'X'}\n",
      "{'spin_3': '-JY', 'spin_4': 'Y'}\n",
      "{'spin_3': '-JZ', 'spin_4': 'Z'}\n",
      "{'boson_0_0': 'wN'}\n",
      "{'boson_0_1': 'wN'}\n",
      "{'boson_0_2': 'wN'}\n",
      "{'boson_0_3': 'wN'}\n",
      "{'boson_1_0': 'wN'}\n",
      "{'boson_1_1': 'wN'}\n",
      "{'boson_1_2': 'wN'}\n",
      "{'boson_1_3': 'wN'}\n",
      "{'boson_2_0': 'wN'}\n",
      "{'boson_2_1': 'wN'}\n",
      "{'boson_2_2': 'wN'}\n",
      "{'boson_2_3': 'wN'}\n",
      "{'boson_3_0': 'wN'}\n",
      "{'boson_3_1': 'wN'}\n",
      "{'boson_3_2': 'wN'}\n",
      "{'boson_3_3': 'wN'}\n",
      "{'boson_4_0': 'wN'}\n",
      "{'boson_4_1': 'wN'}\n",
      "{'boson_4_2': 'wN'}\n",
      "{'boson_4_3': 'wN'}\n",
      "{'spin_0': 'Z', 'boson_0_0': 'gb+g*b^dagger'}\n",
      "{'spin_0': 'Z', 'boson_0_1': 'gb+g*b^dagger'}\n",
      "{'spin_0': 'Z', 'boson_0_2': 'gb+g*b^dagger'}\n",
      "{'spin_0': 'Z', 'boson_0_3': 'gb+g*b^dagger'}\n",
      "{'spin_1': 'Z', 'boson_1_0': 'gb+g*b^dagger'}\n",
      "{'spin_1': 'Z', 'boson_1_1': 'gb+g*b^dagger'}\n",
      "{'spin_1': 'Z', 'boson_1_2': 'gb+g*b^dagger'}\n",
      "{'spin_1': 'Z', 'boson_1_3': 'gb+g*b^dagger'}\n",
      "{'spin_2': 'Z', 'boson_2_0': 'gb+g*b^dagger'}\n",
      "{'spin_2': 'Z', 'boson_2_1': 'gb+g*b^dagger'}\n",
      "{'spin_2': 'Z', 'boson_2_2': 'gb+g*b^dagger'}\n",
      "{'spin_2': 'Z', 'boson_2_3': 'gb+g*b^dagger'}\n",
      "{'spin_3': 'Z', 'boson_3_0': 'gb+g*b^dagger'}\n",
      "{'spin_3': 'Z', 'boson_3_1': 'gb+g*b^dagger'}\n",
      "{'spin_3': 'Z', 'boson_3_2': 'gb+g*b^dagger'}\n",
      "{'spin_3': 'Z', 'boson_3_3': 'gb+g*b^dagger'}\n",
      "{'spin_4': 'Z', 'boson_4_0': 'gb+g*b^dagger'}\n",
      "{'spin_4': 'Z', 'boson_4_1': 'gb+g*b^dagger'}\n",
      "{'spin_4': 'Z', 'boson_4_2': 'gb+g*b^dagger'}\n",
      "{'spin_4': 'Z', 'boson_4_3': 'gb+g*b^dagger'}\n"
     ]
    }
   ],
   "source": [
    "num_spins = 5\n",
    "num_bosons_per_spin = 4\n",
    "hamiltonian = gen_hamiltonian(num_spins, num_bosons_per_spin)\n",
    "for term in hamiltonian.terms:\n",
    "    print(term)"
   ]
  },
  {
   "cell_type": "code",
   "execution_count": 13,
   "metadata": {},
   "outputs": [],
   "source": [
    "def gen_conversion_dict(boson_phys_dim, mJ, g, w):\n",
    "    paulis = [\"X\", \"Y\", \"Z\"]\n",
    "    pauli_ops = ptn.pauli_matrices()\n",
    "    b, bdagger, number_op = ptn.bosonic_operators(dimension=boson_phys_dim)\n",
    "    conversion_dict = {}\n",
    "    for i, operator in enumerate(pauli_ops):\n",
    "        conversion_dict[paulis[i]] = operator\n",
    "        conversion_dict[\"-J\" + paulis[i]] = mJ * operator\n",
    "    conversion_dict[\"wN\"] = w * number_op\n",
    "    conversion_dict[\"gb+g*b^dagger\"] = g* (b + bdagger)\n",
    "    conversion_dict[\"I2\"] = np.eye(2)\n",
    "    conversion_dict[\"I\" + str(boson_phys_dim)] = np.eye(3)\n",
    "    return conversion_dict"
   ]
  },
  {
   "cell_type": "code",
   "execution_count": 14,
   "metadata": {},
   "outputs": [
    {
     "data": {
      "text/plain": [
       "{'X': array([[0.+0.j, 1.+0.j],\n",
       "        [1.+0.j, 0.+0.j]]),\n",
       " '-JX': array([[-0. +0.j, -0.4+0.j],\n",
       "        [-0.4+0.j, -0. +0.j]]),\n",
       " 'Y': array([[ 0.+0.j, -0.-1.j],\n",
       "        [ 0.+1.j,  0.+0.j]]),\n",
       " '-JY': array([[-0.+0.j ,  0.+0.4j],\n",
       "        [-0.-0.4j, -0.+0.j ]]),\n",
       " 'Z': array([[ 1.+0.j,  0.+0.j],\n",
       "        [ 0.+0.j, -1.+0.j]]),\n",
       " '-JZ': array([[-0.4+0.j, -0. +0.j],\n",
       "        [-0. +0.j,  0.4-0.j]]),\n",
       " 'wN': array([[0. , 0. , 0. ],\n",
       "        [0. , 0.3, 0. ],\n",
       "        [0. , 0. , 0.6]]),\n",
       " 'gb+g*b^dagger': array([[0.        , 0.2       , 0.        ],\n",
       "        [0.2       , 0.        , 0.28284271],\n",
       "        [0.        , 0.28284271, 0.        ]]),\n",
       " 'I2': array([[1., 0.],\n",
       "        [0., 1.]]),\n",
       " 'I3': array([[1., 0., 0.],\n",
       "        [0., 1., 0.],\n",
       "        [0., 0., 1.]])}"
      ]
     },
     "execution_count": 14,
     "metadata": {},
     "output_type": "execute_result"
    }
   ],
   "source": [
    "boson_phys_dim = 3\n",
    "mJ = -0.4\n",
    "g = 0.2\n",
    "w = 0.3\n",
    "conversion_dict = gen_conversion_dict(boson_phys_dim, mJ, g, w)\n",
    "conversion_dict"
   ]
  },
  {
   "cell_type": "code",
   "execution_count": 15,
   "metadata": {},
   "outputs": [],
   "source": [
    "hamiltonian.conversion_dictionary = conversion_dict"
   ]
  },
  {
   "cell_type": "markdown",
   "metadata": {},
   "source": [
    "## Matrix Product Form"
   ]
  },
  {
   "cell_type": "code",
   "execution_count": 16,
   "metadata": {},
   "outputs": [],
   "source": [
    "def gen_mps(num_spins, num_bosons_per_spin, boson_phys_dim):\n",
    "    spin_tensor = ptn.crandn((3,3,2))\n",
    "    boson_tensor = ptn.crandn((3,3,boson_phys_dim))\n",
    "\n",
    "    mps = ptn.TreeTensorNetworkState()\n",
    "    mps.add_root(ptn.Node(identifier=\"spin_1\"), deepcopy(spin_tensor))\n",
    "    mps.add_child_to_parent(ptn.Node(identifier=\"boson_0_\" + str(num_bosons_per_spin-1)),\n",
    "                            deepcopy(boson_tensor), 0, \"spin_1\", 0)\n",
    "    mps.add_child_to_parent(ptn.Node(identifier=\"boson_1_0\"), deepcopy(boson_tensor),\n",
    "                            0, \"spin_1\", 1)\n",
    "    for b in reversed(range(0,num_bosons_per_spin-1)):\n",
    "        left_boson_id = \"boson_0_\" + str(b)\n",
    "        left_parent_id = \"boson_0_\" + str(b+1)\n",
    "        mps.add_child_to_parent(ptn.Node(identifier=left_boson_id),\n",
    "                                deepcopy(boson_tensor), 0, left_parent_id, 1)\n",
    "    for b in range(1,num_bosons_per_spin):\n",
    "        right_boson_id = \"boson_1_\" + str(b)\n",
    "        right_parent_id = \"boson_1_\" + str(b-1)\n",
    "        mps.add_child_to_parent(ptn.Node(identifier=right_boson_id),\n",
    "                                deepcopy(boson_tensor), 0, right_parent_id, 1)\n",
    "    mps.add_child_to_parent(ptn.Node(identifier=\"spin_0\"), deepcopy(spin_tensor[0,:]),\n",
    "                            0, \"boson_0_0\", 1)\n",
    "\n",
    "    for s in range(2,num_spins):\n",
    "        spin_identifier = \"spin_\" + str(s)\n",
    "        parent_identifier = \"boson_\" + str(s-1) + \"_\" + str(num_bosons_per_spin-1)\n",
    "        mps.add_child_to_parent(ptn.Node(identifier=spin_identifier),\n",
    "                                deepcopy(spin_tensor), 0, parent_identifier, 1)\n",
    "        for b in range(num_bosons_per_spin):\n",
    "            boson_identifier = \"boson_\" + str(s) + \"_\" + str(b)\n",
    "            if b == 0:\n",
    "                parent_identifier = spin_identifier\n",
    "            else:\n",
    "                parent_identifier = \"boson_\" + str(s) + \"_\" + str(b-1)\n",
    "            if s == num_spins-1 and b == num_bosons_per_spin-1:\n",
    "                tensor = deepcopy(boson_tensor[:,0,:])\n",
    "            else:\n",
    "                tensor = deepcopy(boson_tensor)\n",
    "            mps.add_child_to_parent(ptn.Node(identifier=boson_identifier),\n",
    "                                    tensor, 0, parent_identifier, 1)\n",
    "    return mps"
   ]
  },
  {
   "cell_type": "code",
   "execution_count": 17,
   "metadata": {},
   "outputs": [],
   "source": [
    "mps = gen_mps(num_spins, num_bosons_per_spin, boson_phys_dim)\n",
    "mpo_hamiltonian = hamiltonian.pad_with_identities(mps)"
   ]
  },
  {
   "cell_type": "markdown",
   "metadata": {},
   "source": [
    "## Fork Tree Product Form"
   ]
  },
  {
   "cell_type": "code",
   "execution_count": 18,
   "metadata": {},
   "outputs": [],
   "source": [
    "def gen_ftps(num_spins, num_bosons_per_spin, boson_phys_dim):\n",
    "    spin_tensor = ptn.crandn((3,3,3,2))\n",
    "    boson_tensor = ptn.crandn((3,3,boson_phys_dim))\n",
    "\n",
    "    ftps = ptn.ForkTreeTensorNetwork(main_identifier_prefix=\"spin_\",\n",
    "                                    subchain_identifier_prefix=\"boson_\")\n",
    "    for s in range(num_spins):\n",
    "        if s == 0:\n",
    "            tensor = deepcopy(spin_tensor[0,:])\n",
    "        elif s == num_spins-1:\n",
    "            tensor = deepcopy(spin_tensor[:,0,:])\n",
    "        else:\n",
    "            tensor = deepcopy(spin_tensor)\n",
    "        ftps.add_main_chain_node(tensor)\n",
    "    for s in range(num_spins):\n",
    "        for b in range(num_bosons_per_spin):\n",
    "            if b == num_bosons_per_spin-1:\n",
    "                tensor = deepcopy(boson_tensor[:,0,:])\n",
    "            else:\n",
    "                tensor = deepcopy(boson_tensor)\n",
    "            ftps.add_sub_chain_node(tensor, s)\n",
    "    return ftps"
   ]
  },
  {
   "cell_type": "code",
   "execution_count": 19,
   "metadata": {},
   "outputs": [],
   "source": [
    "ftps = gen_ftps(num_spins, num_bosons_per_spin, boson_phys_dim)\n",
    "ftpo_hamiltonian = hamiltonian.pad_with_identities(ftps)"
   ]
  },
  {
   "cell_type": "markdown",
   "metadata": {},
   "source": [
    "# Star Shape Tree"
   ]
  },
  {
   "cell_type": "code",
   "execution_count": 20,
   "metadata": {},
   "outputs": [],
   "source": [
    "def gen_sst(num_spins, num_bosons_per_spin, boson_phys_dim):\n",
    "    spin_shape = [3 for _ in range(num_bosons_per_spin + 2)]\n",
    "    spin_shape.append(2)\n",
    "    spin_tensor = ptn.crandn(tuple(spin_shape))\n",
    "    boson_tensor = ptn.crandn((3,boson_phys_dim))\n",
    "\n",
    "    sst = ptn.TreeTensorNetworkState()\n",
    "    sst.add_root(ptn.Node(identifier=\"spin_0\"), deepcopy(spin_tensor[0,:]))\n",
    "    for s in range(1,num_spins):\n",
    "        if s == num_spins - 1:\n",
    "            tensor = deepcopy(spin_tensor[0,:])\n",
    "        else:\n",
    "            tensor = deepcopy(spin_tensor)\n",
    "        if s == 1:\n",
    "            parent_leg = 0\n",
    "        else:\n",
    "            parent_leg = 1\n",
    "        identifier = \"spin_\" + str(s)\n",
    "        parent_identifier = \"spin_\" + str(s-1)\n",
    "        sst.add_child_to_parent(ptn.Node(identifier=identifier), tensor, 0,\n",
    "                                parent_identifier, parent_leg)\n",
    "    for s in range(num_spins):\n",
    "        for b in range(num_bosons_per_spin):\n",
    "            spin_id = \"spin_\" + str(s)\n",
    "            boson_id = \"boson_\" + str(s) + \"_\" + str(b)\n",
    "            tensor = deepcopy(boson_tensor)\n",
    "            if s == 0 or s == num_spins - 1:\n",
    "                parent_leg = 1 + b\n",
    "            else:\n",
    "                parent_leg = 2 + b\n",
    "            sst.add_child_to_parent(ptn.Node(identifier=boson_id), tensor, 0,\n",
    "                                    spin_id, parent_leg)\n",
    "    return sst"
   ]
  },
  {
   "cell_type": "code",
   "execution_count": 21,
   "metadata": {},
   "outputs": [],
   "source": [
    "sst = gen_sst(num_spins, num_bosons_per_spin, boson_phys_dim)\n",
    "sst_hamiltonian = hamiltonian.pad_with_identities(sst)"
   ]
  },
  {
   "cell_type": "markdown",
   "metadata": {},
   "source": [
    "## The Tree Tensor Network Operator"
   ]
  },
  {
   "cell_type": "code",
   "execution_count": 22,
   "metadata": {},
   "outputs": [],
   "source": [
    "mpo = ptn.TTNO.from_hamiltonian(mpo_hamiltonian, mps)\n",
    "ftpo = ptn.TTNO.from_hamiltonian(ftpo_hamiltonian, ftps)\n",
    "ssto = ptn.TTNO.from_hamiltonian(sst_hamiltonian, sst)"
   ]
  },
  {
   "cell_type": "code",
   "execution_count": 23,
   "metadata": {},
   "outputs": [
    {
     "name": "stdout",
     "output_type": "stream",
     "text": [
      "spin_0 (5,) (5, 3) (5, 3, 3, 3, 3)\n",
      "spin_1 (5, 6) (5, 5, 3) (5, 5, 3, 3, 3, 3)\n",
      "spin_2 (5, 6) (5, 5, 3) (5, 5, 3, 3, 3, 3)\n",
      "spin_3 (5, 6) (5, 5, 3) (5, 5, 3, 3, 3, 3)\n",
      "spin_4 (5, 3) (5, 3) (5, 3, 3, 3, 3)\n",
      "boson_4_0 (3, 3) (3, 3) (3,)\n",
      "boson_4_1 (3, 3) (3, 3) (3,)\n",
      "boson_4_2 (3, 3) (3, 3) (3,)\n",
      "boson_4_3 (3,) (3,) (3,)\n",
      "boson_3_0 (6, 6) (3, 3) (3,)\n",
      "boson_3_1 (6, 6) (3, 3) (3,)\n",
      "boson_3_2 (6, 6) (3, 3) (3,)\n",
      "boson_3_3 (6, 5) (3,) (3,)\n",
      "boson_2_0 (6, 6) (3, 3) (3,)\n",
      "boson_2_1 (6, 6) (3, 3) (3,)\n",
      "boson_2_2 (6, 6) (3, 3) (3,)\n",
      "boson_2_3 (6, 5) (3,) (3,)\n",
      "boson_1_0 (6, 6) (3, 3) (3,)\n",
      "boson_1_1 (6, 6) (3, 3) (3,)\n",
      "boson_1_2 (6, 6) (3, 3) (3,)\n",
      "boson_1_3 (6, 5) (3,) (3,)\n",
      "boson_0_0 (6, 5) (3, 3) (3,)\n",
      "boson_0_1 (6, 6) (3, 3) (3,)\n",
      "boson_0_2 (6, 6) (3, 3) (3,)\n",
      "boson_0_3 (5, 6) (3,) (3,)\n"
     ]
    }
   ],
   "source": [
    "for identifier, node in ftpo.nodes.items():\n",
    "    mpo_shape = mpo.nodes[identifier].shape[:-2]\n",
    "    ftpo_shape = node.shape[:-2]\n",
    "    ssto_shape = ssto.nodes[identifier].shape[:-2]\n",
    "    print(identifier, mpo_shape, ftpo_shape, ssto_shape)"
   ]
  },
  {
   "cell_type": "markdown",
   "metadata": {},
   "source": [
    "## Small Example to Check Equality\n",
    "The above size of the TTN will cause the generation of a very large tensor, if the operators are contracted.\n",
    "To check that the TTNO actually correspond to the Hamiltonians, we will use an example with fewer sites."
   ]
  },
  {
   "cell_type": "code",
   "execution_count": 24,
   "metadata": {},
   "outputs": [],
   "source": [
    "num_spins_small = 3\n",
    "num_bosons_per_spin_small = 2\n",
    "boson_phys_dim_small = 3\n",
    "mJ = -0.4\n",
    "g = 0.2\n",
    "w = 0.3\n",
    "\n",
    "hamiltonian_small = gen_hamiltonian(num_spins_small, num_bosons_per_spin_small)\n",
    "conversion_dict_small = gen_conversion_dict(boson_phys_dim_small, mJ, g, w)\n",
    "hamiltonian_small.conversion_dictionary = conversion_dict_small\n",
    "\n",
    "mps_small = gen_mps(num_spins_small, num_bosons_per_spin_small, boson_phys_dim_small)\n",
    "mpo_hamiltonian_small = hamiltonian_small.pad_with_identities(mps_small)\n",
    "\n",
    "ftps_small = gen_ftps(num_spins_small, num_bosons_per_spin_small, boson_phys_dim_small)\n",
    "ftpo_hamiltonian_small = hamiltonian_small.pad_with_identities(ftps_small)\n",
    "\n",
    "sst_small = gen_sst(num_spins_small, num_bosons_per_spin_small, boson_phys_dim_small)\n",
    "sst_hamiltonian_small = hamiltonian_small.pad_with_identities(sst_small)\n",
    "\n",
    "mpo_small = ptn.TTNO.from_hamiltonian(mpo_hamiltonian_small, mps_small)\n",
    "ftpo_small = ptn.TTNO.from_hamiltonian(ftpo_hamiltonian_small, ftps_small)\n",
    "ssto_small = ptn.TTNO.from_hamiltonian(sst_hamiltonian_small, sst_small)"
   ]
  },
  {
   "cell_type": "code",
   "execution_count": 25,
   "metadata": {},
   "outputs": [
    {
     "data": {
      "text/plain": [
       "True"
      ]
     },
     "execution_count": 25,
     "metadata": {},
     "output_type": "execute_result"
    }
   ],
   "source": [
    "ham_tensor = mpo_hamiltonian_small.to_tensor(mps_small).operator\n",
    "from_ttno = mpo_small.completely_contract_tree(to_copy=True).root[1]\n",
    "permutation_for_transpose = (0,9,1,10,3,12,5,14,2,11,4,13,6,15,7,16,8,17)\n",
    "np.allclose(from_ttno, ham_tensor.transpose(permutation_for_transpose))"
   ]
  },
  {
   "cell_type": "code",
   "execution_count": 26,
   "metadata": {},
   "outputs": [
    {
     "data": {
      "text/plain": [
       "True"
      ]
     },
     "execution_count": 26,
     "metadata": {},
     "output_type": "execute_result"
    }
   ],
   "source": [
    "ham_tensor = ftpo_hamiltonian_small.to_tensor(ftps_small).operator\n",
    "from_ttno = ftpo_small.completely_contract_tree(to_copy=True).root[1]\n",
    "permutation_for_transpose = (0,9,1,10,2,11,7,16,8,17,5,14,6,15,3,12,4,13)\n",
    "np.allclose(from_ttno, ham_tensor.transpose(permutation_for_transpose))"
   ]
  },
  {
   "cell_type": "code",
   "execution_count": 27,
   "metadata": {},
   "outputs": [
    {
     "data": {
      "text/plain": [
       "True"
      ]
     },
     "execution_count": 27,
     "metadata": {},
     "output_type": "execute_result"
    }
   ],
   "source": [
    "ham_tensor = sst_hamiltonian_small.to_tensor(sst_small).operator\n",
    "from_ttno = ssto_small.completely_contract_tree(to_copy=True).root[1]\n",
    "permutation_for_transpose = (0,9,1,10,2,11,7,16,8,17,5,14,6,15,3,12,4,13)\n",
    "np.allclose(from_ttno, ham_tensor.transpose(permutation_for_transpose))"
   ]
  },
  {
   "cell_type": "code",
   "execution_count": null,
   "metadata": {},
   "outputs": [],
   "source": []
  }
 ],
 "metadata": {
  "kernelspec": {
   "display_name": ".venv",
   "language": "python",
   "name": "python3"
  },
  "language_info": {
   "codemirror_mode": {
    "name": "ipython",
    "version": 3
   },
   "file_extension": ".py",
   "mimetype": "text/x-python",
   "name": "python",
   "nbconvert_exporter": "python",
   "pygments_lexer": "ipython3",
   "version": "3.8.10"
  }
 },
 "nbformat": 4,
 "nbformat_minor": 2
}
