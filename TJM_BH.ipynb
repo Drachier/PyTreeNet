{
 "cells": [
  {
   "cell_type": "code",
   "execution_count": 40,
   "metadata": {},
   "outputs": [],
   "source": [
    "import pytreenet as ptn\n",
    "import numpy as np\n",
    "from pytreenet.time_evolution.tdvp_algorithms.TJM import normalize_ttn\n",
    "from pytreenet.time_evolution.tdvp_algorithms import GSE_TJM_TDVP"
   ]
  },
  {
   "cell_type": "markdown",
   "metadata": {},
   "source": [
    "# Initial state"
   ]
  },
  {
   "cell_type": "code",
   "execution_count": 41,
   "metadata": {},
   "outputs": [
    {
     "data": {
      "image/png": "[encoded data removed]",
      "text/plain": [
       "<Figure size 300x300 with 1 Axes>"
      ]
     },
     "metadata": {},
     "output_type": "display_data"
    }
   ],
   "source": [
    "import pickle\n",
    "# Load the Pickle file\n",
    "with open('tdvp_profiling_data_3.pkl', 'rb') as f:\n",
    "    profiling_data = pickle.load(f)\n",
    "\n",
    "# Extract profiling details from the loaded data\n",
    "profiling_details = profiling_data['profiling_details']\n",
    "\n",
    "config_id = 'Config 189'\n",
    "bond_dim = 4\n",
    "ttn = profiling_details[config_id]['Spanning_tree']\n",
    "\n",
    "black_state = np.array([-1+2j , 1j])\n",
    "white_state = np.array([1 , -2j])\n",
    "ttn = ptn.alternating_product_state(ttn, black_state, white_state, bond_dim,  pattern = \"checkerboard\")\n",
    "local_tensor = np.array([0 , 1])\n",
    "ttn = ptn.uniform_product_state(ttn,local_state=local_tensor, bond_dim = bond_dim)\n",
    "\n",
    "\n",
    "ptn.Visualize_tree(profiling_details[config_id]['tree_dict'],4)"
   ]
  },
  {
   "cell_type": "markdown",
   "metadata": {},
   "source": [
    "# Hamiltonian and operators"
   ]
  },
  {
   "cell_type": "code",
   "execution_count": 42,
   "metadata": {},
   "outputs": [],
   "source": [
    "def T(t,Lx, Ly , d):\n",
    "    creation_op, annihilation_op, number_op = ptn.bosonic_operators(dimension=d)\n",
    "    \n",
    "    conversion_dict = {\n",
    "        \"b^dagger\": creation_op,\n",
    "        \"b\": annihilation_op,\n",
    "        \"n\": number_op,\n",
    "        f\"I{d}\": np.eye(d)\n",
    "    }\n",
    "    \n",
    "    conversion_dict.update({\n",
    "        \"-t * b^dagger\": -t * creation_op,\n",
    "        \"-t * b\": -t * annihilation_op })\n",
    "    \n",
    "    terms = []\n",
    "\n",
    "    # Hopping terms\n",
    "    for x in range(Lx):\n",
    "        for y in range(Ly):\n",
    "            current_site = f\"Site({x},{y})\"\n",
    "            \n",
    "            # Horizontal connections\n",
    "            if x < Lx - 1:\n",
    "                right_neighbor = f\"Site({x+1},{y})\"\n",
    "                terms.append(ptn.TensorProduct({current_site: \"-t * b^dagger\", right_neighbor: \"b\"}))\n",
    "                terms.append(ptn.TensorProduct({current_site: \"-t * b\", right_neighbor: \"b^dagger\"}))\n",
    "            \n",
    "            # Vertical connections\n",
    "            if y < Ly - 1:\n",
    "                up_neighbor = f\"Site({x},{y+1})\"\n",
    "                terms.append(ptn.TensorProduct({current_site: \"-t * b^dagger\", up_neighbor: \"b\"}))\n",
    "                terms.append(ptn.TensorProduct({current_site: \"-t * b\", up_neighbor: \"b^dagger\"}))\n",
    "\n",
    "    \n",
    "    return ptn.Hamiltonian(terms, conversion_dict)\n",
    "\n",
    "\n",
    "def V(U, Lx, Ly , d):\n",
    "    creation_op, annihilation_op, number_op = ptn.bosonic_operators(dimension=d)\n",
    "    \n",
    "    conversion_dict = {\n",
    "        \"n\": number_op,\n",
    "        f\"I{d}\": np.eye(d),\n",
    "        \"U * n * (n - 1)\": U * number_op \n",
    "    }\n",
    "\n",
    "    terms = []\n",
    "    \n",
    "    # On-site interaction terms\n",
    "    for x in range(Lx):\n",
    "        for y in range(Ly):\n",
    "            current_site = f\"Site({x},{y})\"\n",
    "            terms.append(ptn.TensorProduct({current_site: \"U * n * (n - 1)\"}))\n",
    "    \n",
    "    return ptn.Hamiltonian(terms, conversion_dict)\n"
   ]
  },
  {
   "cell_type": "code",
   "execution_count": 43,
   "metadata": {},
   "outputs": [],
   "source": [
    "Lx = 4\n",
    "Ly = 4\n",
    "t = 1\n",
    "U = 0.1\n",
    "d = 2\n",
    "\n",
    "H1 = ptn.BoseHubbard_ham(t, U, Lx, Ly , d)\n",
    "H1 = H1.pad_with_identities(ttn , symbolic= True)\n",
    "ttno = ptn.TTNO.from_hamiltonian(H1, ttn)\n",
    "\n",
    "operators = {}\n",
    "number_op = ptn.bosonic_operators(d)[2]\n",
    "\n",
    "for node_id in ttn.nodes.keys():\n",
    "    operators[node_id] = ptn.TensorProduct({node_id: number_op})\n",
    "\n",
    "N = ptn.Number_op_total(Lx, Ly, d)\n",
    "N = N.pad_with_identities(ttn, symbolic= True)\n",
    "N = ptn.TTNO.from_hamiltonian(N, ttn)\n",
    "\n",
    "H1 = T(t, Lx, Ly , d)\n",
    "H1 = H1.pad_with_identities(ttn , symbolic= True)\n",
    "T = ptn.TTNO.from_hamiltonian(H1, ttn)\n",
    "\n",
    "H1 = V(U, Lx, Ly , d)\n",
    "H1 = H1.pad_with_identities(ttn , symbolic= True)\n",
    "V = ptn.TTNO.from_hamiltonian(H1, ttn)\n",
    "\n",
    "operators[\"T\"] = {\"T\" : T}\n",
    "operators[\"V\"] = {\"V\" : V}\n",
    "\n",
    "operators[\"E\"] = {\"E\" : ttno}\n",
    "operators[\"N\"] = {\"N\" : N}\n",
    "\n"
   ]
  },
  {
   "cell_type": "markdown",
   "metadata": {},
   "source": [
    "# Noise model"
   ]
  },
  {
   "cell_type": "code",
   "execution_count": 44,
   "metadata": {},
   "outputs": [
    {
     "name": "stdout",
     "output_type": "stream",
     "text": [
      "['relaxation', 'dephasing']\n",
      "[array([[0., 1.],\n",
      "       [0., 0.]]), array([[ 1,  0],\n",
      "       [ 0, -1]])]\n",
      "[0.1, 0.1]\n"
     ]
    }
   ],
   "source": [
    "from pytreenet.time_evolution.tdvp_algorithms.TJM import NoiseModel\n",
    "# Define the noise model\n",
    "gamma = 0.1\n",
    "noise_model = NoiseModel(['relaxation', 'dephasing'], [gamma , gamma])\n",
    "print(noise_model.processes)\n",
    "print(noise_model.jump_operators)\n",
    "print(noise_model.strengths)"
   ]
  },
  {
   "cell_type": "markdown",
   "metadata": {},
   "source": [
    "# GSE-TJM-TDVP"
   ]
  },
  {
   "cell_type": "code",
   "execution_count": 45,
   "metadata": {},
   "outputs": [],
   "source": [
    "expaction_params = {\"mode\" : \"Krylov\", # \"Krylov\" or \"Taylor\"\n",
    "                    \"size_threshold\" : 500, # no higher approximation in default\n",
    "                    # \"Krylov\" parameters\n",
    "                    \"Krylov_tol\"  : 1e-5,\n",
    "                    \"krylov_dim\"   : 5,\n",
    "                    # \"Taylor\" parameters\n",
    "                    \"Taylor_num_terms\"  : 3}\n",
    "expansion_params = {\"ExpansionMode\": ptn.ExpansionMode.TTN,\n",
    "                    \"num_vecs\": 3, \n",
    "                    \"tau\": 0.01,\n",
    "                    \"SVDParameters\": ptn.SVDParameters(max_bond_dim = np.inf , rel_tol= 1e-3 , total_tol = -np.inf),\n",
    "                    \"expansion_steps\" : 20,\n",
    "                    \"tol\": 0.5,\n",
    "                    \"tol_step_increase\": 0.08,\n",
    "                    \"tol_step_decrease\": 0.03,\n",
    "                    \"num_second_trial\" : 10,\n",
    "                    \"max_bond\": 200,\n",
    "                    \"rel_tot_bond\": (20,40),}\n",
    "\n",
    "config= ptn.TTNTimeEvolutionConfig(record_bond_dim = True,\n",
    "                                   ExpAction_params= expaction_params,\n",
    "                                   Expansion_params = expansion_params) \n",
    "\n",
    "ttn = normalize_ttn(ttn)\n",
    "tdvp_tjm = GSE_TJM_TDVP(initial_state = ttn,\n",
    "                        hamiltonian = ttno,\n",
    "                        time_step_size = 0.1,\n",
    "                        final_time = 3,\n",
    "                        operators = operators,\n",
    "                        N = 20,\n",
    "                        noise_model = noise_model,\n",
    "                        config = config)"
   ]
  },
  {
   "cell_type": "code",
   "execution_count": 46,
   "metadata": {},
   "outputs": [
    {
     "ename": "NameError",
     "evalue": "name 'stop' is not defined",
     "output_type": "error",
     "traceback": [
      "\u001b[1;31m---------------------------------------------------------------------------\u001b[0m",
      "\u001b[1;31mNameError\u001b[0m                                 Traceback (most recent call last)",
      "Cell \u001b[1;32mIn[46], line 1\u001b[0m\n\u001b[1;32m----> 1\u001b[0m \u001b[43mstop\u001b[49m\n",
      "\u001b[1;31mNameError\u001b[0m: name 'stop' is not defined"
     ]
    }
   ],
   "source": [
    "stop"
   ]
  },
  {
   "cell_type": "code",
   "execution_count": 29,
   "metadata": {},
   "outputs": [],
   "source": [
    "black_state = np.array([-1+2j , 1j])\n",
    "white_state = np.array([1 , -2j])\n",
    "ttn = ptn.alternating_product_state(ttn, black_state, white_state, bond_dim,  pattern = \"checkerboard\")\n",
    "local_tensor = np.array([0 , 1])\n",
    "ttn = ptn.uniform_product_state(ttn,local_state=local_tensor, bond_dim = bond_dim)\n",
    "ttn = normalize_ttn(ttn)"
   ]
  },
  {
   "cell_type": "code",
   "execution_count": 39,
   "metadata": {},
   "outputs": [
    {
     "data": {
      "text/plain": [
       "((1.6000000000000003+0j), (16+0j))"
      ]
     },
     "execution_count": 39,
     "metadata": {},
     "output_type": "execute_result"
    }
   ],
   "source": [
    "operators = {k: v for d in tdvp_tjm.operators for k, v in d.items()}\n",
    "ptn.expectation_value(ttn ,operators[\"E\"]) , ttn.operator_expectation_value(operators[\"N\"])"
   ]
  },
  {
   "cell_type": "code",
   "execution_count": 409,
   "metadata": {},
   "outputs": [
    {
     "data": {
      "text/plain": [
       "0j"
      ]
     },
     "execution_count": 409,
     "metadata": {},
     "output_type": "execute_result"
    }
   ],
   "source": [
    "op = number_op @ (number_op - np.eye(d))\n",
    "ttn.operator_expectation_value(ptn.TensorProduct({\"Site(0,0)\": op}))"
   ]
  },
  {
   "cell_type": "code",
   "execution_count": 412,
   "metadata": {},
   "outputs": [
    {
     "data": {
      "text/plain": [
       "array([[0., 0.],\n",
       "       [0., 1.]])"
      ]
     },
     "execution_count": 412,
     "metadata": {},
     "output_type": "execute_result"
    }
   ],
   "source": [
    "number_op"
   ]
  },
  {
   "cell_type": "code",
   "execution_count": 398,
   "metadata": {},
   "outputs": [
    {
     "data": {
      "text/plain": [
       "<pytreenet.ttno.ttno_class.TreeTensorNetworkOperator at 0x1ce6de788f0>"
      ]
     },
     "execution_count": 398,
     "metadata": {},
     "output_type": "execute_result"
    }
   ],
   "source": [
    "operators[\"N\"]"
   ]
  },
  {
   "cell_type": "code",
   "execution_count": 45,
   "metadata": {},
   "outputs": [
    {
     "name": "stderr",
     "output_type": "stream",
     "text": [
      "Time steps:  13%|███▋                        | 134/1020 [00:37<01:49,  8.08it/s]"
     ]
    },
    {
     "name": "stdout",
     "output_type": "stream",
     "text": [
      "Initial tol: 0.5\n"
     ]
    },
    {
     "name": "stderr",
     "output_type": "stream",
     "text": [
      "Time steps:  14%|███▊                        | 139/1020 [00:38<01:22, 10.69it/s]"
     ]
    },
    {
     "name": "stdout",
     "output_type": "stream",
     "text": [
      "Acceptable expansion found in initial attempt: 25\n",
      "Final expanded_dim: 25 : 63 ---> 88\n"
     ]
    },
    {
     "name": "stderr",
     "output_type": "stream",
     "text": [
      "Time steps:  14%|███▉                        | 143/1020 [00:38<01:41,  8.65it/s]"
     ]
    },
    {
     "name": "stdout",
     "output_type": "stream",
     "text": [
      "Initial tol: 0.5\n",
      "Initial tol: 0.5\n"
     ]
    },
    {
     "name": "stderr",
     "output_type": "stream",
     "text": [
      "Time steps:  14%|███▉                        | 144/1020 [00:39<01:41,  8.65it/s]"
     ]
    },
    {
     "name": "stdout",
     "output_type": "stream",
     "text": [
      "Initial tol: 0.5\n"
     ]
    },
    {
     "name": "stderr",
     "output_type": "stream",
     "text": [
      "Time steps:  14%|███▉                        | 145/1020 [00:39<02:03,  7.07it/s]"
     ]
    },
    {
     "name": "stdout",
     "output_type": "stream",
     "text": [
      "Initial tol: 0.5\n",
      "Phase 2 - Trial 1:\n",
      "Decreasing tol: 0.47\n"
     ]
    },
    {
     "name": "stderr",
     "output_type": "stream",
     "text": [
      "Time steps:  14%|████                        | 147/1020 [00:39<02:15,  6.44it/s]"
     ]
    },
    {
     "name": "stdout",
     "output_type": "stream",
     "text": [
      "Initial tol: 0.5\n",
      "Initial tol: 0.5\n"
     ]
    },
    {
     "name": "stderr",
     "output_type": "stream",
     "text": [
      "Time steps:  14%|████                        | 147/1020 [00:39<02:15,  6.44it/s]"
     ]
    },
    {
     "name": "stdout",
     "output_type": "stream",
     "text": [
      "Acceptable expansion found in initial attempt: 26\n",
      "Final expanded_dim: 26 : 63 ---> 89\n",
      "Expanded_dim_tot: -29\n",
      "Phase 2 - Trial 2:\n",
      "Decreasing tol: 0.43999999999999995\n"
     ]
    },
    {
     "name": "stderr",
     "output_type": "stream",
     "text": [
      "Time steps:  15%|████                        | 148/1020 [00:40<03:30,  4.15it/s]"
     ]
    },
    {
     "name": "stdout",
     "output_type": "stream",
     "text": [
      "Acceptable expansion found in initial attempt: 21\n",
      "Final expanded_dim: 21 : 63 ---> 84\n"
     ]
    },
    {
     "name": "stderr",
     "output_type": "stream",
     "text": [
      "Time steps:  15%|████                        | 148/1020 [00:40<03:30,  4.15it/s]"
     ]
    },
    {
     "name": "stdout",
     "output_type": "stream",
     "text": [
      "Expanded_dim_tot: -21\n",
      "Phase 2 - Trial 3:\n",
      "Decreasing tol: 0.4099999999999999\n"
     ]
    },
    {
     "name": "stderr",
     "output_type": "stream",
     "text": [
      "Time steps:  15%|████                        | 148/1020 [00:41<03:30,  4.15it/s]"
     ]
    },
    {
     "name": "stdout",
     "output_type": "stream",
     "text": [
      "Acceptable expansion found in initial attempt: 23\n",
      "Final expanded_dim: 23 : 63 ---> 86\n",
      "Acceptable expansion found in initial attempt: 23\n",
      "Final expanded_dim: 23 : 63 ---> 86\n"
     ]
    },
    {
     "name": "stderr",
     "output_type": "stream",
     "text": [
      "Time steps:  15%|████                        | 148/1020 [00:41<03:30,  4.15it/s]"
     ]
    },
    {
     "name": "stdout",
     "output_type": "stream",
     "text": [
      "Expanded_dim_tot: -23\n",
      "Phase 2 - Trial 4:\n",
      "Decreasing tol: 0.3799999999999999\n",
      "Acceptable expansion found in initial attempt: 29\n",
      "Final expanded_dim: 29 : 63 ---> 92\n"
     ]
    },
    {
     "name": "stderr",
     "output_type": "stream",
     "text": [
      "Time steps:  15%|████                        | 149/1020 [00:41<06:00,  2.41it/s]"
     ]
    },
    {
     "name": "stdout",
     "output_type": "stream",
     "text": [
      "Expanded_dim_tot: -27\n",
      "Phase 2 - Trial 5:\n",
      "Decreasing tol: 0.34999999999999987\n"
     ]
    },
    {
     "name": "stderr",
     "output_type": "stream",
     "text": [
      "Time steps:  15%|████▏                       | 151/1020 [00:42<05:04,  2.86it/s]"
     ]
    },
    {
     "name": "stdout",
     "output_type": "stream",
     "text": [
      "Expanded_dim_tot: -23\n",
      "Phase 2 - Trial 6:\n",
      "Decreasing tol: 0.31999999999999984\n"
     ]
    },
    {
     "name": "stderr",
     "output_type": "stream",
     "text": [
      "Time steps:  15%|████▏                       | 154/1020 [00:42<03:42,  3.89it/s]"
     ]
    },
    {
     "name": "stdout",
     "output_type": "stream",
     "text": [
      "Expanded_dim_tot: -18\n",
      "Phase 2 - Trial 7:\n",
      "Decreasing tol: 0.2899999999999998\n"
     ]
    },
    {
     "name": "stderr",
     "output_type": "stream",
     "text": [
      "Time steps:  15%|████▎                       | 155/1020 [00:43<03:14,  4.45it/s]"
     ]
    },
    {
     "name": "stdout",
     "output_type": "stream",
     "text": [
      "Expanded_dim_tot: -19\n",
      "Phase 2 - Trial 8:\n",
      "Decreasing tol: 0.2599999999999998\n"
     ]
    },
    {
     "name": "stderr",
     "output_type": "stream",
     "text": [
      "Time steps:  15%|████▎                       | 157/1020 [00:43<04:26,  3.24it/s]"
     ]
    },
    {
     "name": "stdout",
     "output_type": "stream",
     "text": [
      "Expanded_dim_tot: -23\n",
      "Phase 2 - Trial 9:\n",
      "Decreasing tol: 0.2299999999999998\n"
     ]
    },
    {
     "name": "stderr",
     "output_type": "stream",
     "text": [
      "Time steps:  16%|████▎                       | 159/1020 [00:44<03:41,  3.89it/s]"
     ]
    },
    {
     "name": "stdout",
     "output_type": "stream",
     "text": [
      "Expanded_dim_tot: -15\n",
      "Phase 2 - Trial 10:\n",
      "Decreasing tol: 0.1999999999999998\n"
     ]
    },
    {
     "name": "stderr",
     "output_type": "stream",
     "text": [
      "Time steps:  16%|████▍                       | 161/1020 [00:45<04:46,  3.00it/s]"
     ]
    },
    {
     "name": "stdout",
     "output_type": "stream",
     "text": [
      "Expanded_dim_tot: -27\n",
      "Exceeded maximum trials in Phase 2 without acceptable expansion\n",
      "Final expanded_dim: 0 : 63 ---> 63\n"
     ]
    },
    {
     "name": "stderr",
     "output_type": "stream",
     "text": [
      "Time steps:  25%|██████▉                     | 254/1020 [01:00<02:52,  4.44it/s]"
     ]
    },
    {
     "name": "stdout",
     "output_type": "stream",
     "text": [
      "Initial tol: 0.1699999999999998\n"
     ]
    },
    {
     "name": "stderr",
     "output_type": "stream",
     "text": [
      "Time steps:  25%|███████▏                    | 260/1020 [01:01<02:38,  4.81it/s]"
     ]
    },
    {
     "name": "stdout",
     "output_type": "stream",
     "text": [
      "Acceptable expansion found in initial attempt: 28\n",
      "Final expanded_dim: 28 : 63 ---> 91\n"
     ]
    },
    {
     "name": "stderr",
     "output_type": "stream",
     "text": [
      "Time steps:  28%|███████▋                    | 281/1020 [01:04<01:40,  7.36it/s]"
     ]
    },
    {
     "name": "stdout",
     "output_type": "stream",
     "text": [
      "Initial tol: 0.5\n",
      "Initial tol: 0.5\n"
     ]
    },
    {
     "name": "stderr",
     "output_type": "stream",
     "text": [
      "Time steps:  28%|███████▊                    | 283/1020 [01:05<01:38,  7.46it/s]"
     ]
    },
    {
     "name": "stdout",
     "output_type": "stream",
     "text": [
      "Initial tol: 0.5\n"
     ]
    },
    {
     "name": "stderr",
     "output_type": "stream",
     "text": [
      "Time steps:  28%|███████▊                    | 284/1020 [01:05<02:29,  4.92it/s]"
     ]
    },
    {
     "name": "stdout",
     "output_type": "stream",
     "text": [
      "Acceptable expansion found in initial attempt: 24\n",
      "Final expanded_dim: 24 : 82 ---> 106\n"
     ]
    },
    {
     "name": "stderr",
     "output_type": "stream",
     "text": [
      "Time steps:  28%|███████▉                    | 287/1020 [01:06<02:36,  4.70it/s]"
     ]
    },
    {
     "name": "stdout",
     "output_type": "stream",
     "text": [
      "Initial tol: 0.5\n",
      "Acceptable expansion found in initial attempt: 24\n",
      "Final expanded_dim: 24 : 84 ---> 108\n",
      "Initial tol: 0.5\n"
     ]
    },
    {
     "name": "stderr",
     "output_type": "stream",
     "text": [
      "Time steps:  28%|███████▉                    | 288/1020 [01:06<03:26,  3.54it/s]"
     ]
    },
    {
     "name": "stdout",
     "output_type": "stream",
     "text": [
      "Acceptable expansion found in initial attempt: 27\n",
      "Final expanded_dim: 27 : 82 ---> 109\n"
     ]
    },
    {
     "name": "stderr",
     "output_type": "stream",
     "text": [
      "Time steps:  29%|████████                    | 292/1020 [01:08<04:48,  2.52it/s]"
     ]
    },
    {
     "name": "stdout",
     "output_type": "stream",
     "text": [
      "Acceptable expansion found in initial attempt: 21\n",
      "Final expanded_dim: 21 : 84 ---> 105\n"
     ]
    },
    {
     "name": "stderr",
     "output_type": "stream",
     "text": [
      "Time steps:  29%|████████                    | 294/1020 [01:09<03:42,  3.27it/s]"
     ]
    },
    {
     "name": "stdout",
     "output_type": "stream",
     "text": [
      "Acceptable expansion found in initial attempt: 21\n",
      "Final expanded_dim: 21 : 85 ---> 106\n"
     ]
    },
    {
     "name": "stderr",
     "output_type": "stream",
     "text": [
      "Time steps:  29%|████████▏                   | 300/1020 [01:10<04:13,  2.84it/s]"
     ]
    },
    {
     "name": "stdout",
     "output_type": "stream",
     "text": [
      "Initial tol: 0.5\n"
     ]
    },
    {
     "name": "stderr",
     "output_type": "stream",
     "text": [
      "Time steps:  30%|████████▌                   | 311/1020 [01:13<02:53,  4.09it/s]"
     ]
    },
    {
     "name": "stdout",
     "output_type": "stream",
     "text": [
      "Acceptable expansion found in initial attempt: 28\n",
      "Final expanded_dim: 28 : 89 ---> 117\n"
     ]
    },
    {
     "name": "stderr",
     "output_type": "stream",
     "text": [
      "Time steps:  41%|███████████▌                | 421/1020 [01:30<01:06,  9.05it/s]"
     ]
    },
    {
     "name": "stdout",
     "output_type": "stream",
     "text": [
      "Initial tol: 0.5\n"
     ]
    },
    {
     "name": "stderr",
     "output_type": "stream",
     "text": [
      "Time steps:  42%|███████████▋                | 427/1020 [01:31<01:10,  8.35it/s]"
     ]
    },
    {
     "name": "stdout",
     "output_type": "stream",
     "text": [
      "Acceptable expansion found in initial attempt: 26\n",
      "Final expanded_dim: 26 : 63 ---> 89\n"
     ]
    },
    {
     "name": "stderr",
     "output_type": "stream",
     "text": [
      "Time steps:  47%|█████████████▎              | 484/1020 [01:36<00:51, 10.51it/s]"
     ]
    },
    {
     "name": "stdout",
     "output_type": "stream",
     "text": [
      "Initial tol: 0.5\n"
     ]
    },
    {
     "name": "stderr",
     "output_type": "stream",
     "text": [
      "Time steps:  48%|█████████████▎              | 487/1020 [01:37<00:48, 10.94it/s]"
     ]
    },
    {
     "name": "stdout",
     "output_type": "stream",
     "text": [
      "Initial tol: 0.5\n",
      "Acceptable expansion found in initial attempt: 24\n",
      "Final expanded_dim: 24 : 63 ---> 87\n"
     ]
    },
    {
     "name": "stderr",
     "output_type": "stream",
     "text": [
      "Time steps:  48%|█████████████▍              | 490/1020 [01:37<00:59,  8.97it/s]"
     ]
    },
    {
     "name": "stdout",
     "output_type": "stream",
     "text": [
      "Initial tol: 0.5\n",
      "Acceptable expansion found in initial attempt: 24\n",
      "Final expanded_dim: 24 : 63 ---> 87\n"
     ]
    },
    {
     "name": "stderr",
     "output_type": "stream",
     "text": [
      "Time steps:  49%|█████████████▌              | 495/1020 [01:38<01:03,  8.25it/s]"
     ]
    },
    {
     "name": "stdout",
     "output_type": "stream",
     "text": [
      "Acceptable expansion found in initial attempt: 21\n",
      "Final expanded_dim: 21 : 63 ---> 84\n"
     ]
    },
    {
     "name": "stderr",
     "output_type": "stream",
     "text": [
      "Time steps:  50%|█████████████▊              | 505/1020 [01:39<00:47, 10.86it/s]"
     ]
    },
    {
     "name": "stdout",
     "output_type": "stream",
     "text": [
      "Initial tol: 0.5\n"
     ]
    },
    {
     "name": "stderr",
     "output_type": "stream",
     "text": [
      "Time steps:  50%|██████████████              | 512/1020 [01:40<00:57,  8.85it/s]"
     ]
    },
    {
     "name": "stdout",
     "output_type": "stream",
     "text": [
      "Phase 2 - Trial 1:\n",
      "Decreasing tol: 0.47\n",
      "Initial tol: 0.5\n"
     ]
    },
    {
     "name": "stderr",
     "output_type": "stream",
     "text": [
      "Time steps:  50%|██████████████▏             | 515/1020 [01:40<01:13,  6.87it/s]"
     ]
    },
    {
     "name": "stdout",
     "output_type": "stream",
     "text": [
      "Acceptable expansion found in initial attempt: 21\n",
      "Final expanded_dim: 21 : 63 ---> 84\n",
      "Expanded_dim_tot: -24\n",
      "Phase 2 - Trial 2:\n",
      "Decreasing tol: 0.43999999999999995\n"
     ]
    },
    {
     "name": "stderr",
     "output_type": "stream",
     "text": [
      "Time steps:  51%|██████████████▏             | 519/1020 [01:41<01:27,  5.72it/s]"
     ]
    },
    {
     "name": "stdout",
     "output_type": "stream",
     "text": [
      "Expanded_dim_tot: -29\n",
      "Phase 2 - Trial 3:\n",
      "Decreasing tol: 0.4099999999999999\n"
     ]
    },
    {
     "name": "stderr",
     "output_type": "stream",
     "text": [
      "Time steps:  51%|██████████████▍             | 524/1020 [01:42<01:13,  6.73it/s]"
     ]
    },
    {
     "name": "stdout",
     "output_type": "stream",
     "text": [
      "Expanded_dim_tot: -30\n",
      "Phase 2 - Trial 4:\n",
      "Decreasing tol: 0.3799999999999999\n"
     ]
    },
    {
     "name": "stderr",
     "output_type": "stream",
     "text": [
      "Time steps:  52%|██████████████▍             | 528/1020 [01:42<01:12,  6.78it/s]"
     ]
    },
    {
     "name": "stdout",
     "output_type": "stream",
     "text": [
      "Expanded_dim_tot: -32\n",
      "Phase 2 - Trial 5:\n",
      "Decreasing tol: 0.34999999999999987\n"
     ]
    },
    {
     "name": "stderr",
     "output_type": "stream",
     "text": [
      "Time steps:  52%|██████████████▌             | 531/1020 [01:43<01:22,  5.89it/s]"
     ]
    },
    {
     "name": "stdout",
     "output_type": "stream",
     "text": [
      "Expanded_dim_tot: -29\n",
      "Phase 2 - Trial 6:\n",
      "Decreasing tol: 0.31999999999999984\n"
     ]
    },
    {
     "name": "stderr",
     "output_type": "stream",
     "text": [
      "Time steps:  53%|██████████████▋             | 537/1020 [01:44<01:03,  7.66it/s]"
     ]
    },
    {
     "name": "stdout",
     "output_type": "stream",
     "text": [
      "Expanded_dim_tot: -30\n",
      "Phase 2 - Trial 7:\n",
      "Decreasing tol: 0.2899999999999998\n"
     ]
    },
    {
     "name": "stderr",
     "output_type": "stream",
     "text": [
      "Time steps:  53%|██████████████▊             | 541/1020 [01:45<01:34,  5.04it/s]"
     ]
    },
    {
     "name": "stdout",
     "output_type": "stream",
     "text": [
      "Expanded_dim_tot: -28\n",
      "Phase 2 - Trial 8:\n",
      "Decreasing tol: 0.2599999999999998\n"
     ]
    },
    {
     "name": "stderr",
     "output_type": "stream",
     "text": [
      "Time steps:  53%|██████████████▉             | 545/1020 [01:45<01:11,  6.67it/s]"
     ]
    },
    {
     "name": "stdout",
     "output_type": "stream",
     "text": [
      "Expanded_dim_tot: -27\n",
      "Phase 2 - Trial 9:\n",
      "Decreasing tol: 0.2299999999999998\n"
     ]
    },
    {
     "name": "stderr",
     "output_type": "stream",
     "text": [
      "Time steps:  54%|███████████████             | 548/1020 [01:46<01:26,  5.45it/s]"
     ]
    },
    {
     "name": "stdout",
     "output_type": "stream",
     "text": [
      "Expanded_dim_tot: -26\n",
      "Phase 2 - Trial 10:\n",
      "Decreasing tol: 0.1999999999999998\n"
     ]
    },
    {
     "name": "stderr",
     "output_type": "stream",
     "text": [
      "Time steps:  54%|███████████████▏            | 552/1020 [01:46<01:14,  6.27it/s]"
     ]
    },
    {
     "name": "stdout",
     "output_type": "stream",
     "text": [
      "Initial tol: 0.5\n"
     ]
    },
    {
     "name": "stderr",
     "output_type": "stream",
     "text": [
      "Time steps:  54%|███████████████▏            | 553/1020 [01:46<01:14,  6.27it/s]"
     ]
    },
    {
     "name": "stdout",
     "output_type": "stream",
     "text": [
      "Expanded_dim_tot: -29\n",
      "Exceeded maximum trials in Phase 2 without acceptable expansion\n",
      "Final expanded_dim: 0 : 63 ---> 63\n"
     ]
    },
    {
     "name": "stderr",
     "output_type": "stream",
     "text": [
      "Time steps:  54%|███████████████▏            | 555/1020 [01:47<01:20,  5.75it/s]"
     ]
    },
    {
     "name": "stdout",
     "output_type": "stream",
     "text": [
      "Acceptable expansion found in initial attempt: 26\n",
      "Final expanded_dim: 26 : 63 ---> 89\n"
     ]
    },
    {
     "name": "stderr",
     "output_type": "stream",
     "text": [
      "Time steps:  58%|████████████████            | 587/1020 [01:51<00:51,  8.37it/s]"
     ]
    },
    {
     "name": "stdout",
     "output_type": "stream",
     "text": [
      "Initial tol: 0.5\n"
     ]
    },
    {
     "name": "stderr",
     "output_type": "stream",
     "text": [
      "Time steps:  59%|████████████████▍           | 598/1020 [01:53<00:58,  7.18it/s]"
     ]
    },
    {
     "name": "stdout",
     "output_type": "stream",
     "text": [
      "Acceptable expansion found in initial attempt: 31\n",
      "Final expanded_dim: 31 : 86 ---> 117\n"
     ]
    },
    {
     "name": "stderr",
     "output_type": "stream",
     "text": [
      "Time steps:  61%|████████████████▉           | 618/1020 [01:56<01:00,  6.64it/s]"
     ]
    },
    {
     "name": "stdout",
     "output_type": "stream",
     "text": [
      "Initial tol: 0.5\n"
     ]
    },
    {
     "name": "stderr",
     "output_type": "stream",
     "text": [
      "Time steps:  61%|█████████████████           | 622/1020 [01:56<00:57,  6.98it/s]"
     ]
    },
    {
     "name": "stdout",
     "output_type": "stream",
     "text": [
      "Initial tol: 0.5\n",
      "Acceptable expansion found in initial attempt: 21\n",
      "Final expanded_dim: 21 : 80 ---> 101\n"
     ]
    },
    {
     "name": "stderr",
     "output_type": "stream",
     "text": [
      "Time steps:  61%|█████████████████▏          | 627/1020 [01:57<00:50,  7.81it/s]"
     ]
    },
    {
     "name": "stdout",
     "output_type": "stream",
     "text": [
      "Acceptable expansion found in initial attempt: 30\n",
      "Final expanded_dim: 30 : 81 ---> 111\n"
     ]
    },
    {
     "name": "stderr",
     "output_type": "stream",
     "text": [
      "Time steps:  62%|█████████████████▍          | 633/1020 [01:58<01:08,  5.64it/s]"
     ]
    },
    {
     "name": "stdout",
     "output_type": "stream",
     "text": [
      "Initial tol: 0.5\n"
     ]
    },
    {
     "name": "stderr",
     "output_type": "stream",
     "text": [
      "Time steps:  63%|█████████████████▌          | 642/1020 [02:00<01:10,  5.34it/s]"
     ]
    },
    {
     "name": "stdout",
     "output_type": "stream",
     "text": [
      "Initial tol: 0.5\n"
     ]
    },
    {
     "name": "stderr",
     "output_type": "stream",
     "text": [
      "Time steps:  63%|█████████████████▋          | 644/1020 [02:00<00:52,  7.11it/s]"
     ]
    },
    {
     "name": "stdout",
     "output_type": "stream",
     "text": [
      "Acceptable expansion found in initial attempt: 30\n",
      "Final expanded_dim: 30 : 85 ---> 115\n"
     ]
    },
    {
     "name": "stderr",
     "output_type": "stream",
     "text": [
      "Time steps:  63%|█████████████████▋          | 646/1020 [02:01<01:21,  4.61it/s]"
     ]
    },
    {
     "name": "stdout",
     "output_type": "stream",
     "text": [
      "Initial tol: 0.1699999999999998\n"
     ]
    },
    {
     "name": "stderr",
     "output_type": "stream",
     "text": [
      "Time steps:  64%|█████████████████▊          | 649/1020 [02:01<01:31,  4.03it/s]"
     ]
    },
    {
     "name": "stdout",
     "output_type": "stream",
     "text": [
      "Acceptable expansion found in initial attempt: 21\n",
      "Final expanded_dim: 21 : 80 ---> 101\n"
     ]
    },
    {
     "name": "stderr",
     "output_type": "stream",
     "text": [
      "Time steps:  64%|█████████████████▊          | 649/1020 [02:02<01:31,  4.03it/s]"
     ]
    },
    {
     "name": "stdout",
     "output_type": "stream",
     "text": [
      "Acceptable expansion found in initial attempt: 40\n",
      "Final expanded_dim: 40 : 63 ---> 103\n"
     ]
    },
    {
     "name": "stderr",
     "output_type": "stream",
     "text": [
      "Time steps:  66%|██████████████████▌         | 676/1020 [02:08<01:12,  4.75it/s]"
     ]
    },
    {
     "name": "stdout",
     "output_type": "stream",
     "text": [
      "Initial tol: 0.5\n"
     ]
    },
    {
     "name": "stderr",
     "output_type": "stream",
     "text": [
      "Time steps:  67%|██████████████████▋         | 682/1020 [02:09<01:24,  3.99it/s]"
     ]
    },
    {
     "name": "stdout",
     "output_type": "stream",
     "text": [
      "Acceptable expansion found in initial attempt: 27\n",
      "Final expanded_dim: 27 : 84 ---> 111\n"
     ]
    },
    {
     "name": "stderr",
     "output_type": "stream",
     "text": [
      "Time steps:  79%|██████████████████████      | 802/1020 [02:23<00:19, 11.00it/s]"
     ]
    },
    {
     "name": "stdout",
     "output_type": "stream",
     "text": [
      "Initial tol: 0.5\n"
     ]
    },
    {
     "name": "stderr",
     "output_type": "stream",
     "text": [
      "Time steps:  79%|██████████████████████▏     | 808/1020 [02:24<00:19, 10.77it/s]"
     ]
    },
    {
     "name": "stdout",
     "output_type": "stream",
     "text": [
      "Acceptable expansion found in initial attempt: 23\n",
      "Final expanded_dim: 23 : 63 ---> 86\n"
     ]
    },
    {
     "name": "stderr",
     "output_type": "stream",
     "text": [
      "Time steps:  81%|██████████████████████▌     | 824/1020 [02:26<00:17, 11.08it/s]"
     ]
    },
    {
     "name": "stdout",
     "output_type": "stream",
     "text": [
      "Initial tol: 0.5\n",
      "Initial tol: 0.5\n"
     ]
    },
    {
     "name": "stderr",
     "output_type": "stream",
     "text": [
      "Time steps:  81%|██████████████████████▋     | 827/1020 [02:26<00:17, 10.90it/s]"
     ]
    },
    {
     "name": "stdout",
     "output_type": "stream",
     "text": [
      "Acceptable expansion found in initial attempt: 27\n",
      "Final expanded_dim: 27 : 63 ---> 90\n",
      "Acceptable expansion found in initial attempt: 22\n",
      "Final expanded_dim: 22 : 63 ---> 85\n"
     ]
    },
    {
     "name": "stderr",
     "output_type": "stream",
     "text": [
      "Time steps:  81%|██████████████████████▊     | 830/1020 [02:26<00:20,  9.16it/s]"
     ]
    },
    {
     "name": "stdout",
     "output_type": "stream",
     "text": [
      "Initial tol: 0.5\n"
     ]
    },
    {
     "name": "stderr",
     "output_type": "stream",
     "text": [
      "Time steps:  82%|██████████████████████▉     | 834/1020 [02:27<00:24,  7.64it/s]"
     ]
    },
    {
     "name": "stdout",
     "output_type": "stream",
     "text": [
      "Acceptable expansion found in initial attempt: 26\n",
      "Final expanded_dim: 26 : 63 ---> 89\n"
     ]
    },
    {
     "name": "stderr",
     "output_type": "stream",
     "text": [
      "Time steps:  83%|███████████████████████▏    | 846/1020 [02:28<00:18,  9.45it/s]"
     ]
    },
    {
     "name": "stdout",
     "output_type": "stream",
     "text": [
      "Initial tol: 0.5\n"
     ]
    },
    {
     "name": "stderr",
     "output_type": "stream",
     "text": [
      "Time steps:  83%|███████████████████████▎    | 848/1020 [02:29<00:26,  6.46it/s]"
     ]
    },
    {
     "name": "stdout",
     "output_type": "stream",
     "text": [
      "Acceptable expansion found in initial attempt: 22\n",
      "Final expanded_dim: 22 : 63 ---> 85\n"
     ]
    },
    {
     "name": "stderr",
     "output_type": "stream",
     "text": [
      "Time steps:  86%|███████████████████████▉    | 873/1020 [02:32<00:18,  7.90it/s]"
     ]
    },
    {
     "name": "stdout",
     "output_type": "stream",
     "text": [
      "Initial tol: 0.5\n"
     ]
    },
    {
     "name": "stderr",
     "output_type": "stream",
     "text": [
      "Time steps:  86%|████████████████████████    | 876/1020 [02:33<00:25,  5.54it/s]"
     ]
    },
    {
     "name": "stdout",
     "output_type": "stream",
     "text": [
      "Acceptable expansion found in initial attempt: 24\n",
      "Final expanded_dim: 24 : 63 ---> 87\n"
     ]
    },
    {
     "name": "stderr",
     "output_type": "stream",
     "text": [
      "Time steps:  91%|█████████████████████████▌  | 931/1020 [02:41<00:12,  7.37it/s]"
     ]
    },
    {
     "name": "stdout",
     "output_type": "stream",
     "text": [
      "Initial tol: 0.5\n"
     ]
    },
    {
     "name": "stderr",
     "output_type": "stream",
     "text": [
      "Time steps:  92%|█████████████████████████▋  | 938/1020 [02:43<00:19,  4.31it/s]"
     ]
    },
    {
     "name": "stdout",
     "output_type": "stream",
     "text": [
      "Acceptable expansion found in initial attempt: 29\n",
      "Final expanded_dim: 29 : 80 ---> 109\n"
     ]
    },
    {
     "name": "stderr",
     "output_type": "stream",
     "text": [
      "Time steps:  92%|█████████████████████████▉  | 943/1020 [02:44<00:16,  4.80it/s]"
     ]
    },
    {
     "name": "stdout",
     "output_type": "stream",
     "text": [
      "Initial tol: 0.5\n"
     ]
    },
    {
     "name": "stderr",
     "output_type": "stream",
     "text": [
      "Time steps:  93%|██████████████████████████  | 948/1020 [02:46<00:16,  4.49it/s]"
     ]
    },
    {
     "name": "stdout",
     "output_type": "stream",
     "text": [
      "Acceptable expansion found in initial attempt: 29\n",
      "Final expanded_dim: 29 : 80 ---> 109\n"
     ]
    },
    {
     "name": "stderr",
     "output_type": "stream",
     "text": [
      "Time steps:  93%|██████████████████████████▏ | 952/1020 [02:47<00:14,  4.59it/s]"
     ]
    },
    {
     "name": "stdout",
     "output_type": "stream",
     "text": [
      "Initial tol: 0.5\n"
     ]
    },
    {
     "name": "stderr",
     "output_type": "stream",
     "text": [
      "Time steps:  94%|██████████████████████████▏ | 954/1020 [02:48<00:17,  3.87it/s]"
     ]
    },
    {
     "name": "stdout",
     "output_type": "stream",
     "text": [
      "Initial tol: 0.5\n"
     ]
    },
    {
     "name": "stderr",
     "output_type": "stream",
     "text": [
      "Time steps:  94%|██████████████████████████▏ | 956/1020 [02:48<00:17,  3.69it/s]"
     ]
    },
    {
     "name": "stdout",
     "output_type": "stream",
     "text": [
      "Initial tol: 0.5\n"
     ]
    },
    {
     "name": "stderr",
     "output_type": "stream",
     "text": [
      "Time steps:  94%|██████████████████████████▎ | 957/1020 [02:49<00:13,  4.62it/s]"
     ]
    },
    {
     "name": "stdout",
     "output_type": "stream",
     "text": [
      "Acceptable expansion found in initial attempt: 27\n",
      "Final expanded_dim: 27 : 86 ---> 113\n"
     ]
    },
    {
     "name": "stderr",
     "output_type": "stream",
     "text": [
      "Time steps:  94%|██████████████████████████▎ | 959/1020 [02:50<00:18,  3.28it/s]"
     ]
    },
    {
     "name": "stdout",
     "output_type": "stream",
     "text": [
      "Acceptable expansion found in initial attempt: 30\n",
      "Final expanded_dim: 30 : 82 ---> 112\n"
     ]
    },
    {
     "name": "stderr",
     "output_type": "stream",
     "text": [
      "Time steps:  94%|██████████████████████████▍ | 962/1020 [02:51<00:21,  2.64it/s]"
     ]
    },
    {
     "name": "stdout",
     "output_type": "stream",
     "text": [
      "Acceptable expansion found in initial attempt: 32\n",
      "Final expanded_dim: 32 : 86 ---> 118\n"
     ]
    },
    {
     "name": "stderr",
     "output_type": "stream",
     "text": [
      "Time steps:  96%|██████████████████████████▊ | 979/1020 [02:56<00:08,  4.66it/s]"
     ]
    },
    {
     "name": "stdout",
     "output_type": "stream",
     "text": [
      "Initial tol: 0.5\n"
     ]
    },
    {
     "name": "stderr",
     "output_type": "stream",
     "text": [
      "Time steps:  96%|███████████████████████████ | 984/1020 [02:58<00:10,  3.55it/s]"
     ]
    },
    {
     "name": "stdout",
     "output_type": "stream",
     "text": [
      "Acceptable expansion found in initial attempt: 32\n",
      "Final expanded_dim: 32 : 83 ---> 115\n"
     ]
    },
    {
     "name": "stderr",
     "output_type": "stream",
     "text": [
      "Time steps: 100%|███████████████████████████| 1020/1020 [03:11<00:00,  5.32it/s]\n"
     ]
    }
   ],
   "source": [
    "tdvp_tjm.run_TJM(evaluation_time = 1)"
   ]
  },
  {
   "cell_type": "code",
   "execution_count": 46,
   "metadata": {},
   "outputs": [
    {
     "data": {
      "image/png": "[encoded data removed]",
      "text/plain": [
       "<Figure size 800x300 with 2 Axes>"
      ]
     },
     "metadata": {},
     "output_type": "display_data"
    }
   ],
   "source": [
    "import numpy as np\n",
    "import matplotlib.pyplot as plt\n",
    "\n",
    "# Assuming tdvp_tjm.results is a dictionary with numerical arrays:\n",
    "heatmap = np.array(list(tdvp_tjm.results.values()))[:-4,:]\n",
    "vmin = np.min(heatmap)\n",
    "vmax = np.max(heatmap)\n",
    "\n",
    "fig, ax = plt.subplots(1, 1, figsize=(8, 3))\n",
    "L = len(tdvp_tjm.state.nodes.keys())\n",
    "im = ax.imshow(heatmap, aspect='auto', extent=[0, tdvp_tjm.final_time, L, 0],\n",
    "                  cmap='viridis', vmin=vmin, vmax=vmax)\n",
    "ax.set_ylabel('Site')\n",
    "\n",
    "# Centers site ticks\n",
    "ax.set_yticks(np.arange(0, L) + 0.5)\n",
    "ax.set_yticklabels(np.arange(1, L+1))\n",
    "\n",
    "fig.colorbar(im, ax=ax)\n",
    "plt.show()"
   ]
  },
  {
   "cell_type": "code",
   "execution_count": 19,
   "metadata": {},
   "outputs": [
    {
     "data": {
      "text/plain": [
       "[{'Site(0,2)': array([[0., 0.],\n",
       "        [0., 1.]])},\n",
       " {'Site(0,1)': array([[0., 0.],\n",
       "        [0., 1.]])},\n",
       " {'Site(0,0)': array([[0., 0.],\n",
       "        [0., 1.]])},\n",
       " {'Site(1,0)': array([[0., 0.],\n",
       "        [0., 1.]])},\n",
       " {'Site(2,0)': array([[0., 0.],\n",
       "        [0., 1.]])},\n",
       " {'Site(2,1)': array([[0., 0.],\n",
       "        [0., 1.]])},\n",
       " {'Site(3,1)': array([[0., 0.],\n",
       "        [0., 1.]])},\n",
       " {'Site(3,0)': array([[0., 0.],\n",
       "        [0., 1.]])},\n",
       " {'Site(1,1)': array([[0., 0.],\n",
       "        [0., 1.]])},\n",
       " {'Site(1,2)': array([[0., 0.],\n",
       "        [0., 1.]])},\n",
       " {'Site(2,2)': array([[0., 0.],\n",
       "        [0., 1.]])},\n",
       " {'Site(3,2)': array([[0., 0.],\n",
       "        [0., 1.]])},\n",
       " {'Site(3,3)': array([[0., 0.],\n",
       "        [0., 1.]])},\n",
       " {'Site(0,3)': array([[0., 0.],\n",
       "        [0., 1.]])},\n",
       " {'Site(1,3)': array([[0., 0.],\n",
       "        [0., 1.]])},\n",
       " {'Site(2,3)': array([[0., 0.],\n",
       "        [0., 1.]])},\n",
       " {'E': <pytreenet.ttno.ttno_class.TreeTensorNetworkOperator at 0x1ce61d7ff50>},\n",
       " {'N': <pytreenet.ttno.ttno_class.TreeTensorNetworkOperator at 0x1ce65163ad0>}]"
      ]
     },
     "execution_count": 19,
     "metadata": {},
     "output_type": "execute_result"
    }
   ],
   "source": [
    "tdvp_tjm.operators"
   ]
  },
  {
   "cell_type": "code",
   "execution_count": 356,
   "metadata": {},
   "outputs": [
    {
     "data": {
      "text/plain": [
       "array([1.6       , 1.6       , 1.58      , 1.57      , 1.54999995,\n",
       "       1.5449998 , 1.53499696, 1.52999951, 1.5199981 , 1.49499712,\n",
       "       1.46999631, 1.45499393, 1.43998945, 1.41498622, 1.3999841 ,\n",
       "       1.38499388, 1.38496038, 1.36995034, 1.36493743, 1.34495157,\n",
       "       1.33992111, 1.31985989, 1.31483409, 1.30480427, 1.29477294,\n",
       "       1.29972878, 1.28969888, 1.26968535, 1.25464651, 1.24984593,\n",
       "       1.22478963, 1.21983298, 1.20475386, 1.18978427, 1.18466881,\n",
       "       1.17474479, 1.15981839, 1.14515939, 1.12470434, 1.1293856 ,\n",
       "       1.12414695, 1.13389233, 1.10877874, 1.09885882, 1.09363578,\n",
       "       1.07459542, 1.0787767 , 1.05846378, 1.0485255 , 1.0430697 ,\n",
       "       1.03796712])"
      ]
     },
     "execution_count": 356,
     "metadata": {},
     "output_type": "execute_result"
    }
   ],
   "source": [
    "tdvp_tjm.results['V']"
   ]
  },
  {
   "cell_type": "code",
   "execution_count": null,
   "metadata": {},
   "outputs": [
    {
     "data": {
      "image/png": "[encoded data removed]",
      "text/plain": [
       "<Figure size 640x480 with 1 Axes>"
      ]
     },
     "metadata": {},
     "output_type": "display_data"
    }
   ],
   "source": [
    "tdvp_tjm.results.values()\n",
    "plt.plot(tdvp_tjm.results['E'])\n",
    "plt.xlabel('Time')\n",
    "plt.ylabel('Energy')\n",
    "plt.title('Energy vs Time')\n",
    "plt.show()"
   ]
  }
 ],
 "metadata": {
  "kernelspec": {
   "display_name": "Python 3",
   "language": "python",
   "name": "python3"
  },
  "language_info": {
   "codemirror_mode": {
    "name": "ipython",
    "version": 3
   },
   "file_extension": ".py",
   "mimetype": "text/x-python",
   "name": "python",
   "nbconvert_exporter": "python",
   "pygments_lexer": "ipython3",
   "version": "3.12.1"
  }
 },
 "nbformat": 4,
 "nbformat_minor": 2
}
